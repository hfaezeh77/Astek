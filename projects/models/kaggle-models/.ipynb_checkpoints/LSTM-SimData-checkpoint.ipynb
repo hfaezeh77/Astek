{
 "cells": [
  {
   "cell_type": "markdown",
   "metadata": {},
   "source": [
    "<a herf=\"https://www.kaggle.com/ventureh/fraud-detection-using-keras-lstm-rnn\"> Fraud Detection using Keras LSTM (RNN) <a>"
   ]
  },
  {
   "cell_type": "code",
   "execution_count": 5,
   "metadata": {},
   "outputs": [],
   "source": [
    "import numpy as np\n",
    "import pandas as pd\n",
    "import pickle\n",
    "import os, glob"
   ]
  },
  {
   "cell_type": "code",
   "execution_count": 4,
   "metadata": {},
   "outputs": [],
   "source": [
    "from keras import regularizers\n",
    "from keras.models import Sequential\n",
    "from keras.layers import Dense, Dropout\n",
    "from keras.layers.recurrent import LSTM"
   ]
  },
  {
   "cell_type": "code",
   "execution_count": 7,
   "metadata": {},
   "outputs": [],
   "source": [
    "from sklearn.model_selection import train_test_split\n",
    "from sklearn.metrics import accuracy_score\n",
    "from sklearn.metrics import precision_score\n",
    "from sklearn.metrics import recall_score\n",
    "from sklearn.metrics import f1_score\n",
    "from sklearn.metrics import cohen_kappa_score\n",
    "from sklearn.metrics import roc_auc_score\n",
    "from sklearn.metrics import confusion_matrix"
   ]
  },
  {
   "cell_type": "code",
   "execution_count": 6,
   "metadata": {},
   "outputs": [],
   "source": [
    "from tqdm import tqdm\n",
    "import matplotlib.pyplot as plt"
   ]
  },
  {
   "cell_type": "code",
   "execution_count": 8,
   "metadata": {},
   "outputs": [
    {
     "data": {
      "text/plain": [
       "'/home/m.shah/projects/models/kaggle-models'"
      ]
     },
     "execution_count": 8,
     "metadata": {},
     "output_type": "execute_result"
    }
   ],
   "source": [
    "path = os.getcwd()\n",
    "path"
   ]
  },
  {
   "cell_type": "code",
   "execution_count": 9,
   "metadata": {},
   "outputs": [],
   "source": [
    "dfs = []\n",
    "\n",
    "for filename in glob.glob(os.path.join(path, \"../../data/simulated-data-raw/\", \"data\", \"*.pkl\")):\n",
    "    with open(filename, 'rb') as f:\n",
    "        temp = pd.read_pickle(f)\n",
    "        dfs.append(temp)\n",
    "df = pd.DataFrame()\n",
    "df = df.append(dfs)"
   ]
  },
  {
   "cell_type": "code",
   "execution_count": 10,
   "metadata": {},
   "outputs": [
    {
     "data": {
      "text/html": [
       "<div>\n",
       "<style scoped>\n",
       "    .dataframe tbody tr th:only-of-type {\n",
       "        vertical-align: middle;\n",
       "    }\n",
       "\n",
       "    .dataframe tbody tr th {\n",
       "        vertical-align: top;\n",
       "    }\n",
       "\n",
       "    .dataframe thead th {\n",
       "        text-align: right;\n",
       "    }\n",
       "</style>\n",
       "<table border=\"1\" class=\"dataframe\">\n",
       "  <thead>\n",
       "    <tr style=\"text-align: right;\">\n",
       "      <th></th>\n",
       "      <th>TRANSACTION_ID</th>\n",
       "      <th>TX_DATETIME</th>\n",
       "      <th>CUSTOMER_ID</th>\n",
       "      <th>TERMINAL_ID</th>\n",
       "      <th>TX_AMOUNT</th>\n",
       "      <th>TX_TIME_SECONDS</th>\n",
       "      <th>TX_TIME_DAYS</th>\n",
       "      <th>TX_FRAUD</th>\n",
       "      <th>TX_FRAUD_SCENARIO</th>\n",
       "    </tr>\n",
       "  </thead>\n",
       "  <tbody>\n",
       "    <tr>\n",
       "      <th>0</th>\n",
       "      <td>0</td>\n",
       "      <td>2018-04-01 00:00:31</td>\n",
       "      <td>596</td>\n",
       "      <td>3156</td>\n",
       "      <td>57.16</td>\n",
       "      <td>31</td>\n",
       "      <td>0</td>\n",
       "      <td>0</td>\n",
       "      <td>0</td>\n",
       "    </tr>\n",
       "    <tr>\n",
       "      <th>1</th>\n",
       "      <td>1</td>\n",
       "      <td>2018-04-01 00:02:10</td>\n",
       "      <td>4961</td>\n",
       "      <td>3412</td>\n",
       "      <td>81.51</td>\n",
       "      <td>130</td>\n",
       "      <td>0</td>\n",
       "      <td>0</td>\n",
       "      <td>0</td>\n",
       "    </tr>\n",
       "    <tr>\n",
       "      <th>2</th>\n",
       "      <td>2</td>\n",
       "      <td>2018-04-01 00:07:56</td>\n",
       "      <td>2</td>\n",
       "      <td>1365</td>\n",
       "      <td>146.00</td>\n",
       "      <td>476</td>\n",
       "      <td>0</td>\n",
       "      <td>0</td>\n",
       "      <td>0</td>\n",
       "    </tr>\n",
       "    <tr>\n",
       "      <th>3</th>\n",
       "      <td>3</td>\n",
       "      <td>2018-04-01 00:09:29</td>\n",
       "      <td>4128</td>\n",
       "      <td>8737</td>\n",
       "      <td>64.49</td>\n",
       "      <td>569</td>\n",
       "      <td>0</td>\n",
       "      <td>0</td>\n",
       "      <td>0</td>\n",
       "    </tr>\n",
       "    <tr>\n",
       "      <th>4</th>\n",
       "      <td>4</td>\n",
       "      <td>2018-04-01 00:10:34</td>\n",
       "      <td>927</td>\n",
       "      <td>9906</td>\n",
       "      <td>50.99</td>\n",
       "      <td>634</td>\n",
       "      <td>0</td>\n",
       "      <td>0</td>\n",
       "      <td>0</td>\n",
       "    </tr>\n",
       "  </tbody>\n",
       "</table>\n",
       "</div>"
      ],
      "text/plain": [
       "   TRANSACTION_ID         TX_DATETIME CUSTOMER_ID TERMINAL_ID  TX_AMOUNT  \\\n",
       "0               0 2018-04-01 00:00:31         596        3156      57.16   \n",
       "1               1 2018-04-01 00:02:10        4961        3412      81.51   \n",
       "2               2 2018-04-01 00:07:56           2        1365     146.00   \n",
       "3               3 2018-04-01 00:09:29        4128        8737      64.49   \n",
       "4               4 2018-04-01 00:10:34         927        9906      50.99   \n",
       "\n",
       "  TX_TIME_SECONDS TX_TIME_DAYS  TX_FRAUD  TX_FRAUD_SCENARIO  \n",
       "0              31            0         0                  0  \n",
       "1             130            0         0                  0  \n",
       "2             476            0         0                  0  \n",
       "3             569            0         0                  0  \n",
       "4             634            0         0                  0  "
      ]
     },
     "execution_count": 10,
     "metadata": {},
     "output_type": "execute_result"
    }
   ],
   "source": [
    "df.head()"
   ]
  },
  {
   "cell_type": "code",
   "execution_count": 11,
   "metadata": {},
   "outputs": [
    {
     "data": {
      "image/png": "[encoded data removed]",
      "text/plain": [
       "<Figure size 432x288 with 1 Axes>"
      ]
     },
     "metadata": {},
     "output_type": "display_data"
    }
   ],
   "source": [
    "portions = df[\"TX_FRAUD\"].value_counts().to_dict()\n",
    "plt.pie(portions.values(), \n",
    "        portions.keys(),\n",
    "        labels = [\"Normal\", \"Fraud\"], \n",
    "        radius = 2,\n",
    "        autopct='%1.1f%%',\n",
    "       colors = [\"green\", \"yellow\"])\n",
    "plt.show()"
   ]
  },
  {
   "cell_type": "code",
   "execution_count": 12,
   "metadata": {},
   "outputs": [],
   "source": [
    "customer_tx_count = df[\"CUSTOMER_ID\"].value_counts().to_dict()"
   ]
  },
  {
   "cell_type": "code",
   "execution_count": 13,
   "metadata": {},
   "outputs": [
    {
     "data": {
      "text/plain": [
       "<AxesSubplot:ylabel='Density'>"
      ]
     },
     "execution_count": 13,
     "metadata": {},
     "output_type": "execute_result"
    },
    {
     "data": {
      "image/png": "[encoded data removed]",
      "text/plain": [
       "<Figure size 432x288 with 1 Axes>"
      ]
     },
     "metadata": {
      "needs_background": "light"
     },
     "output_type": "display_data"
    }
   ],
   "source": [
    "pd.Series(list(customer_tx_count.values())).plot(kind = 'density')"
   ]
  },
  {
   "cell_type": "code",
   "execution_count": 65,
   "metadata": {},
   "outputs": [],
   "source": [
    "class PreProcessor:    \n",
    "    def __init__(self, input_data):\n",
    "        self.data = input_data\n",
    "\n",
    "#     def noramlize(self):\n",
    "#         pass\n",
    "    \n",
    "    def pre_process(self, \n",
    "                    feature_columns,\n",
    "                    label_columns,\n",
    "                    categoricals = None,\n",
    "                    test_train_split = 0.5\n",
    "                    imbalanced = False):\n",
    "        data_x = pd.DataFrame(input_data[feature_columns])\n",
    "        data_y= pd.DataFrame(input_data[label_columns]):\n",
    "        \n",
    "        #Balance Data\n",
    "        if imbalanced:\n",
    "            self.stratify(data_x, data_y)\n",
    "        else:\n",
    "            self.train_idx = np.random.choice(self.data_x.shape[0], \n",
    "                                          int(self.data_x.shape[0]*test_train_split), replace=False)\n",
    "        #OneHotEncoding\n",
    "        if categorical is not None:\n",
    "            self.encode(data_x, data_y, categoricals)\n",
    "        #Train_test_split\n",
    "        self.X_train = self.data_x[self.train_idx, :, :]\n",
    "        self.X_test = np.delete(self.data_x, self.train_idx, axis=0)\n",
    "        self.y_train = self.data_y[self.train_idx,1]\n",
    "        self.y_test = np.delete(self.data_y, self.train_idx, axis=0)\n",
    "        self.y_test = self.y_test[:,1]\n",
    "        return self.X_train, self.X_test, self.y_train, self.y_test\n",
    "    \n",
    "    def stratify(self):\n",
    "        y = np.vstack((range(len(self.data_y)),self.data_y)).T\n",
    "        y_anomal = y[y[:,1]==1]\n",
    "        y_normal = y[y[:,1]==0]\n",
    "        y_anomal = y_anomal[np.random.choice(y_anomal.shape[0], int(y_anomal.shape[0]*test_train_split), replace=False),:]\n",
    "        y_normal = y_normal[np.random.choice(y_normal.shape[0], int(y_normal.shape[0]*test_train_split), replace=False),:]\n",
    "\n",
    "        self.train_idx = np.array(np.hstack((y_anomal[:,0],y_normal[:,0])), dtype='int')\n",
    "        \n",
    "    def encode(self, categoricals):\n",
    "        if categoricals[0] is not None:\n",
    "            self.data_x = pd.get_dummies(self.data_x, columns = categorical[0])\n",
    "        if categoricals[1] is not None:\n",
    "            data_y = pd.get_dummies(self.data_y, columns = categorical[1])\n",
    "        \n",
    "# else: \n",
    "#     \n",
    "#     X_train2 = input_x_tensor[train_indc, :, :]\n",
    "#     X_test2 = np.delete(input_x_tensor, train_indc, axis=0)\n",
    "#     y_train2 = input_y[train_indc]\n",
    "#     y_test2 = np.delete(input_y, train_indc, axis=0)\n",
    "\n",
    "\n",
    "        "
   ]
  },
  {
   "cell_type": "code",
   "execution_count": 15,
   "metadata": {},
   "outputs": [],
   "source": [
    "#Feature Define\n",
    "if \"WEEK_DAY\" not in df.columns:\n",
    "    df.insert(7, \"WEEK_DAY\", df[\"TX_DATETIME\"].apply(lambda x : x.weekday()))\n",
    "\n",
    "#Feature Selection\n",
    "selected_features = [\"CUSTOMER_ID\", \n",
    "                     \"TERMINAL_ID\", \n",
    "                     'TX_AMOUNT', \n",
    "                     'TX_TIME_SECONDS', \n",
    "                     'TX_TIME_DAYS', \n",
    "                     \"WEEK_DAY\"]"
   ]
  },
  {
   "cell_type": "code",
   "execution_count": 16,
   "metadata": {},
   "outputs": [],
   "source": [
    "pre_processor = PreProcessor()\n",
    "data_x, data_y = pre_processor.pre_process(df.iloc[:,:9], \n",
    "                                           selected_features, [\"TX_FRAUD\"],\n",
    "                                           stratify = False,categorical = [[\"WEEK_DAY\"], None])\n",
    "data_y = np.array(data_y)\n",
    "\n",
    "# train_x, test_x, train_y, test_y = train_test_split(data_x, data_y, test_size = 0.2)"
   ]
  },
  {
   "cell_type": "code",
   "execution_count": 17,
   "metadata": {},
   "outputs": [
    {
     "data": {
      "text/plain": [
       "((1754155, 12), (1754155, 1))"
      ]
     },
     "execution_count": 17,
     "metadata": {},
     "output_type": "execute_result"
    }
   ],
   "source": [
    "data_x.shape, data_y.shape"
   ]
  },
  {
   "cell_type": "code",
   "execution_count": 18,
   "metadata": {},
   "outputs": [
    {
     "data": {
      "text/plain": [
       "(1754155, 128, 12)"
      ]
     },
     "execution_count": 18,
     "metadata": {},
     "output_type": "execute_result"
    }
   ],
   "source": [
    "#PARAMS\n",
    "time_window = 128 \n",
    "\n",
    "train_samples, n_features = data_x.shape[0], data_x.shape[1]\n",
    "params = train_samples, time_window, n_features\n",
    "\n",
    "# test_samples = test_x.shape[0]\n",
    "# test_params =  test_samples, time_window, n_features\n",
    "\n",
    "\n",
    "params"
   ]
  },
  {
   "cell_type": "code",
   "execution_count": 20,
   "metadata": {},
   "outputs": [
    {
     "data": {
      "text/plain": [
       "(17541450, 12)"
      ]
     },
     "execution_count": 20,
     "metadata": {},
     "output_type": "execute_result"
    }
   ],
   "source": [
    "rolling_window_size = 10\n",
    "input_x = np.zeros([(data_x.shape[0]-rolling_window_size)*10, n_features], dtype = 'float32')\n",
    "input_y = []\n",
    "input_x.shape"
   ]
  },
  {
   "cell_type": "code",
   "execution_count": 22,
   "metadata": {},
   "outputs": [],
   "source": [
    "finishes = np.array(range(10,input_x.shape[0]+1))\n",
    "starts = np.array(range(0, input_x.shape[0]-9))"
   ]
  },
  {
   "cell_type": "code",
   "execution_count": 23,
   "metadata": {},
   "outputs": [
    {
     "data": {
      "text/plain": [
       "True"
      ]
     },
     "execution_count": 23,
     "metadata": {},
     "output_type": "execute_result"
    }
   ],
   "source": [
    "len(starts) == len(finishes)"
   ]
  },
  {
   "cell_type": "code",
   "execution_count": 26,
   "metadata": {},
   "outputs": [
    {
     "name": "stderr",
     "output_type": "stream",
     "text": [
      "100%|█████████████████████████████████████████████████████████████████████████| 1754145/1754145 [15:24<00:00, 1897.69it/s]\n"
     ]
    }
   ],
   "source": [
    "# starts = []\n",
    "# finishes = []\n",
    "\n",
    "for i in tqdm(range(data_x.shape[0]-rolling_window_size)):\n",
    "#     start = 0+i\n",
    "#     finish = start+rolling_window_size\n",
    "#     if finish in finishes:\n",
    "#         print(finish, \"i:\", i)\n",
    "#     finishes.append(finish)\n",
    "#     starts.append(start)\n",
    "    s = np.array(data_x[beg:end], dtype='float')\n",
    "    input_x[(rolling_window_size*i):(rolling_window_size*(i+1)),:] = s\n",
    "    input_y.append(data_y[end, ])\n",
    "#     print(x_interim)\n",
    "#     print(y_interim)\n",
    "#     print(i)\n",
    "# data_y = np.array(y, dtype='float')\n",
    "# data_x_interim = X_interim[:,1::]"
   ]
  },
  {
   "cell_type": "code",
   "execution_count": 32,
   "metadata": {},
   "outputs": [
    {
     "data": {
      "text/plain": [
       "True"
      ]
     },
     "execution_count": 32,
     "metadata": {},
     "output_type": "execute_result"
    }
   ],
   "source": [
    "input_x.shape[0] == 10*len(input_y)"
   ]
  },
  {
   "cell_type": "code",
   "execution_count": 33,
   "metadata": {},
   "outputs": [],
   "source": [
    "with open(\"input_x.pickle\", \"wb\") as f:\n",
    "    pickle.dump(input_x, f)"
   ]
  },
  {
   "cell_type": "code",
   "execution_count": 29,
   "metadata": {},
   "outputs": [],
   "source": [
    "with open(\"input_x.pickle\", \"rb\") as f:\n",
    "    input_x = pickle.load(f)"
   ]
  },
  {
   "cell_type": "code",
   "execution_count": 34,
   "metadata": {},
   "outputs": [],
   "source": [
    "with open(\"input_y.pickle\", \"wb\") as f:\n",
    "    pickle.dump(input_y, f)"
   ]
  },
  {
   "cell_type": "code",
   "execution_count": 30,
   "metadata": {},
   "outputs": [],
   "source": [
    "with open(\"input_y.pickle\", \"rb\") as f:\n",
    "    input_y = pickle.load(f)"
   ]
  },
  {
   "cell_type": "code",
   "execution_count": 31,
   "metadata": {},
   "outputs": [
    {
     "data": {
      "text/plain": [
       "array([4.606000e+03, 9.942000e+03, 5.733000e+01, 1.148203e+06,\n",
       "       1.300000e+01, 0.000000e+00, 0.000000e+00, 0.000000e+00,\n",
       "       0.000000e+00, 0.000000e+00, 1.000000e+00, 0.000000e+00],\n",
       "      dtype=float32)"
      ]
     },
     "execution_count": 31,
     "metadata": {},
     "output_type": "execute_result"
    }
   ],
   "source": [
    "input_x[1,:]"
   ]
  },
  {
   "cell_type": "code",
   "execution_count": 32,
   "metadata": {},
   "outputs": [],
   "source": [
    "input_x_tensor = input_x.reshape(int(np.shape(input_x)[0]/rolling_window_size), rolling_window_size, np.shape(input_x)[1])"
   ]
  },
  {
   "cell_type": "code",
   "execution_count": 34,
   "metadata": {},
   "outputs": [],
   "source": [
    "test_train_split = 0.5\n",
    "train_indc = np.random.choice(input_x_tensor.shape[0], int(input_x_tensor.shape[0]*test_train_split), replace=False)\n",
    "type(train_indc[0])\n",
    "type(input_y)\n",
    "input_y = np.array(input_y)"
   ]
  },
  {
   "cell_type": "code",
   "execution_count": 35,
   "metadata": {},
   "outputs": [],
   "source": [
    "test_train_split = 0.5\n",
    "stratify = False\n",
    "\n",
    "if stratify:\n",
    "    y = np.vstack((range(len(y)),y)).T\n",
    "    y_pos = y[y[:,1]==1]\n",
    "    y_neg = y[y[:,1]==0]\n",
    "    \n",
    "    y_pos = y_pos[np.random.choice(y_pos.shape[0], int(y_pos.shape[0]*test_train_split), replace=False),:]\n",
    "    y_neg = y_neg[np.random.choice(y_neg.shape[0], int(y_neg.shape[0]*test_train_split), replace=False),:]\n",
    "    \n",
    "    train_idx = np.array(np.hstack((y_pos[:,0],y_neg[:,0])), dtype='int')\n",
    "    \n",
    "    X_train = X_tensor[train_idx, :, :]\n",
    "    X_test = np.delete(X_tensor, train_idx, axis=0)\n",
    "    y_train = y[train_idx,1]\n",
    "    y_test = np.delete(y, train_idx, axis=0)\n",
    "    y_test = y_test[:,1]\n",
    "else: \n",
    "    train_indc = np.random.choice(input_x_tensor.shape[0], int(input_x_tensor.shape[0]*test_train_split), replace=False)\n",
    "    X_train2 = input_x_tensor[train_indc, :, :]\n",
    "    X_test2 = np.delete(input_x_tensor, train_indc, axis=0)\n",
    "    y_train2 = input_y[train_indc]\n",
    "    y_test2 = np.delete(input_y, train_indc, axis=0)\n",
    "\n",
    "# del (X_tensor, y, stratify, test_train_split, train_idx, y_neg, y_pos)"
   ]
  },
  {
   "cell_type": "code",
   "execution_count": 52,
   "metadata": {},
   "outputs": [
    {
     "data": {
      "text/plain": [
       "((877072, 10, 12), 877072)"
      ]
     },
     "execution_count": 52,
     "metadata": {},
     "output_type": "execute_result"
    }
   ],
   "source": [
    "X_train2.shape, len(y_train2)"
   ]
  },
  {
   "cell_type": "code",
   "execution_count": 56,
   "metadata": {},
   "outputs": [
    {
     "name": "stdout",
     "output_type": "stream",
     "text": [
      "Model: \"sequential_1\"\n",
      "_________________________________________________________________\n",
      "Layer (type)                 Output Shape              Param #   \n",
      "=================================================================\n",
      "lstm_1 (LSTM)                (None, 20)                2640      \n",
      "_________________________________________________________________\n",
      "dense_1 (Dense)              (None, 1)                 21        \n",
      "=================================================================\n",
      "Total params: 2,661\n",
      "Trainable params: 2,661\n",
      "Non-trainable params: 0\n",
      "_________________________________________________________________\n",
      "None\n"
     ]
    }
   ],
   "source": [
    "### Hyperparameters Tuning\n",
    "# First test optimal epochs holding everything else constant\n",
    "# Dropout: 0.1-0.6\n",
    "# GradientClipping: 0.1-10\n",
    "# BatchSize: 32,64,128,256,512 (power of 2)\n",
    "\n",
    "\n",
    "### Train LSTM using Keras 2 API ###\n",
    "model2 = Sequential()\n",
    "model2.add(LSTM(20, input_shape=X_train2.shape[1:], kernel_initializer='lecun_uniform', activation='relu', kernel_regularizer=regularizers.l1(), recurrent_regularizer=regularizers.l1(0.01), bias_regularizer=None, activity_regularizer=None, dropout=0.2, recurrent_dropout=0.2))#, return_sequences=True))\n",
    "#model.add(LSTM(12, activation='relu', return_sequences=True))\n",
    "#model.add(LSTM(8, activation='relu'))\n",
    "model2.add(Dense(1, kernel_initializer='lecun_uniform', activation='sigmoid'))\n",
    "\n",
    "model2.compile(loss='binary_crossentropy', optimizer='adam', metrics=['accuracy']) #optimizer='rmsprop'\n",
    "print(model2.summary())"
   ]
  },
  {
   "cell_type": "code",
   "execution_count": 60,
   "metadata": {},
   "outputs": [],
   "source": [
    "class LSTM_MODEL:\n",
    "    def __init__(self,\n",
    "                 input_shape,\n",
    "                 n_outputs = 1):\n",
    "        self.model = Sequential()\n",
    "        self.model.add(LSTM(10, input_shape=input_shape,\n",
    "                            kernel_initializer='lecun_uniform', \n",
    "                            activation='relu', \n",
    "                            kernel_regularizer=regularizers.l1(), \n",
    "                            recurrent_regularizer=regularizers.l1(0.01), \n",
    "                            bias_regularizer=None, \n",
    "                            activity_regularizer=None, \n",
    "                            dropout=0.2, recurrent_dropout=0.2))#, return_sequences=True))            \n",
    "        self.model.add(Dropout(0.5))\n",
    "        self.model.add(Dense(n_outputs, \n",
    "                             kernel_initializer='lecun_uniform',\n",
    "                             activation='sigmoid'))\n",
    "        self.model.compile(loss='binary_crossentropy', \n",
    "                           optimizer='adam', \n",
    "                           metrics=['accuracy']) #optimizer='rmsprop'\n",
    "        self.model.build()\n",
    "        print(\"Model Summary: \\n\\n\", self.model.summary())\n",
    "        self.model\n",
    "        \n",
    "    def train(self, train_x, train_y, batch_size = 100, epochs  =1):\n",
    "#         self.model.compile(loss='categorical_crossentropy', \n",
    "#                            optimizer='adam',\n",
    "#                            metrics=['accuracy'])\n",
    "# X_train, y_train, epochs=100\n",
    "# , batch_size=10000, \n",
    "# class_weight={0 : 1., 1: float(int(1/np.mean(y_train)))}, validation_split=0.3)\n",
    "        result = self.model.fit(train_x,\n",
    "                                train_y, \n",
    "                                batch_size = batch_size, \n",
    "                                epochs = epochs)\n",
    "        return result\n",
    "    \n",
    "#     def evaluate(self, train_x, train_y):\n",
    "#         _, train_loss = self.model.evaluate(train_x, train_y)\n",
    "#         print(\"Train Loss is: %f\" %train_loss)\n",
    "        \n",
    "#     def predict_classes(self, test_x):\n",
    "#         return self.model.predict_classes(test_x)"
   ]
  },
  {
   "cell_type": "code",
   "execution_count": 63,
   "metadata": {},
   "outputs": [
    {
     "name": "stdout",
     "output_type": "stream",
     "text": [
      "Model: \"sequential_6\"\n",
      "_________________________________________________________________\n",
      "Layer (type)                 Output Shape              Param #   \n",
      "=================================================================\n",
      "lstm_5 (LSTM)                (None, 10)                920       \n",
      "_________________________________________________________________\n",
      "dropout_4 (Dropout)          (None, 10)                0         \n",
      "_________________________________________________________________\n",
      "dense_4 (Dense)              (None, 1)                 11        \n",
      "=================================================================\n",
      "Total params: 931\n",
      "Trainable params: 931\n",
      "Non-trainable params: 0\n",
      "_________________________________________________________________\n",
      "Model Summary: \n",
      "\n",
      " None\n"
     ]
    }
   ],
   "source": [
    "model = LSTM_MODEL(X_train2.shape[1:], 1)"
   ]
  },
  {
   "cell_type": "code",
   "execution_count": 64,
   "metadata": {},
   "outputs": [
    {
     "name": "stdout",
     "output_type": "stream",
     "text": [
      "88/88 [==============================] - 27s 257ms/step - loss: 70695.3700 - accuracy: 0.6738\n"
     ]
    }
   ],
   "source": [
    "result = model.train(X_train2, y_train2, batch_size=10000, epochs=1)"
   ]
  },
  {
   "cell_type": "code",
   "execution_count": 70,
   "metadata": {},
   "outputs": [],
   "source": [
    "yy = model2.predict(X_test2[:100])"
   ]
  },
  {
   "cell_type": "code",
   "execution_count": 72,
   "metadata": {},
   "outputs": [],
   "source": [
    "yy[yy <= 0.5] = 1"
   ]
  }
 ],
 "metadata": {
  "kernelspec": {
   "display_name": "tensorflow",
   "language": "python",
   "name": "tensorflow"
  },
  "language_info": {
   "codemirror_mode": {
    "name": "ipython",
    "version": 3
   },
   "file_extension": ".py",
   "mimetype": "text/x-python",
   "name": "python",
   "nbconvert_exporter": "python",
   "pygments_lexer": "ipython3",
   "version": "3.8.10"
  }
 },
 "nbformat": 4,
 "nbformat_minor": 4
}
