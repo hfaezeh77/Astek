{
 "cells": [
  {
   "cell_type": "code",
   "execution_count": 12,
   "metadata": {
    "execution": {
     "iopub.execute_input": "2021-07-05T08:49:46.826289Z",
     "iopub.status.busy": "2021-07-05T08:49:46.825809Z",
     "iopub.status.idle": "2021-07-05T08:49:47.861410Z",
     "shell.execute_reply": "2021-07-05T08:49:47.860345Z",
     "shell.execute_reply.started": "2021-07-05T08:49:46.826168Z"
    }
   },
   "outputs": [],
   "source": [
    "import numpy as np\n",
    "import pandas as pd\n",
    "import pickle\n",
    "import os, glob\n",
    "import logging\n",
    "import seaborn as sns"
   ]
  },
  {
   "cell_type": "code",
   "execution_count": 13,
   "metadata": {
    "execution": {
     "iopub.execute_input": "2021-07-05T08:49:49.047905Z",
     "iopub.status.busy": "2021-07-05T08:49:49.047544Z",
     "iopub.status.idle": "2021-07-05T08:49:50.991289Z",
     "shell.execute_reply": "2021-07-05T08:49:50.990083Z",
     "shell.execute_reply.started": "2021-07-05T08:49:49.047860Z"
    }
   },
   "outputs": [],
   "source": [
    "from keras import optimizers\n",
    "from keras import regularizers\n",
    "from keras.models import Sequential\n",
    "from keras.layers import Dense, Dropout\n",
    "from keras.layers.recurrent import LSTM"
   ]
  },
  {
   "cell_type": "code",
   "execution_count": 14,
   "metadata": {
    "execution": {
     "iopub.execute_input": "2021-07-05T08:49:50.992821Z",
     "iopub.status.busy": "2021-07-05T08:49:50.992573Z",
     "iopub.status.idle": "2021-07-05T08:49:51.202912Z",
     "shell.execute_reply": "2021-07-05T08:49:51.201829Z",
     "shell.execute_reply.started": "2021-07-05T08:49:50.992788Z"
    }
   },
   "outputs": [],
   "source": [
    "from sklearn.model_selection import train_test_split\n",
    "from sklearn.metrics import accuracy_score\n",
    "from sklearn.metrics import precision_score\n",
    "from sklearn.metrics import recall_score\n",
    "from sklearn.metrics import f1_score\n",
    "from sklearn.metrics import cohen_kappa_score\n",
    "from sklearn.metrics import roc_auc_score\n",
    "from sklearn.metrics import confusion_matrix\n",
    "from sklearn.preprocessing import MinMaxScaler\n",
    "import joblib"
   ]
  },
  {
   "cell_type": "code",
   "execution_count": 25,
   "metadata": {
    "execution": {
     "iopub.execute_input": "2021-07-05T08:49:51.204696Z",
     "iopub.status.busy": "2021-07-05T08:49:51.204444Z",
     "iopub.status.idle": "2021-07-05T08:49:51.213171Z",
     "shell.execute_reply": "2021-07-05T08:49:51.212372Z",
     "shell.execute_reply.started": "2021-07-05T08:49:51.204662Z"
    }
   },
   "outputs": [],
   "source": [
    "from tqdm import tqdm\n",
    "import matplotlib.pyplot as plt\n",
    "import tabulate"
   ]
  },
  {
   "cell_type": "code",
   "execution_count": 16,
   "metadata": {
    "execution": {
     "iopub.execute_input": "2021-07-05T08:49:52.651426Z",
     "iopub.status.busy": "2021-07-05T08:49:52.651034Z",
     "iopub.status.idle": "2021-07-05T08:49:52.662059Z",
     "shell.execute_reply": "2021-07-05T08:49:52.660896Z",
     "shell.execute_reply.started": "2021-07-05T08:49:52.651369Z"
    }
   },
   "outputs": [
    {
     "data": {
      "text/plain": [
       "'/home/m.shah/projects/models/kaggle-models'"
      ]
     },
     "execution_count": 16,
     "metadata": {},
     "output_type": "execute_result"
    }
   ],
   "source": [
    "path = os.getcwd()\n",
    "path"
   ]
  },
  {
   "cell_type": "markdown",
   "metadata": {},
   "source": [
    "## Loading Data"
   ]
  },
  {
   "cell_type": "code",
   "execution_count": 17,
   "metadata": {
    "execution": {
     "iopub.execute_input": "2021-07-05T08:49:54.025381Z",
     "iopub.status.busy": "2021-07-05T08:49:54.024994Z",
     "iopub.status.idle": "2021-07-05T08:49:55.201321Z",
     "shell.execute_reply": "2021-07-05T08:49:55.200124Z",
     "shell.execute_reply.started": "2021-07-05T08:49:54.025334Z"
    }
   },
   "outputs": [],
   "source": [
    "dfs = []\n",
    "\n",
    "for filename in glob.glob(os.path.join(path, \"../../data/simulated-data-raw/\", \"data\", \"*.pkl\")):\n",
    "    with open(filename, 'rb') as f:\n",
    "        temp = pd.read_pickle(f)\n",
    "        dfs.append(temp)\n",
    "df = pd.DataFrame()\n",
    "df = df.append(dfs)"
   ]
  },
  {
   "cell_type": "code",
   "execution_count": 18,
   "metadata": {
    "execution": {
     "iopub.execute_input": "2021-07-04T12:48:17.948064Z",
     "iopub.status.busy": "2021-07-04T12:48:17.947787Z",
     "iopub.status.idle": "2021-07-04T12:48:18.265623Z",
     "shell.execute_reply": "2021-07-04T12:48:18.264282Z",
     "shell.execute_reply.started": "2021-07-04T12:48:17.948030Z"
    }
   },
   "outputs": [],
   "source": [
    "df = df.iloc[:, [0, 1, 2, 3, 4, 5, 6, 8, 7]]"
   ]
  },
  {
   "cell_type": "code",
   "execution_count": 19,
   "metadata": {
    "execution": {
     "iopub.execute_input": "2021-07-05T08:49:55.457571Z",
     "iopub.status.busy": "2021-07-05T08:49:55.457292Z",
     "iopub.status.idle": "2021-07-05T08:49:55.481090Z",
     "shell.execute_reply": "2021-07-05T08:49:55.480122Z",
     "shell.execute_reply.started": "2021-07-05T08:49:55.457539Z"
    }
   },
   "outputs": [
    {
     "data": {
      "text/html": [
       "<div>\n",
       "<style scoped>\n",
       "    .dataframe tbody tr th:only-of-type {\n",
       "        vertical-align: middle;\n",
       "    }\n",
       "\n",
       "    .dataframe tbody tr th {\n",
       "        vertical-align: top;\n",
       "    }\n",
       "\n",
       "    .dataframe thead th {\n",
       "        text-align: right;\n",
       "    }\n",
       "</style>\n",
       "<table border=\"1\" class=\"dataframe\">\n",
       "  <thead>\n",
       "    <tr style=\"text-align: right;\">\n",
       "      <th></th>\n",
       "      <th>TRANSACTION_ID</th>\n",
       "      <th>TX_DATETIME</th>\n",
       "      <th>CUSTOMER_ID</th>\n",
       "      <th>TERMINAL_ID</th>\n",
       "      <th>TX_AMOUNT</th>\n",
       "      <th>TX_TIME_SECONDS</th>\n",
       "      <th>TX_TIME_DAYS</th>\n",
       "      <th>TX_FRAUD_SCENARIO</th>\n",
       "      <th>TX_FRAUD</th>\n",
       "    </tr>\n",
       "  </thead>\n",
       "  <tbody>\n",
       "    <tr>\n",
       "      <th>0</th>\n",
       "      <td>0</td>\n",
       "      <td>2018-04-01 00:00:31</td>\n",
       "      <td>596</td>\n",
       "      <td>3156</td>\n",
       "      <td>57.16</td>\n",
       "      <td>31</td>\n",
       "      <td>0</td>\n",
       "      <td>0</td>\n",
       "      <td>0</td>\n",
       "    </tr>\n",
       "    <tr>\n",
       "      <th>1</th>\n",
       "      <td>1</td>\n",
       "      <td>2018-04-01 00:02:10</td>\n",
       "      <td>4961</td>\n",
       "      <td>3412</td>\n",
       "      <td>81.51</td>\n",
       "      <td>130</td>\n",
       "      <td>0</td>\n",
       "      <td>0</td>\n",
       "      <td>0</td>\n",
       "    </tr>\n",
       "    <tr>\n",
       "      <th>2</th>\n",
       "      <td>2</td>\n",
       "      <td>2018-04-01 00:07:56</td>\n",
       "      <td>2</td>\n",
       "      <td>1365</td>\n",
       "      <td>146.00</td>\n",
       "      <td>476</td>\n",
       "      <td>0</td>\n",
       "      <td>0</td>\n",
       "      <td>0</td>\n",
       "    </tr>\n",
       "    <tr>\n",
       "      <th>3</th>\n",
       "      <td>3</td>\n",
       "      <td>2018-04-01 00:09:29</td>\n",
       "      <td>4128</td>\n",
       "      <td>8737</td>\n",
       "      <td>64.49</td>\n",
       "      <td>569</td>\n",
       "      <td>0</td>\n",
       "      <td>0</td>\n",
       "      <td>0</td>\n",
       "    </tr>\n",
       "    <tr>\n",
       "      <th>4</th>\n",
       "      <td>4</td>\n",
       "      <td>2018-04-01 00:10:34</td>\n",
       "      <td>927</td>\n",
       "      <td>9906</td>\n",
       "      <td>50.99</td>\n",
       "      <td>634</td>\n",
       "      <td>0</td>\n",
       "      <td>0</td>\n",
       "      <td>0</td>\n",
       "    </tr>\n",
       "  </tbody>\n",
       "</table>\n",
       "</div>"
      ],
      "text/plain": [
       "   TRANSACTION_ID         TX_DATETIME CUSTOMER_ID TERMINAL_ID  TX_AMOUNT  \\\n",
       "0               0 2018-04-01 00:00:31         596        3156      57.16   \n",
       "1               1 2018-04-01 00:02:10        4961        3412      81.51   \n",
       "2               2 2018-04-01 00:07:56           2        1365     146.00   \n",
       "3               3 2018-04-01 00:09:29        4128        8737      64.49   \n",
       "4               4 2018-04-01 00:10:34         927        9906      50.99   \n",
       "\n",
       "  TX_TIME_SECONDS TX_TIME_DAYS  TX_FRAUD_SCENARIO  TX_FRAUD  \n",
       "0              31            0                  0         0  \n",
       "1             130            0                  0         0  \n",
       "2             476            0                  0         0  \n",
       "3             569            0                  0         0  \n",
       "4             634            0                  0         0  "
      ]
     },
     "execution_count": 19,
     "metadata": {},
     "output_type": "execute_result"
    }
   ],
   "source": [
    "df.head()"
   ]
  },
  {
   "cell_type": "code",
   "execution_count": 8,
   "metadata": {
    "execution": {
     "iopub.execute_input": "2021-07-05T08:49:56.970280Z",
     "iopub.status.busy": "2021-07-05T08:49:56.969885Z",
     "iopub.status.idle": "2021-07-05T08:49:56.977711Z",
     "shell.execute_reply": "2021-07-05T08:49:56.976710Z",
     "shell.execute_reply.started": "2021-07-05T08:49:56.970234Z"
    }
   },
   "outputs": [
    {
     "data": {
      "text/plain": [
       "Index(['TRANSACTION_ID', 'TX_DATETIME', 'CUSTOMER_ID', 'TERMINAL_ID',\n",
       "       'TX_AMOUNT', 'TX_TIME_SECONDS', 'TX_TIME_DAYS', 'TX_FRAUD',\n",
       "       'TX_FRAUD_SCENARIO'],\n",
       "      dtype='object')"
      ]
     },
     "execution_count": 8,
     "metadata": {},
     "output_type": "execute_result"
    }
   ],
   "source": [
    "df.columns"
   ]
  },
  {
   "cell_type": "code",
   "execution_count": 71,
   "metadata": {
    "execution": {
     "iopub.execute_input": "2021-07-05T08:50:00.597958Z",
     "iopub.status.busy": "2021-07-05T08:50:00.597554Z",
     "iopub.status.idle": "2021-07-05T08:50:00.625214Z",
     "shell.execute_reply": "2021-07-05T08:50:00.623950Z",
     "shell.execute_reply.started": "2021-07-05T08:50:00.597912Z"
    }
   },
   "outputs": [
    {
     "data": {
      "text/html": [
       "<div>\n",
       "<style scoped>\n",
       "    .dataframe tbody tr th:only-of-type {\n",
       "        vertical-align: middle;\n",
       "    }\n",
       "\n",
       "    .dataframe tbody tr th {\n",
       "        vertical-align: top;\n",
       "    }\n",
       "\n",
       "    .dataframe thead th {\n",
       "        text-align: right;\n",
       "    }\n",
       "</style>\n",
       "<table border=\"1\" class=\"dataframe\">\n",
       "  <thead>\n",
       "    <tr style=\"text-align: right;\">\n",
       "      <th></th>\n",
       "      <th>TRANSACTION_ID</th>\n",
       "      <th>TX_DATETIME</th>\n",
       "      <th>CUSTOMER_ID</th>\n",
       "      <th>TERMINAL_ID</th>\n",
       "      <th>TX_AMOUNT</th>\n",
       "      <th>TX_TIME_SECONDS</th>\n",
       "      <th>TX_TIME_DAYS</th>\n",
       "      <th>WEEK_DAY</th>\n",
       "      <th>TX_FRAUD_SCENARIO</th>\n",
       "      <th>TX_FRAUD</th>\n",
       "    </tr>\n",
       "  </thead>\n",
       "  <tbody>\n",
       "    <tr>\n",
       "      <th>0</th>\n",
       "      <td>0</td>\n",
       "      <td>2018-04-01 00:00:31</td>\n",
       "      <td>596</td>\n",
       "      <td>3156</td>\n",
       "      <td>57.16</td>\n",
       "      <td>31</td>\n",
       "      <td>0</td>\n",
       "      <td>6</td>\n",
       "      <td>0</td>\n",
       "      <td>0</td>\n",
       "    </tr>\n",
       "    <tr>\n",
       "      <th>1</th>\n",
       "      <td>1</td>\n",
       "      <td>2018-04-01 00:02:10</td>\n",
       "      <td>4961</td>\n",
       "      <td>3412</td>\n",
       "      <td>81.51</td>\n",
       "      <td>130</td>\n",
       "      <td>0</td>\n",
       "      <td>6</td>\n",
       "      <td>0</td>\n",
       "      <td>0</td>\n",
       "    </tr>\n",
       "    <tr>\n",
       "      <th>2</th>\n",
       "      <td>2</td>\n",
       "      <td>2018-04-01 00:07:56</td>\n",
       "      <td>2</td>\n",
       "      <td>1365</td>\n",
       "      <td>146.00</td>\n",
       "      <td>476</td>\n",
       "      <td>0</td>\n",
       "      <td>6</td>\n",
       "      <td>0</td>\n",
       "      <td>0</td>\n",
       "    </tr>\n",
       "    <tr>\n",
       "      <th>3</th>\n",
       "      <td>3</td>\n",
       "      <td>2018-04-01 00:09:29</td>\n",
       "      <td>4128</td>\n",
       "      <td>8737</td>\n",
       "      <td>64.49</td>\n",
       "      <td>569</td>\n",
       "      <td>0</td>\n",
       "      <td>6</td>\n",
       "      <td>0</td>\n",
       "      <td>0</td>\n",
       "    </tr>\n",
       "    <tr>\n",
       "      <th>4</th>\n",
       "      <td>4</td>\n",
       "      <td>2018-04-01 00:10:34</td>\n",
       "      <td>927</td>\n",
       "      <td>9906</td>\n",
       "      <td>50.99</td>\n",
       "      <td>634</td>\n",
       "      <td>0</td>\n",
       "      <td>6</td>\n",
       "      <td>0</td>\n",
       "      <td>0</td>\n",
       "    </tr>\n",
       "  </tbody>\n",
       "</table>\n",
       "</div>"
      ],
      "text/plain": [
       "   TRANSACTION_ID         TX_DATETIME CUSTOMER_ID TERMINAL_ID  TX_AMOUNT  \\\n",
       "0               0 2018-04-01 00:00:31         596        3156      57.16   \n",
       "1               1 2018-04-01 00:02:10        4961        3412      81.51   \n",
       "2               2 2018-04-01 00:07:56           2        1365     146.00   \n",
       "3               3 2018-04-01 00:09:29        4128        8737      64.49   \n",
       "4               4 2018-04-01 00:10:34         927        9906      50.99   \n",
       "\n",
       "  TX_TIME_SECONDS TX_TIME_DAYS  WEEK_DAY  TX_FRAUD_SCENARIO  TX_FRAUD  \n",
       "0              31            0         6                  0         0  \n",
       "1             130            0         6                  0         0  \n",
       "2             476            0         6                  0         0  \n",
       "3             569            0         6                  0         0  \n",
       "4             634            0         6                  0         0  "
      ]
     },
     "execution_count": 71,
     "metadata": {},
     "output_type": "execute_result"
    }
   ],
   "source": [
    "df.head()"
   ]
  },
  {
   "cell_type": "markdown",
   "metadata": {},
   "source": [
    "## Preprocessing"
   ]
  },
  {
   "cell_type": "code",
   "execution_count": 17,
   "metadata": {
    "execution": {
     "iopub.execute_input": "2021-07-04T12:35:37.813138Z",
     "iopub.status.busy": "2021-07-04T12:35:37.812627Z",
     "iopub.status.idle": "2021-07-04T12:35:38.077397Z",
     "shell.execute_reply": "2021-07-04T12:35:38.076299Z",
     "shell.execute_reply.started": "2021-07-04T12:35:37.813079Z"
    }
   },
   "outputs": [
    {
     "data": {
      "image/png": "[encoded data removed]",
      "text/plain": [
       "<Figure size 432x288 with 1 Axes>"
      ]
     },
     "metadata": {},
     "output_type": "display_data"
    }
   ],
   "source": [
    "portions = df[\"TX_FRAUD\"].value_counts().to_dict()\n",
    "plt.pie(portions.values(), \n",
    "        portions.keys(),\n",
    "        labels = [\"Normal\", \"Fraud\"], \n",
    "        radius = 2,\n",
    "        autopct='%1.1f%%',\n",
    "       colors = [\"green\", \"yellow\"])\n",
    "plt.show()"
   ]
  },
  {
   "cell_type": "code",
   "execution_count": 12,
   "metadata": {},
   "outputs": [
    {
     "data": {
      "image/png": "[encoded data removed]",
      "text/plain": [
       "<Figure size 1152x576 with 1 Axes>"
      ]
     },
     "metadata": {
      "needs_background": "light"
     },
     "output_type": "display_data"
    }
   ],
   "source": [
    "feature = 'TX_AMOUNT'\n",
    "plt.figure(figsize = (16, 8))\n",
    "sns.kdeplot(data = df.loc[df['TX_FRAUD'] == 1]['TX_AMOUNT'])\n",
    "sns.kdeplot(data = df.loc[df['TX_FRAUD'] == 0]['TX_AMOUNT'])\n",
    "plt.xlabel(feature, fontsize=10)\n",
    "locs, labels = plt.xticks()\n",
    "plt.tick_params(axis='both', which='major', labelsize=12)\n",
    "plt.show();"
   ]
  },
  {
   "cell_type": "code",
   "execution_count": 13,
   "metadata": {},
   "outputs": [],
   "source": [
    "customer_tx_count = df[\"CUSTOMER_ID\"].value_counts().to_dict()"
   ]
  },
  {
   "cell_type": "code",
   "execution_count": 14,
   "metadata": {},
   "outputs": [
    {
     "data": {
      "text/plain": [
       "<AxesSubplot:ylabel='Density'>"
      ]
     },
     "execution_count": 14,
     "metadata": {},
     "output_type": "execute_result"
    },
    {
     "data": {
      "image/png": "[encoded data removed]",
      "text/plain": [
       "<Figure size 1152x576 with 1 Axes>"
      ]
     },
     "metadata": {
      "needs_background": "light"
     },
     "output_type": "display_data"
    }
   ],
   "source": [
    "pd.Series(list(customer_tx_count.values())).plot(kind = 'density', figsize = (16,8), color = 'green')"
   ]
  },
  {
   "cell_type": "code",
   "execution_count": 36,
   "metadata": {
    "execution": {
     "iopub.execute_input": "2021-07-05T09:02:28.342349Z",
     "iopub.status.busy": "2021-07-05T09:02:28.341949Z",
     "iopub.status.idle": "2021-07-05T09:02:42.281797Z",
     "shell.execute_reply": "2021-07-05T09:02:42.280924Z",
     "shell.execute_reply.started": "2021-07-05T09:02:28.342304Z"
    }
   },
   "outputs": [],
   "source": [
    "#Feature Define\n",
    "if \"WEEK_DAY\" not in df.columns:\n",
    "    df.insert(7, \"WEEK_DAY\", df[\"TX_DATETIME\"].apply(lambda x : x.weekday()))\n",
    "\n",
    "#Feature Selection\n",
    "selected_features = [\"CUSTOMER_ID\",\n",
    "                     \"TERMINAL_ID\",\n",
    "                     'TX_AMOUNT', \n",
    "                     'TX_TIME_SECONDS', \n",
    "                     'TX_TIME_DAYS', \n",
    "                     \"WEEK_DAY\", \n",
    "                     \"TX_DATETIME\",\n",
    "                     \"TX_FRAUD_SCENARIO\"]"
   ]
  },
  {
   "cell_type": "code",
   "execution_count": 181,
   "metadata": {
    "execution": {
     "iopub.execute_input": "2021-07-05T09:14:56.029136Z",
     "iopub.status.busy": "2021-07-05T09:14:56.028726Z",
     "iopub.status.idle": "2021-07-05T09:14:56.072025Z",
     "shell.execute_reply": "2021-07-05T09:14:56.070736Z",
     "shell.execute_reply.started": "2021-07-05T09:14:56.029089Z"
    }
   },
   "outputs": [],
   "source": [
    "class Preprocessor:    \n",
    "    def __init__(self, input_data):\n",
    "        self.data = input_data\n",
    "    \n",
    "    def pre_process(self, \n",
    "                    feature_columns,\n",
    "                    label_columns,\n",
    "                    window_size = 128,\n",
    "                    numericals = None,\n",
    "                    categoricals = None,\n",
    "                    test_train_split = 0.7,\n",
    "                    rol_base = 'time',\n",
    "                    imbalanced = False):\n",
    "        # ---------- \n",
    "        self.features = feature_columns\n",
    "        self.labels = label_columns\n",
    "        self.window_size = window_size\n",
    "        self.test_train_split = test_train_split\n",
    "        if 'TX_DATETIME' in feature_columns:\n",
    "            self.data['TX_DATETIME'] = self.data['TX_DATETIME'].values.astype(float) \n",
    "        self.data_x = pd.DataFrame(self.data[feature_columns], dtype = 'float32')\n",
    "        self.data_y = pd.DataFrame(self.data[label_columns], dtype = 'float32')\n",
    "        \n",
    "        self.n_features = len(feature_columns)\n",
    "        self.n_labels = len(label_columns)\n",
    "        self.rol_base = rol_base\n",
    "        self.customers = np.array([])\n",
    "\n",
    "        # ---------- Categorical features, OneHotEncoding\n",
    "        print(self.data_x.shape)\n",
    "        if categoricals is not None:\n",
    "#             self.encode(categoricals)\n",
    "            with open(\"./log.txt\", 'a') as log:\n",
    "                log.write(\"- - - - Categorical features Encoded - - - -\\n\")\n",
    "        print(self.data_x.shape)\n",
    "        # ---------- Standardization\n",
    "        #self.scaler(numericals)\n",
    "        # ---------- Rolling X and Y Tensors\n",
    "        print(\"======== Making X and Y Tensors ==========\")\n",
    "        self.x_tensor, self.y_tensor = self.roll(self.window_size)\n",
    "        print(\"Input X by shape:\", self.data_x.shape,\"is rolled to X Tensor: \", self.x_tensor.shape)\n",
    "        with open(\"./log.txt\", 'a') as log:\n",
    "            log.write(\"X and Y tensors are Rolled \\n\")\n",
    "\n",
    "        self.train_idx = np.random.choice(self.x_tensor.shape[0], \n",
    "                                      int(self.x_tensor.shape[0]*self.test_train_split), replace=False)\n",
    "                      \n",
    "#         self.X_train = self.x_tensor[self.train_idx, :, :]\n",
    "#         self.X_test = np.delete(self.x_tensor, self.train_idx, axis=0)\n",
    "#         self.y_train = self.y_tensor[self.train_idx, ]\n",
    "#         self.y_test = np.delete(self.y_tensor, self.train_idx, axis=0)\n",
    "        with open(\"./log.txt\", 'a') as log:\n",
    "            log.write(\"Preprocessing Done! \\n\")\n",
    "        return self.x_tensor, self.y_tensor\n",
    "#         return self.X_train, self.X_test, self.y_train, self.y_test\n",
    "                \n",
    "    def encode(self, categoricals):\n",
    "        if categoricals[0] is not None:\n",
    "            self.data_x = pd.get_dummies(self.data_x, columns = categoricals[0])\n",
    "            self.n_features = self.data_x.shape[1]\n",
    "        if categoricals[1] is not None:\n",
    "            self.data_y = pd.get_dummies(self.data_y, columns = categoricals[1])\n",
    "    \n",
    "    def scaler(self, numericals):\n",
    "        scaler = MinMaxScaler()\n",
    "        self.data_x[numericals[0]] = scaler.fit_transform(self.data_x[numericals[0]])\n",
    "        self.data_y[numericals[1]] = scaler.fit_transform(self.data_x[numericals[1]])\n",
    "\n",
    "    def roll(self, window_size):\n",
    "        ix_tensor = np.zeros([(self.data.shape[0] - (window_size)) * window_size, \n",
    "                                      self.n_features], dtype = 'float32')\n",
    "        iy_tensor = np.zeros((0, self.n_labels), dtype = 'float32')\n",
    "\n",
    "        if self.rol_base == 'time':\n",
    "            starts = np.array(range(self.data_x.shape[0]-(window_size)))\n",
    "            if os.path.isfile('ix_tensor.pickle'):\n",
    "                print(\"- - - -  X Tensor founded on Local Drive - - - - \")\n",
    "                print(\"- - - -  Reading X TENSOR - - - - \")\n",
    "                with open('ix_tensor.pickle', 'rb') as file:\n",
    "                    ix_tensor = joblib.load(file)\n",
    "                with open('iy_tensor.pickle', 'rb') as file:\n",
    "                    iy_tensor = joblib.load(file)\n",
    "            else:\n",
    "                #Rolling Loop for making ix_tensor\n",
    "                for i in tqdm(range(self.data_x.shape[0]-(window_size))):\n",
    "                    s = np.array(self.data_x[i:i+window_size], dtype='float32')\n",
    "                    ix_tensor[(window_size*i):(window_size*(i+1)), :] = s\n",
    "                    iy_tensor = np.vstack((iy_tensor, self.data_y.iloc[i+window_size, ]))\n",
    "                ix_tensor = ix_tensor.reshape(-1, window_size, np.shape(ix_tensor)[1])\n",
    "                print(\"- - - - Writing X Tensor on Drive- - - -\")\n",
    "                with open('ix_tensor.pickle', 'wb') as file:\n",
    "                    joblib.dump(ix_tensor, file)\n",
    "                with open('iy_tensor.pickle', 'wb') as file:\n",
    "                    joblib.dump(iy_tensor, file) \n",
    "            print(\"type:\",type(iy_tensor[0][0]))\n",
    "        else:\n",
    "            print(\"self.rol_base:\", self.rol_base)\n",
    "            dg = self.data.sort_values(by = self.rol_base)\n",
    "            print(\"1\", dg.columns)\n",
    "            dg_x = dg[self.features]\n",
    "            dg_y = dg[self.labels]\n",
    "            print(\"2\", dg.columns)\n",
    "            print(\"dg >> \\n\", dg)\n",
    "            for i in range(dg.shape[0]-(window_size)):\n",
    "#                 print(dg[self.rol_base[0]][i + window_size] , dg[self.rol_base[0]][i + window_size - 1])\n",
    "                if(dg[self.rol_base[0]][i + window_size] == dg[self.rol_base[0]][i + window_size - 1]):\n",
    "                    print(\"True\")\n",
    "                    s = np.array(dg_x[i:i+window_size], dtype='float32')\n",
    "                    print(s, \" <<\")\n",
    "                    ix_tensor[(window_size*i):(window_size*(i+1)), :] = s\n",
    "                    print(\".?\")\n",
    "                    print(ix_tensor[(window_size*i):(window_size*(i+1)), :])\n",
    "                    iy_tensor = np.vstack((iy_tensor, dg_y.iloc[i+window_size]))\n",
    "                    print(ix_tensor)\n",
    "                    self.customers = np.append(self.customers, dg[self.rol_base[0]][i + window_size])\n",
    "                else:\n",
    "#                     print(\"false\")\n",
    "                    i += window_size\n",
    "            ix_tensor = ix_tensor.reshape(-1, window_size, np.shape(ix_tensor)[1])\n",
    "        return ix_tensor, iy_tensor"
   ]
  },
  {
   "cell_type": "code",
   "execution_count": 168,
   "metadata": {
    "execution": {
     "iopub.execute_input": "2021-07-05T09:14:57.273887Z",
     "iopub.status.busy": "2021-07-05T09:14:57.273313Z",
     "iopub.status.idle": "2021-07-05T09:14:57.293027Z",
     "shell.execute_reply": "2021-07-05T09:14:57.292051Z",
     "shell.execute_reply.started": "2021-07-05T09:14:57.273846Z"
    }
   },
   "outputs": [
    {
     "data": {
      "text/plain": [
       "1096"
      ]
     },
     "execution_count": 168,
     "metadata": {},
     "output_type": "execute_result"
    }
   ],
   "source": [
    "(df['CUSTOMER_ID'][:50000].value_counts() >= 16).sum()"
   ]
  },
  {
   "cell_type": "code",
   "execution_count": 191,
   "metadata": {},
   "outputs": [
    {
     "ename": "NameError",
     "evalue": "name 'i' is not defined",
     "output_type": "error",
     "traceback": [
      "\u001b[0;31m---------------------------------------------------------------------------\u001b[0m",
      "\u001b[0;31mNameError\u001b[0m                                 Traceback (most recent call last)",
      "\u001b[0;32m<ipython-input-191-4a4ca6aae38f>\u001b[0m in \u001b[0;36m<module>\u001b[0;34m\u001b[0m\n\u001b[0;32m----> 1\u001b[0;31m \u001b[0mi\u001b[0m\u001b[0;34m,\u001b[0m\u001b[0mj\u001b[0m \u001b[0;32min\u001b[0m \u001b[0mrange\u001b[0m\u001b[0;34m(\u001b[0m\u001b[0;36m4\u001b[0m\u001b[0;34m)\u001b[0m\u001b[0;34m\u001b[0m\u001b[0;34m\u001b[0m\u001b[0m\n\u001b[0m",
      "\u001b[0;31mNameError\u001b[0m: name 'i' is not defined"
     ]
    }
   ],
   "source": [
    "i,j in range(4)"
   ]
  },
  {
   "cell_type": "code",
   "execution_count": 183,
   "metadata": {
    "execution": {
     "iopub.execute_input": "2021-07-05T09:14:59.391989Z",
     "iopub.status.busy": "2021-07-05T09:14:59.391579Z",
     "iopub.status.idle": "2021-07-05T09:14:59.397877Z",
     "shell.execute_reply": "2021-07-05T09:14:59.396357Z",
     "shell.execute_reply.started": "2021-07-05T09:14:59.391944Z"
    }
   },
   "outputs": [],
   "source": [
    "pp = Preprocessor(df.iloc[:50000, :])"
   ]
  },
  {
   "cell_type": "code",
   "execution_count": 184,
   "metadata": {
    "execution": {
     "iopub.execute_input": "2021-07-05T09:15:00.850642Z",
     "iopub.status.busy": "2021-07-05T09:15:00.850222Z"
    }
   },
   "outputs": [
    {
     "name": "stderr",
     "output_type": "stream",
     "text": [
      "<ipython-input-181-ac148ab8e6a9>:20: SettingWithCopyWarning: \n",
      "A value is trying to be set on a copy of a slice from a DataFrame.\n",
      "Try using .loc[row_indexer,col_indexer] = value instead\n",
      "\n",
      "See the caveats in the documentation: https://pandas.pydata.org/pandas-docs/stable/user_guide/indexing.html#returning-a-view-versus-a-copy\n",
      "  self.data['TX_DATETIME'] = self.data['TX_DATETIME'].values.astype(float)\n"
     ]
    },
    {
     "name": "stdout",
     "output_type": "stream",
     "text": [
      "(50000, 8)\n",
      "(50000, 8)\n",
      "======== Making X and Y Tensors ==========\n",
      "self.rol_base: ['CUSTOMER_ID', 'TX_DATETIME']\n",
      "1 Index(['TRANSACTION_ID', 'TX_DATETIME', 'CUSTOMER_ID', 'TERMINAL_ID',\n",
      "       'TX_AMOUNT', 'TX_TIME_SECONDS', 'TX_TIME_DAYS', 'WEEK_DAY',\n",
      "       'TX_FRAUD_SCENARIO', 'TX_FRAUD'],\n",
      "      dtype='object')\n",
      "2 Index(['TRANSACTION_ID', 'TX_DATETIME', 'CUSTOMER_ID', 'TERMINAL_ID',\n",
      "       'TX_AMOUNT', 'TX_TIME_SECONDS', 'TX_TIME_DAYS', 'WEEK_DAY',\n",
      "       'TX_FRAUD_SCENARIO', 'TX_FRAUD'],\n",
      "      dtype='object')\n",
      "dg >> \n",
      "        TRANSACTION_ID   TX_DATETIME CUSTOMER_ID TERMINAL_ID  TX_AMOUNT  \\\n",
      "1758             1758  1.522567e+18           0        6076     123.59   \n",
      "8275             8275  1.522606e+18           0         858      77.34   \n",
      "8640             8640  1.522609e+18           0        6698      46.51   \n",
      "12169           12169  1.522659e+18           0        6569      54.72   \n",
      "15764           15764  1.522678e+18           0        7707      63.30   \n",
      "...               ...           ...         ...         ...        ...   \n",
      "42663           42663  1.522927e+18        4999        8963      36.00   \n",
      "42679           42679  1.522927e+18        4999        5996       0.06   \n",
      "42998           42998  1.522928e+18        4999        4732      30.45   \n",
      "45053           45053  1.522939e+18        4999        8083      31.61   \n",
      "48244           48244  1.522982e+18        4999        2717      48.84   \n",
      "\n",
      "      TX_TIME_SECONDS TX_TIME_DAYS  WEEK_DAY  TX_FRAUD_SCENARIO  TX_FRAUD  \n",
      "1758            26345            0         6                  0         0  \n",
      "8275            64816            0         6                  0         0  \n",
      "8640            68522            0         6                  0         0  \n",
      "12169          118266            1         0                  0         0  \n",
      "15764          137138            1         0                  0         0  \n",
      "...               ...          ...       ...                ...       ...  \n",
      "42663          385847            4         3                  0         0  \n",
      "42679          385921            4         3                  0         0  \n",
      "42998          387486            4         3                  0         0  \n",
      "45053          398420            4         3                  0         0  \n",
      "48244          441031            5         4                  0         0  \n",
      "\n",
      "[50000 rows x 10 columns]\n",
      "True\n",
      "[[3.8600000e+02 4.8250000e+03 5.9950001e+01 2.7944600e+05 3.0000000e+00\n",
      "  2.0000000e+00 1.5228203e+18 0.0000000e+00]\n",
      " [3.8600000e+02 4.6860000e+03 1.0151000e+02 2.9334100e+05 3.0000000e+00\n",
      "  2.0000000e+00 1.5228342e+18 0.0000000e+00]\n",
      " [3.8600000e+02 4.8250000e+03 6.3869999e+01 3.2225600e+05 3.0000000e+00\n",
      "  2.0000000e+00 1.5228630e+18 0.0000000e+00]\n",
      " [3.8600000e+02 4.6690000e+03 1.1578000e+02 3.8770900e+05 4.0000000e+00\n",
      "  3.0000000e+00 1.5229285e+18 0.0000000e+00]\n",
      " [3.8600000e+02 5.3290000e+03 1.6150000e+02 3.9457100e+05 4.0000000e+00\n",
      "  3.0000000e+00 1.5229353e+18 0.0000000e+00]\n",
      " [3.8700000e+02 6.5750000e+03 7.7459999e+01 6.6288000e+04 0.0000000e+00\n",
      "  6.0000000e+00 1.5226071e+18 0.0000000e+00]\n",
      " [3.8700000e+02 3.3640000e+03 7.3660004e+01 1.1749900e+05 1.0000000e+00\n",
      "  0.0000000e+00 1.5226583e+18 0.0000000e+00]\n",
      " [3.8700000e+02 5.8800000e+02 8.3599998e+01 1.2090800e+05 1.0000000e+00\n",
      "  0.0000000e+00 1.5226617e+18 0.0000000e+00]\n",
      " [3.8700000e+02 3.2220000e+03 8.2139999e+01 1.2333700e+05 1.0000000e+00\n",
      "  0.0000000e+00 1.5226642e+18 0.0000000e+00]\n",
      " [3.8700000e+02 3.0240000e+03 2.4830000e+01 1.3567400e+05 1.0000000e+00\n",
      "  0.0000000e+00 1.5226764e+18 0.0000000e+00]\n",
      " [3.8700000e+02 3.1250000e+03 6.6930000e+01 1.3969100e+05 1.0000000e+00\n",
      "  0.0000000e+00 1.5226805e+18 0.0000000e+00]\n",
      " [3.8700000e+02 6.3130000e+03 7.4250000e+01 2.1542100e+05 2.0000000e+00\n",
      "  1.0000000e+00 1.5227563e+18 0.0000000e+00]\n",
      " [3.8700000e+02 3.3850000e+03 6.4940002e+01 2.8209700e+05 3.0000000e+00\n",
      "  2.0000000e+00 1.5228229e+18 0.0000000e+00]\n",
      " [3.8700000e+02 6.9910000e+03 2.4280001e+01 3.1514800e+05 3.0000000e+00\n",
      "  2.0000000e+00 1.5228559e+18 0.0000000e+00]\n",
      " [3.8700000e+02 9.0020000e+03 1.4263000e+02 3.1583200e+05 3.0000000e+00\n",
      "  2.0000000e+00 1.5228566e+18 0.0000000e+00]\n",
      " [3.8700000e+02 2.0030000e+03 1.3406000e+02 3.2241500e+05 3.0000000e+00\n",
      "  2.0000000e+00 1.5228632e+18 0.0000000e+00]]  <<\n",
      ".?\n",
      "[[3.8600000e+02 4.8250000e+03 5.9950001e+01 2.7944600e+05 3.0000000e+00\n",
      "  2.0000000e+00 1.5228203e+18 0.0000000e+00]\n",
      " [3.8600000e+02 4.6860000e+03 1.0151000e+02 2.9334100e+05 3.0000000e+00\n",
      "  2.0000000e+00 1.5228342e+18 0.0000000e+00]\n",
      " [3.8600000e+02 4.8250000e+03 6.3869999e+01 3.2225600e+05 3.0000000e+00\n",
      "  2.0000000e+00 1.5228630e+18 0.0000000e+00]\n",
      " [3.8600000e+02 4.6690000e+03 1.1578000e+02 3.8770900e+05 4.0000000e+00\n",
      "  3.0000000e+00 1.5229285e+18 0.0000000e+00]\n",
      " [3.8600000e+02 5.3290000e+03 1.6150000e+02 3.9457100e+05 4.0000000e+00\n",
      "  3.0000000e+00 1.5229353e+18 0.0000000e+00]\n",
      " [3.8700000e+02 6.5750000e+03 7.7459999e+01 6.6288000e+04 0.0000000e+00\n",
      "  6.0000000e+00 1.5226071e+18 0.0000000e+00]\n",
      " [3.8700000e+02 3.3640000e+03 7.3660004e+01 1.1749900e+05 1.0000000e+00\n",
      "  0.0000000e+00 1.5226583e+18 0.0000000e+00]\n",
      " [3.8700000e+02 5.8800000e+02 8.3599998e+01 1.2090800e+05 1.0000000e+00\n",
      "  0.0000000e+00 1.5226617e+18 0.0000000e+00]\n",
      " [3.8700000e+02 3.2220000e+03 8.2139999e+01 1.2333700e+05 1.0000000e+00\n",
      "  0.0000000e+00 1.5226642e+18 0.0000000e+00]\n",
      " [3.8700000e+02 3.0240000e+03 2.4830000e+01 1.3567400e+05 1.0000000e+00\n",
      "  0.0000000e+00 1.5226764e+18 0.0000000e+00]\n",
      " [3.8700000e+02 3.1250000e+03 6.6930000e+01 1.3969100e+05 1.0000000e+00\n",
      "  0.0000000e+00 1.5226805e+18 0.0000000e+00]\n",
      " [3.8700000e+02 6.3130000e+03 7.4250000e+01 2.1542100e+05 2.0000000e+00\n",
      "  1.0000000e+00 1.5227563e+18 0.0000000e+00]\n",
      " [3.8700000e+02 3.3850000e+03 6.4940002e+01 2.8209700e+05 3.0000000e+00\n",
      "  2.0000000e+00 1.5228229e+18 0.0000000e+00]\n",
      " [3.8700000e+02 6.9910000e+03 2.4280001e+01 3.1514800e+05 3.0000000e+00\n",
      "  2.0000000e+00 1.5228559e+18 0.0000000e+00]\n",
      " [3.8700000e+02 9.0020000e+03 1.4263000e+02 3.1583200e+05 3.0000000e+00\n",
      "  2.0000000e+00 1.5228566e+18 0.0000000e+00]\n",
      " [3.8700000e+02 2.0030000e+03 1.3406000e+02 3.2241500e+05 3.0000000e+00\n",
      "  2.0000000e+00 1.5228632e+18 0.0000000e+00]]\n",
      "[[0. 0. 0. ... 0. 0. 0.]\n",
      " [0. 0. 0. ... 0. 0. 0.]\n",
      " [0. 0. 0. ... 0. 0. 0.]\n",
      " ...\n",
      " [0. 0. 0. ... 0. 0. 0.]\n",
      " [0. 0. 0. ... 0. 0. 0.]\n",
      " [0. 0. 0. ... 0. 0. 0.]]\n",
      "True\n",
      "[[4.7100000e+02 6.3590000e+03 1.0010000e+01 4.1156200e+05 4.0000000e+00\n",
      "  3.0000000e+00 1.5229524e+18 0.0000000e+00]\n",
      " [4.7100000e+02 6.6880000e+03 1.5360000e+01 4.5777000e+05 5.0000000e+00\n",
      "  4.0000000e+00 1.5229986e+18 0.0000000e+00]\n",
      " [4.7200000e+02 2.8560000e+03 4.8560001e+01 2.3480000e+04 0.0000000e+00\n",
      "  6.0000000e+00 1.5225643e+18 0.0000000e+00]\n",
      " [4.7200000e+02 1.4050000e+03 4.7389999e+01 4.6960000e+04 0.0000000e+00\n",
      "  6.0000000e+00 1.5225878e+18 0.0000000e+00]\n",
      " [4.7200000e+02 3.7420000e+03 7.5989998e+01 4.7708000e+04 0.0000000e+00\n",
      "  6.0000000e+00 1.5225884e+18 0.0000000e+00]\n",
      " [4.7200000e+02 6.6150000e+03 5.4430000e+01 5.9164000e+04 0.0000000e+00\n",
      "  6.0000000e+00 1.5226000e+18 0.0000000e+00]\n",
      " [4.7200000e+02 1.8870000e+03 3.7860001e+01 1.4374100e+05 1.0000000e+00\n",
      "  0.0000000e+00 1.5226845e+18 0.0000000e+00]\n",
      " [4.7200000e+02 5.8080000e+03 2.9780001e+01 1.6298200e+05 1.0000000e+00\n",
      "  0.0000000e+00 1.5227038e+18 0.0000000e+00]\n",
      " [4.7200000e+02 3.2670000e+03 1.0447000e+02 1.6549500e+05 1.0000000e+00\n",
      "  0.0000000e+00 1.5227062e+18 0.0000000e+00]\n",
      " [4.7200000e+02 2.5230000e+03 4.8580002e+01 2.9271700e+05 3.0000000e+00\n",
      "  2.0000000e+00 1.5228335e+18 0.0000000e+00]\n",
      " [4.7200000e+02 4.3790000e+03 1.0878000e+02 3.2305000e+05 3.0000000e+00\n",
      "  2.0000000e+00 1.5228639e+18 0.0000000e+00]\n",
      " [4.7200000e+02 2.1530000e+03 3.3900002e+01 3.5017500e+05 4.0000000e+00\n",
      "  3.0000000e+00 1.5228909e+18 0.0000000e+00]\n",
      " [4.7200000e+02 2.5230000e+03 1.0757000e+02 3.8779500e+05 4.0000000e+00\n",
      "  3.0000000e+00 1.5229286e+18 0.0000000e+00]\n",
      " [4.7300000e+02 6.7350000e+03 2.6110001e+01 1.2831100e+05 1.0000000e+00\n",
      "  0.0000000e+00 1.5226691e+18 0.0000000e+00]\n",
      " [4.7300000e+02 6.7350000e+03 5.5200000e+00 1.3894100e+05 1.0000000e+00\n",
      "  0.0000000e+00 1.5226797e+18 0.0000000e+00]\n",
      " [4.7300000e+02 1.1530000e+03 1.7040001e+01 1.6994300e+05 1.0000000e+00\n",
      "  0.0000000e+00 1.5227108e+18 0.0000000e+00]]  <<\n",
      ".?\n",
      "[[4.7100000e+02 6.3590000e+03 1.0010000e+01 4.1156200e+05 4.0000000e+00\n",
      "  3.0000000e+00 1.5229524e+18 0.0000000e+00]\n",
      " [4.7100000e+02 6.6880000e+03 1.5360000e+01 4.5777000e+05 5.0000000e+00\n",
      "  4.0000000e+00 1.5229986e+18 0.0000000e+00]\n",
      " [4.7200000e+02 2.8560000e+03 4.8560001e+01 2.3480000e+04 0.0000000e+00\n",
      "  6.0000000e+00 1.5225643e+18 0.0000000e+00]\n",
      " [4.7200000e+02 1.4050000e+03 4.7389999e+01 4.6960000e+04 0.0000000e+00\n",
      "  6.0000000e+00 1.5225878e+18 0.0000000e+00]\n",
      " [4.7200000e+02 3.7420000e+03 7.5989998e+01 4.7708000e+04 0.0000000e+00\n",
      "  6.0000000e+00 1.5225884e+18 0.0000000e+00]\n",
      " [4.7200000e+02 6.6150000e+03 5.4430000e+01 5.9164000e+04 0.0000000e+00\n",
      "  6.0000000e+00 1.5226000e+18 0.0000000e+00]\n",
      " [4.7200000e+02 1.8870000e+03 3.7860001e+01 1.4374100e+05 1.0000000e+00\n",
      "  0.0000000e+00 1.5226845e+18 0.0000000e+00]\n",
      " [4.7200000e+02 5.8080000e+03 2.9780001e+01 1.6298200e+05 1.0000000e+00\n",
      "  0.0000000e+00 1.5227038e+18 0.0000000e+00]\n",
      " [4.7200000e+02 3.2670000e+03 1.0447000e+02 1.6549500e+05 1.0000000e+00\n",
      "  0.0000000e+00 1.5227062e+18 0.0000000e+00]\n",
      " [4.7200000e+02 2.5230000e+03 4.8580002e+01 2.9271700e+05 3.0000000e+00\n",
      "  2.0000000e+00 1.5228335e+18 0.0000000e+00]\n",
      " [4.7200000e+02 4.3790000e+03 1.0878000e+02 3.2305000e+05 3.0000000e+00\n",
      "  2.0000000e+00 1.5228639e+18 0.0000000e+00]\n",
      " [4.7200000e+02 2.1530000e+03 3.3900002e+01 3.5017500e+05 4.0000000e+00\n",
      "  3.0000000e+00 1.5228909e+18 0.0000000e+00]\n",
      " [4.7200000e+02 2.5230000e+03 1.0757000e+02 3.8779500e+05 4.0000000e+00\n",
      "  3.0000000e+00 1.5229286e+18 0.0000000e+00]\n",
      " [4.7300000e+02 6.7350000e+03 2.6110001e+01 1.2831100e+05 1.0000000e+00\n",
      "  0.0000000e+00 1.5226691e+18 0.0000000e+00]\n",
      " [4.7300000e+02 6.7350000e+03 5.5200000e+00 1.3894100e+05 1.0000000e+00\n",
      "  0.0000000e+00 1.5226797e+18 0.0000000e+00]\n",
      " [4.7300000e+02 1.1530000e+03 1.7040001e+01 1.6994300e+05 1.0000000e+00\n",
      "  0.0000000e+00 1.5227108e+18 0.0000000e+00]]\n",
      "[[0. 0. 0. ... 0. 0. 0.]\n",
      " [0. 0. 0. ... 0. 0. 0.]\n",
      " [0. 0. 0. ... 0. 0. 0.]\n",
      " ...\n",
      " [0. 0. 0. ... 0. 0. 0.]\n",
      " [0. 0. 0. ... 0. 0. 0.]\n",
      " [0. 0. 0. ... 0. 0. 0.]]\n"
     ]
    },
    {
     "name": "stdout",
     "output_type": "stream",
     "text": [
      "True\n",
      "[[6.9100000e+02 1.1320000e+03 3.6630001e+01 1.9679900e+05 2.0000000e+00\n",
      "  1.0000000e+00 1.5227376e+18 0.0000000e+00]\n",
      " [6.9100000e+02 6.7960000e+03 1.8969999e+01 2.0118500e+05 2.0000000e+00\n",
      "  1.0000000e+00 1.5227420e+18 0.0000000e+00]\n",
      " [6.9100000e+02 3.8820000e+03 2.7500000e+01 3.0833400e+05 3.0000000e+00\n",
      "  2.0000000e+00 1.5228492e+18 0.0000000e+00]\n",
      " [6.9100000e+02 5.8180000e+03 4.1270000e+01 3.6238000e+05 4.0000000e+00\n",
      "  3.0000000e+00 1.5229032e+18 0.0000000e+00]\n",
      " [6.9100000e+02 2.2430000e+03 4.2230000e+01 3.6806200e+05 4.0000000e+00\n",
      "  3.0000000e+00 1.5229088e+18 0.0000000e+00]\n",
      " [6.9100000e+02 4.9450000e+03 4.7100000e+00 3.9511600e+05 4.0000000e+00\n",
      "  3.0000000e+00 1.5229359e+18 0.0000000e+00]\n",
      " [6.9100000e+02 4.7980000e+03 3.7139999e+01 4.0920900e+05 4.0000000e+00\n",
      "  3.0000000e+00 1.5229500e+18 0.0000000e+00]\n",
      " [6.9200000e+02 8.4710000e+03 1.4772000e+02 2.1653300e+05 2.0000000e+00\n",
      "  1.0000000e+00 1.5227574e+18 0.0000000e+00]\n",
      " [6.9200000e+02 4.7300000e+02 1.2316000e+02 2.2008800e+05 2.0000000e+00\n",
      "  1.0000000e+00 1.5227609e+18 0.0000000e+00]\n",
      " [6.9200000e+02 6.7170000e+03 6.5100002e+00 3.6805100e+05 4.0000000e+00\n",
      "  3.0000000e+00 1.5229088e+18 0.0000000e+00]\n",
      " [6.9300000e+02 6.4160000e+03 5.4630001e+01 4.7963000e+04 0.0000000e+00\n",
      "  6.0000000e+00 1.5225887e+18 0.0000000e+00]\n",
      " [6.9300000e+02 9.0510000e+03 2.9330000e+01 4.8132000e+04 0.0000000e+00\n",
      "  6.0000000e+00 1.5225890e+18 0.0000000e+00]\n",
      " [6.9300000e+02 4.4650000e+03 2.2400000e+01 5.0922000e+04 0.0000000e+00\n",
      "  6.0000000e+00 1.5225917e+18 0.0000000e+00]\n",
      " [6.9300000e+02 2.7970000e+03 1.9379999e+01 3.1548600e+05 3.0000000e+00\n",
      "  2.0000000e+00 1.5228563e+18 0.0000000e+00]\n",
      " [6.9300000e+02 6.5800000e+03 6.7300000e+00 4.0672500e+05 4.0000000e+00\n",
      "  3.0000000e+00 1.5229476e+18 0.0000000e+00]\n",
      " [6.9400000e+02 1.2910000e+03 2.7190001e+01 2.0151000e+04 0.0000000e+00\n",
      "  6.0000000e+00 1.5225610e+18 0.0000000e+00]]  <<\n",
      ".?\n",
      "[[6.9100000e+02 1.1320000e+03 3.6630001e+01 1.9679900e+05 2.0000000e+00\n",
      "  1.0000000e+00 1.5227376e+18 0.0000000e+00]\n",
      " [6.9100000e+02 6.7960000e+03 1.8969999e+01 2.0118500e+05 2.0000000e+00\n",
      "  1.0000000e+00 1.5227420e+18 0.0000000e+00]\n",
      " [6.9100000e+02 3.8820000e+03 2.7500000e+01 3.0833400e+05 3.0000000e+00\n",
      "  2.0000000e+00 1.5228492e+18 0.0000000e+00]\n",
      " [6.9100000e+02 5.8180000e+03 4.1270000e+01 3.6238000e+05 4.0000000e+00\n",
      "  3.0000000e+00 1.5229032e+18 0.0000000e+00]\n",
      " [6.9100000e+02 2.2430000e+03 4.2230000e+01 3.6806200e+05 4.0000000e+00\n",
      "  3.0000000e+00 1.5229088e+18 0.0000000e+00]\n",
      " [6.9100000e+02 4.9450000e+03 4.7100000e+00 3.9511600e+05 4.0000000e+00\n",
      "  3.0000000e+00 1.5229359e+18 0.0000000e+00]\n",
      " [6.9100000e+02 4.7980000e+03 3.7139999e+01 4.0920900e+05 4.0000000e+00\n",
      "  3.0000000e+00 1.5229500e+18 0.0000000e+00]\n",
      " [6.9200000e+02 8.4710000e+03 1.4772000e+02 2.1653300e+05 2.0000000e+00\n",
      "  1.0000000e+00 1.5227574e+18 0.0000000e+00]\n",
      " [6.9200000e+02 4.7300000e+02 1.2316000e+02 2.2008800e+05 2.0000000e+00\n",
      "  1.0000000e+00 1.5227609e+18 0.0000000e+00]\n",
      " [6.9200000e+02 6.7170000e+03 6.5100002e+00 3.6805100e+05 4.0000000e+00\n",
      "  3.0000000e+00 1.5229088e+18 0.0000000e+00]\n",
      " [6.9300000e+02 6.4160000e+03 5.4630001e+01 4.7963000e+04 0.0000000e+00\n",
      "  6.0000000e+00 1.5225887e+18 0.0000000e+00]\n",
      " [6.9300000e+02 9.0510000e+03 2.9330000e+01 4.8132000e+04 0.0000000e+00\n",
      "  6.0000000e+00 1.5225890e+18 0.0000000e+00]\n",
      " [6.9300000e+02 4.4650000e+03 2.2400000e+01 5.0922000e+04 0.0000000e+00\n",
      "  6.0000000e+00 1.5225917e+18 0.0000000e+00]\n",
      " [6.9300000e+02 2.7970000e+03 1.9379999e+01 3.1548600e+05 3.0000000e+00\n",
      "  2.0000000e+00 1.5228563e+18 0.0000000e+00]\n",
      " [6.9300000e+02 6.5800000e+03 6.7300000e+00 4.0672500e+05 4.0000000e+00\n",
      "  3.0000000e+00 1.5229476e+18 0.0000000e+00]\n",
      " [6.9400000e+02 1.2910000e+03 2.7190001e+01 2.0151000e+04 0.0000000e+00\n",
      "  6.0000000e+00 1.5225610e+18 0.0000000e+00]]\n",
      "[[0. 0. 0. ... 0. 0. 0.]\n",
      " [0. 0. 0. ... 0. 0. 0.]\n",
      " [0. 0. 0. ... 0. 0. 0.]\n",
      " ...\n",
      " [0. 0. 0. ... 0. 0. 0.]\n",
      " [0. 0. 0. ... 0. 0. 0.]\n",
      " [0. 0. 0. ... 0. 0. 0.]]\n",
      "True\n",
      "[[2.2330000e+03 7.5300000e+03 2.4910000e+01 2.8503200e+05 3.0000000e+00\n",
      "  2.0000000e+00 1.5228258e+18 0.0000000e+00]\n",
      " [2.2330000e+03 5.2560000e+03 7.2399998e+00 3.1855600e+05 3.0000000e+00\n",
      "  2.0000000e+00 1.5228593e+18 0.0000000e+00]\n",
      " [2.2330000e+03 6.5390000e+03 1.8540001e+01 3.5584700e+05 4.0000000e+00\n",
      "  3.0000000e+00 1.5228966e+18 0.0000000e+00]\n",
      " [2.2330000e+03 9.0150000e+03 3.1650000e+01 3.9153700e+05 4.0000000e+00\n",
      "  3.0000000e+00 1.5229323e+18 0.0000000e+00]\n",
      " [2.2330000e+03 9.4290000e+03 1.1580000e+01 4.1530800e+05 4.0000000e+00\n",
      "  3.0000000e+00 1.5229561e+18 0.0000000e+00]\n",
      " [2.2340000e+03 1.2160000e+03 9.6360001e+01 1.2107000e+04 0.0000000e+00\n",
      "  6.0000000e+00 1.5225528e+18 0.0000000e+00]\n",
      " [2.2340000e+03 1.0820000e+03 1.8242000e+02 1.6028000e+04 0.0000000e+00\n",
      "  6.0000000e+00 1.5225568e+18 0.0000000e+00]\n",
      " [2.2340000e+03 6.7360000e+03 1.2650000e+02 1.4057600e+05 1.0000000e+00\n",
      "  0.0000000e+00 1.5226814e+18 0.0000000e+00]\n",
      " [2.2340000e+03 9.9970000e+03 3.9040001e+01 2.2172100e+05 2.0000000e+00\n",
      "  1.0000000e+00 1.5227626e+18 0.0000000e+00]\n",
      " [2.2340000e+03 8.2380000e+03 5.7630001e+01 2.2266100e+05 2.0000000e+00\n",
      "  1.0000000e+00 1.5227634e+18 0.0000000e+00]\n",
      " [2.2340000e+03 5.3330000e+03 2.1914000e+02 2.7215400e+05 3.0000000e+00\n",
      "  2.0000000e+00 1.5228130e+18 0.0000000e+00]\n",
      " [2.2340000e+03 8.5730000e+03 6.7309998e+01 3.0381700e+05 3.0000000e+00\n",
      "  2.0000000e+00 1.5228446e+18 0.0000000e+00]\n",
      " [2.2340000e+03 9.9970000e+03 1.7778000e+02 3.1296100e+05 3.0000000e+00\n",
      "  2.0000000e+00 1.5228537e+18 0.0000000e+00]\n",
      " [2.2340000e+03 4.7600000e+02 1.3280000e+02 3.1398200e+05 3.0000000e+00\n",
      "  2.0000000e+00 1.5228548e+18 0.0000000e+00]\n",
      " [2.2340000e+03 8.5730000e+03 1.0450000e+02 3.6848500e+05 4.0000000e+00\n",
      "  3.0000000e+00 1.5229092e+18 0.0000000e+00]\n",
      " [2.2340000e+03 2.4610000e+03 1.0354000e+02 3.7862700e+05 4.0000000e+00\n",
      "  3.0000000e+00 1.5229194e+18 0.0000000e+00]]  <<\n",
      ".?\n",
      "[[2.2330000e+03 7.5300000e+03 2.4910000e+01 2.8503200e+05 3.0000000e+00\n",
      "  2.0000000e+00 1.5228258e+18 0.0000000e+00]\n",
      " [2.2330000e+03 5.2560000e+03 7.2399998e+00 3.1855600e+05 3.0000000e+00\n",
      "  2.0000000e+00 1.5228593e+18 0.0000000e+00]\n",
      " [2.2330000e+03 6.5390000e+03 1.8540001e+01 3.5584700e+05 4.0000000e+00\n",
      "  3.0000000e+00 1.5228966e+18 0.0000000e+00]\n",
      " [2.2330000e+03 9.0150000e+03 3.1650000e+01 3.9153700e+05 4.0000000e+00\n",
      "  3.0000000e+00 1.5229323e+18 0.0000000e+00]\n",
      " [2.2330000e+03 9.4290000e+03 1.1580000e+01 4.1530800e+05 4.0000000e+00\n",
      "  3.0000000e+00 1.5229561e+18 0.0000000e+00]\n",
      " [2.2340000e+03 1.2160000e+03 9.6360001e+01 1.2107000e+04 0.0000000e+00\n",
      "  6.0000000e+00 1.5225528e+18 0.0000000e+00]\n",
      " [2.2340000e+03 1.0820000e+03 1.8242000e+02 1.6028000e+04 0.0000000e+00\n",
      "  6.0000000e+00 1.5225568e+18 0.0000000e+00]\n",
      " [2.2340000e+03 6.7360000e+03 1.2650000e+02 1.4057600e+05 1.0000000e+00\n",
      "  0.0000000e+00 1.5226814e+18 0.0000000e+00]\n",
      " [2.2340000e+03 9.9970000e+03 3.9040001e+01 2.2172100e+05 2.0000000e+00\n",
      "  1.0000000e+00 1.5227626e+18 0.0000000e+00]\n",
      " [2.2340000e+03 8.2380000e+03 5.7630001e+01 2.2266100e+05 2.0000000e+00\n",
      "  1.0000000e+00 1.5227634e+18 0.0000000e+00]\n",
      " [2.2340000e+03 5.3330000e+03 2.1914000e+02 2.7215400e+05 3.0000000e+00\n",
      "  2.0000000e+00 1.5228130e+18 0.0000000e+00]\n",
      " [2.2340000e+03 8.5730000e+03 6.7309998e+01 3.0381700e+05 3.0000000e+00\n",
      "  2.0000000e+00 1.5228446e+18 0.0000000e+00]\n",
      " [2.2340000e+03 9.9970000e+03 1.7778000e+02 3.1296100e+05 3.0000000e+00\n",
      "  2.0000000e+00 1.5228537e+18 0.0000000e+00]\n",
      " [2.2340000e+03 4.7600000e+02 1.3280000e+02 3.1398200e+05 3.0000000e+00\n",
      "  2.0000000e+00 1.5228548e+18 0.0000000e+00]\n",
      " [2.2340000e+03 8.5730000e+03 1.0450000e+02 3.6848500e+05 4.0000000e+00\n",
      "  3.0000000e+00 1.5229092e+18 0.0000000e+00]\n",
      " [2.2340000e+03 2.4610000e+03 1.0354000e+02 3.7862700e+05 4.0000000e+00\n",
      "  3.0000000e+00 1.5229194e+18 0.0000000e+00]]\n",
      "[[0. 0. 0. ... 0. 0. 0.]\n",
      " [0. 0. 0. ... 0. 0. 0.]\n",
      " [0. 0. 0. ... 0. 0. 0.]\n",
      " ...\n",
      " [0. 0. 0. ... 0. 0. 0.]\n",
      " [0. 0. 0. ... 0. 0. 0.]\n",
      " [0. 0. 0. ... 0. 0. 0.]]\n",
      "True\n",
      "[[4.2450000e+03 9.4510000e+03 2.1559999e+01 3.7076300e+05 4.0000000e+00\n",
      "  3.0000000e+00 1.5229116e+18 0.0000000e+00]\n",
      " [4.2450000e+03 8.9510000e+03 2.5400000e+01 4.0048800e+05 4.0000000e+00\n",
      "  3.0000000e+00 1.5229413e+18 0.0000000e+00]\n",
      " [4.2450000e+03 9.7760000e+03 4.5980000e+01 4.0709500e+05 4.0000000e+00\n",
      "  3.0000000e+00 1.5229478e+18 0.0000000e+00]\n",
      " [4.2450000e+03 2.8600000e+03 4.2290001e+01 4.5566000e+05 5.0000000e+00\n",
      "  4.0000000e+00 1.5229965e+18 0.0000000e+00]\n",
      " [4.2460000e+03 6.2310000e+03 4.6599998e+00 1.0592700e+05 1.0000000e+00\n",
      "  0.0000000e+00 1.5226467e+18 0.0000000e+00]\n",
      " [4.2460000e+03 3.8570000e+03 6.9899998e+00 1.1951700e+05 1.0000000e+00\n",
      "  0.0000000e+00 1.5226603e+18 0.0000000e+00]\n",
      " [4.2460000e+03 8.7400000e+02 5.2300000e+00 1.5042000e+05 1.0000000e+00\n",
      "  0.0000000e+00 1.5226913e+18 0.0000000e+00]\n",
      " [4.2460000e+03 6.7340000e+03 2.0300000e+00 2.3707300e+05 2.0000000e+00\n",
      "  1.0000000e+00 1.5227778e+18 0.0000000e+00]\n",
      " [4.2470000e+03 5.0250000e+03 8.9709999e+01 1.2825100e+05 1.0000000e+00\n",
      "  0.0000000e+00 1.5226690e+18 0.0000000e+00]\n",
      " [4.2470000e+03 7.2040000e+03 9.5250000e+01 1.4474200e+05 1.0000000e+00\n",
      "  0.0000000e+00 1.5226855e+18 0.0000000e+00]\n",
      " [4.2470000e+03 5.1890000e+03 1.2723000e+02 3.0880700e+05 3.0000000e+00\n",
      "  2.0000000e+00 1.5228496e+18 0.0000000e+00]\n",
      " [4.2470000e+03 4.4850000e+03 3.8860001e+01 3.1219800e+05 3.0000000e+00\n",
      "  2.0000000e+00 1.5228530e+18 0.0000000e+00]\n",
      " [4.2470000e+03 1.7530000e+03 1.6125000e+02 3.3199100e+05 3.0000000e+00\n",
      "  2.0000000e+00 1.5228728e+18 0.0000000e+00]\n",
      " [4.2470000e+03 4.4740000e+03 1.2222000e+02 3.7070700e+05 4.0000000e+00\n",
      "  3.0000000e+00 1.5229116e+18 0.0000000e+00]\n",
      " [4.2470000e+03 8.1980000e+03 1.5907001e+02 3.8563700e+05 4.0000000e+00\n",
      "  3.0000000e+00 1.5229264e+18 0.0000000e+00]\n",
      " [4.2480000e+03 6.2740000e+03 8.5529999e+01 3.0651000e+04 0.0000000e+00\n",
      "  6.0000000e+00 1.5225714e+18 0.0000000e+00]]  <<\n",
      ".?\n",
      "[[4.2450000e+03 9.4510000e+03 2.1559999e+01 3.7076300e+05 4.0000000e+00\n",
      "  3.0000000e+00 1.5229116e+18 0.0000000e+00]\n",
      " [4.2450000e+03 8.9510000e+03 2.5400000e+01 4.0048800e+05 4.0000000e+00\n",
      "  3.0000000e+00 1.5229413e+18 0.0000000e+00]\n",
      " [4.2450000e+03 9.7760000e+03 4.5980000e+01 4.0709500e+05 4.0000000e+00\n",
      "  3.0000000e+00 1.5229478e+18 0.0000000e+00]\n",
      " [4.2450000e+03 2.8600000e+03 4.2290001e+01 4.5566000e+05 5.0000000e+00\n",
      "  4.0000000e+00 1.5229965e+18 0.0000000e+00]\n",
      " [4.2460000e+03 6.2310000e+03 4.6599998e+00 1.0592700e+05 1.0000000e+00\n",
      "  0.0000000e+00 1.5226467e+18 0.0000000e+00]\n",
      " [4.2460000e+03 3.8570000e+03 6.9899998e+00 1.1951700e+05 1.0000000e+00\n",
      "  0.0000000e+00 1.5226603e+18 0.0000000e+00]\n",
      " [4.2460000e+03 8.7400000e+02 5.2300000e+00 1.5042000e+05 1.0000000e+00\n",
      "  0.0000000e+00 1.5226913e+18 0.0000000e+00]\n",
      " [4.2460000e+03 6.7340000e+03 2.0300000e+00 2.3707300e+05 2.0000000e+00\n",
      "  1.0000000e+00 1.5227778e+18 0.0000000e+00]\n",
      " [4.2470000e+03 5.0250000e+03 8.9709999e+01 1.2825100e+05 1.0000000e+00\n",
      "  0.0000000e+00 1.5226690e+18 0.0000000e+00]\n",
      " [4.2470000e+03 7.2040000e+03 9.5250000e+01 1.4474200e+05 1.0000000e+00\n",
      "  0.0000000e+00 1.5226855e+18 0.0000000e+00]\n",
      " [4.2470000e+03 5.1890000e+03 1.2723000e+02 3.0880700e+05 3.0000000e+00\n",
      "  2.0000000e+00 1.5228496e+18 0.0000000e+00]\n",
      " [4.2470000e+03 4.4850000e+03 3.8860001e+01 3.1219800e+05 3.0000000e+00\n",
      "  2.0000000e+00 1.5228530e+18 0.0000000e+00]\n",
      " [4.2470000e+03 1.7530000e+03 1.6125000e+02 3.3199100e+05 3.0000000e+00\n",
      "  2.0000000e+00 1.5228728e+18 0.0000000e+00]\n",
      " [4.2470000e+03 4.4740000e+03 1.2222000e+02 3.7070700e+05 4.0000000e+00\n",
      "  3.0000000e+00 1.5229116e+18 0.0000000e+00]\n",
      " [4.2470000e+03 8.1980000e+03 1.5907001e+02 3.8563700e+05 4.0000000e+00\n",
      "  3.0000000e+00 1.5229264e+18 0.0000000e+00]\n",
      " [4.2480000e+03 6.2740000e+03 8.5529999e+01 3.0651000e+04 0.0000000e+00\n",
      "  6.0000000e+00 1.5225714e+18 0.0000000e+00]]\n",
      "[[0. 0. 0. ... 0. 0. 0.]\n",
      " [0. 0. 0. ... 0. 0. 0.]\n",
      " [0. 0. 0. ... 0. 0. 0.]\n",
      " ...\n",
      " [0. 0. 0. ... 0. 0. 0.]\n",
      " [0. 0. 0. ... 0. 0. 0.]\n",
      " [0. 0. 0. ... 0. 0. 0.]]\n",
      "True\n",
      "[[4.7440000e+03 2.3770000e+03 1.3099999e+00 3.0175800e+05 3.0000000e+00\n",
      "  2.0000000e+00 1.5228426e+18 0.0000000e+00]\n",
      " [4.7440000e+03 1.5040000e+03 4.4200001e+00 3.3737200e+05 3.0000000e+00\n",
      "  2.0000000e+00 1.5228782e+18 0.0000000e+00]\n",
      " [4.7440000e+03 4.8290000e+03 1.8000000e+00 3.8733600e+05 4.0000000e+00\n",
      "  3.0000000e+00 1.5229282e+18 0.0000000e+00]\n",
      " [4.7440000e+03 1.5040000e+03 1.3300000e+00 3.8957200e+05 4.0000000e+00\n",
      "  3.0000000e+00 1.5229304e+18 0.0000000e+00]\n",
      " [4.7440000e+03 8.0220000e+03 3.6800001e+00 3.9169500e+05 4.0000000e+00\n",
      "  3.0000000e+00 1.5229325e+18 0.0000000e+00]\n",
      " [4.7440000e+03 6.8770000e+03 6.5000000e+00 4.0288300e+05 4.0000000e+00\n",
      "  3.0000000e+00 1.5229437e+18 0.0000000e+00]\n",
      " [4.7440000e+03 5.0310000e+03 5.7700000e+00 4.0947900e+05 4.0000000e+00\n",
      "  3.0000000e+00 1.5229503e+18 0.0000000e+00]\n",
      " [4.7440000e+03 2.5270000e+03 4.8699999e+00 4.1280300e+05 4.0000000e+00\n",
      "  3.0000000e+00 1.5229536e+18 0.0000000e+00]\n",
      " [4.7440000e+03 7.2500000e+03 1.6600000e+00 4.1603000e+05 4.0000000e+00\n",
      "  3.0000000e+00 1.5229568e+18 0.0000000e+00]\n",
      " [4.7450000e+03 7.7040000e+03 1.3210000e+01 2.9925000e+04 0.0000000e+00\n",
      "  6.0000000e+00 1.5225707e+18 0.0000000e+00]\n",
      " [4.7450000e+03 1.3800000e+02 1.1093000e+02 4.1314000e+04 0.0000000e+00\n",
      "  6.0000000e+00 1.5225821e+18 0.0000000e+00]\n",
      " [4.7450000e+03 3.7020000e+03 6.9800003e+01 7.0938000e+04 0.0000000e+00\n",
      "  6.0000000e+00 1.5226117e+18 0.0000000e+00]\n",
      " [4.7450000e+03 8.3520000e+03 6.1570000e+01 1.1097400e+05 1.0000000e+00\n",
      "  0.0000000e+00 1.5226518e+18 0.0000000e+00]\n",
      " [4.7450000e+03 2.9600000e+03 1.5900000e+01 1.2261100e+05 1.0000000e+00\n",
      "  0.0000000e+00 1.5226634e+18 0.0000000e+00]\n",
      " [4.7450000e+03 9.5000000e+02 8.2169998e+01 1.2999700e+05 1.0000000e+00\n",
      "  0.0000000e+00 1.5226708e+18 0.0000000e+00]\n",
      " [4.7450000e+03 3.4630000e+03 9.8860001e+01 1.4056500e+05 1.0000000e+00\n",
      "  0.0000000e+00 1.5226814e+18 0.0000000e+00]]  <<\n",
      ".?\n",
      "[[4.7440000e+03 2.3770000e+03 1.3099999e+00 3.0175800e+05 3.0000000e+00\n",
      "  2.0000000e+00 1.5228426e+18 0.0000000e+00]\n",
      " [4.7440000e+03 1.5040000e+03 4.4200001e+00 3.3737200e+05 3.0000000e+00\n",
      "  2.0000000e+00 1.5228782e+18 0.0000000e+00]\n",
      " [4.7440000e+03 4.8290000e+03 1.8000000e+00 3.8733600e+05 4.0000000e+00\n",
      "  3.0000000e+00 1.5229282e+18 0.0000000e+00]\n",
      " [4.7440000e+03 1.5040000e+03 1.3300000e+00 3.8957200e+05 4.0000000e+00\n",
      "  3.0000000e+00 1.5229304e+18 0.0000000e+00]\n",
      " [4.7440000e+03 8.0220000e+03 3.6800001e+00 3.9169500e+05 4.0000000e+00\n",
      "  3.0000000e+00 1.5229325e+18 0.0000000e+00]\n",
      " [4.7440000e+03 6.8770000e+03 6.5000000e+00 4.0288300e+05 4.0000000e+00\n",
      "  3.0000000e+00 1.5229437e+18 0.0000000e+00]\n",
      " [4.7440000e+03 5.0310000e+03 5.7700000e+00 4.0947900e+05 4.0000000e+00\n",
      "  3.0000000e+00 1.5229503e+18 0.0000000e+00]\n",
      " [4.7440000e+03 2.5270000e+03 4.8699999e+00 4.1280300e+05 4.0000000e+00\n",
      "  3.0000000e+00 1.5229536e+18 0.0000000e+00]\n",
      " [4.7440000e+03 7.2500000e+03 1.6600000e+00 4.1603000e+05 4.0000000e+00\n",
      "  3.0000000e+00 1.5229568e+18 0.0000000e+00]\n",
      " [4.7450000e+03 7.7040000e+03 1.3210000e+01 2.9925000e+04 0.0000000e+00\n",
      "  6.0000000e+00 1.5225707e+18 0.0000000e+00]\n",
      " [4.7450000e+03 1.3800000e+02 1.1093000e+02 4.1314000e+04 0.0000000e+00\n",
      "  6.0000000e+00 1.5225821e+18 0.0000000e+00]\n",
      " [4.7450000e+03 3.7020000e+03 6.9800003e+01 7.0938000e+04 0.0000000e+00\n",
      "  6.0000000e+00 1.5226117e+18 0.0000000e+00]\n",
      " [4.7450000e+03 8.3520000e+03 6.1570000e+01 1.1097400e+05 1.0000000e+00\n",
      "  0.0000000e+00 1.5226518e+18 0.0000000e+00]\n",
      " [4.7450000e+03 2.9600000e+03 1.5900000e+01 1.2261100e+05 1.0000000e+00\n",
      "  0.0000000e+00 1.5226634e+18 0.0000000e+00]\n",
      " [4.7450000e+03 9.5000000e+02 8.2169998e+01 1.2999700e+05 1.0000000e+00\n",
      "  0.0000000e+00 1.5226708e+18 0.0000000e+00]\n",
      " [4.7450000e+03 3.4630000e+03 9.8860001e+01 1.4056500e+05 1.0000000e+00\n",
      "  0.0000000e+00 1.5226814e+18 0.0000000e+00]]\n",
      "[[0. 0. 0. ... 0. 0. 0.]\n",
      " [0. 0. 0. ... 0. 0. 0.]\n",
      " [0. 0. 0. ... 0. 0. 0.]\n",
      " ...\n",
      " [0. 0. 0. ... 0. 0. 0.]\n",
      " [0. 0. 0. ... 0. 0. 0.]\n",
      " [0. 0. 0. ... 0. 0. 0.]]\n",
      "Input X by shape: (50000, 8) is rolled to X Tensor:  (49984, 16, 8)\n"
     ]
    }
   ],
   "source": [
    "t, y = pp.pre_process(selected_features, \n",
    "                               ['TX_AMOUNT'], \n",
    "                               numericals = [[\"TX_AMOUNT\", \"TX_TIME_SECONDS\",'TX_TIME_DAYS'],[\"TX_AMOUNT\"]],\n",
    "                               categoricals = [[\"TERMINAL_ID\", \"WEEK_DAY\", \"TX_FRAUD_SCENARIO\"],None], \n",
    "                               window_size = 16, rol_base = ['CUSTOMER_ID', 'TX_DATETIME'])"
   ]
  },
  {
   "cell_type": "code",
   "execution_count": 190,
   "metadata": {},
   "outputs": [
    {
     "data": {
      "text/plain": [
       "636"
      ]
     },
     "execution_count": 190,
     "metadata": {},
     "output_type": "execute_result"
    }
   ],
   "source": [
    "np.count_nonzero(pp.x_tensor[:, :, :] != 0.0)"
   ]
  },
  {
   "cell_type": "markdown",
   "metadata": {},
   "source": [
    "## Transaction Prediction"
   ]
  },
  {
   "cell_type": "code",
   "execution_count": 17,
   "metadata": {
    "execution": {
     "iopub.execute_input": "2021-07-01T08:08:59.998603Z",
     "iopub.status.busy": "2021-07-01T08:08:59.998158Z",
     "iopub.status.idle": "2021-07-01T08:09:00.013030Z",
     "shell.execute_reply": "2021-07-01T08:09:00.011842Z",
     "shell.execute_reply.started": "2021-07-01T08:08:59.998549Z"
    }
   },
   "outputs": [],
   "source": [
    "class LSTM_REGRESSION:\n",
    "    def __init__(self,\n",
    "                 input_shape,\n",
    "                 lstm_units = 50,\n",
    "                 n_outputs = 1,\n",
    "                 optimizer = 'adam',\n",
    "                loss = 'mse',\n",
    "                metrics = 'mae'):\n",
    "        #Model Layers\n",
    "        self.model = Sequential()\n",
    "        self.model.add(LSTM(lstm_units, input_shape=input_shape, return_sequences = True))#, return_sequences=True))            \n",
    "        self.model.add(Dropout(0.2))\n",
    "        self.model.add(LSTM(lstm_units, return_sequences = True))            \n",
    "        self.model.add(Dropout(0.2))\n",
    "        self.model.add(LSTM(lstm_units))            \n",
    "        self.model.add(Dropout(0.2))\n",
    "        self.model.add(Dense(n_outputs))\n",
    "        \n",
    "        self.model.compile(loss=loss, \n",
    "                           optimizer=optimizer, \n",
    "                           metrics=metrics) #optimizer='rmsprop'\n",
    "        self.model.build()\n",
    "        print(\"Model Summary: \\n\\n\", self.model.summary())\n",
    "        self.model\n",
    "        \n",
    "    def train(self, train_x, train_y, batch_size = 100, epochs  =1):\n",
    "        result = self.model.fit(train_x,\n",
    "                                train_y, \n",
    "                                batch_size = batch_size,\n",
    "                                validation_split = 0.2,\n",
    "                                epochs = epochs)\n",
    "        return result\n",
    "    def predict(self, test_x):\n",
    "        return self.model.predict(test_x)"
   ]
  },
  {
   "cell_type": "code",
   "execution_count": 171,
   "metadata": {},
   "outputs": [
    {
     "name": "stdout",
     "output_type": "stream",
     "text": [
      "======== Making X and Y Tensors ==========\n",
      "- - - -  X Tensor founded on Drive - - - - \n",
      "- - - -  Reading X TENSOR - - - - \n",
      "type:: <class 'numpy.float32'>\n",
      "Input X by shape: (1754155, 6) is rolled to X Tensor:  (1754027, 128, 6)\n"
     ]
    }
   ],
   "source": [
    "prep = PreProcessor(df.iloc[:,:9])\n",
    "train_x, test_x, train_y, test_y = prep.pre_process(selected_features, selected_features)"
   ]
  },
  {
   "cell_type": "code",
   "execution_count": 172,
   "metadata": {},
   "outputs": [
    {
     "name": "stdout",
     "output_type": "stream",
     "text": [
      "Model: \"sequential_3\"\n",
      "_________________________________________________________________\n",
      "Layer (type)                 Output Shape              Param #   \n",
      "=================================================================\n",
      "lstm_9 (LSTM)                (None, 128, 50)           11400     \n",
      "_________________________________________________________________\n",
      "dropout_9 (Dropout)          (None, 128, 50)           0         \n",
      "_________________________________________________________________\n",
      "lstm_10 (LSTM)               (None, 128, 50)           20200     \n",
      "_________________________________________________________________\n",
      "dropout_10 (Dropout)         (None, 128, 50)           0         \n",
      "_________________________________________________________________\n",
      "lstm_11 (LSTM)               (None, 50)                20200     \n",
      "_________________________________________________________________\n",
      "dropout_11 (Dropout)         (None, 50)                0         \n",
      "_________________________________________________________________\n",
      "dense_3 (Dense)              (None, 6)                 306       \n",
      "=================================================================\n",
      "Total params: 52,106\n",
      "Trainable params: 52,106\n",
      "Non-trainable params: 0\n",
      "_________________________________________________________________\n",
      "Model Summary: \n",
      "\n",
      " None\n"
     ]
    }
   ],
   "source": [
    "model = LSTM_REGRESSION(train_x.shape[1:], n_outputs = train_y.shape[1])"
   ]
  },
  {
   "cell_type": "code",
   "execution_count": 23,
   "metadata": {},
   "outputs": [
    {
     "data": {
      "text/plain": [
       "(1227818, 6)"
      ]
     },
     "execution_count": 23,
     "metadata": {},
     "output_type": "execute_result"
    }
   ],
   "source": [
    "train_y.shape"
   ]
  },
  {
   "cell_type": "code",
   "execution_count": 173,
   "metadata": {
    "collapsed": true,
    "jupyter": {
     "outputs_hidden": true
    }
   },
   "outputs": [
    {
     "name": "stdout",
     "output_type": "stream",
     "text": [
      "Epoch 1/100\n",
      "10/10 [==============================] - ETA: 0s - loss: 13892323377152.0000 - mae: 1316345.4125"
     ]
    },
    {
     "ename": "KeyboardInterrupt",
     "evalue": "",
     "output_type": "error",
     "traceback": [
      "\u001b[0;31m---------------------------------------------------------------------------\u001b[0m",
      "\u001b[0;31mKeyboardInterrupt\u001b[0m                         Traceback (most recent call last)",
      "\u001b[0;32m<ipython-input-173-14cd792bb287>\u001b[0m in \u001b[0;36m<module>\u001b[0;34m\u001b[0m\n\u001b[0;32m----> 1\u001b[0;31m \u001b[0mhistory\u001b[0m \u001b[0;34m=\u001b[0m \u001b[0mmodel\u001b[0m\u001b[0;34m.\u001b[0m\u001b[0mtrain\u001b[0m\u001b[0;34m(\u001b[0m\u001b[0mtrain_x\u001b[0m\u001b[0;34m[\u001b[0m\u001b[0;34m:\u001b[0m\u001b[0;36m12278\u001b[0m\u001b[0;34m,\u001b[0m \u001b[0;34m:\u001b[0m\u001b[0;34m,\u001b[0m \u001b[0;34m:\u001b[0m\u001b[0;34m]\u001b[0m\u001b[0;34m,\u001b[0m \u001b[0mtrain_y\u001b[0m\u001b[0;34m[\u001b[0m\u001b[0;34m:\u001b[0m\u001b[0;36m12278\u001b[0m\u001b[0;34m,\u001b[0m \u001b[0;34m:\u001b[0m\u001b[0;34m]\u001b[0m\u001b[0;34m,\u001b[0m \u001b[0mepochs\u001b[0m \u001b[0;34m=\u001b[0m \u001b[0;36m100\u001b[0m\u001b[0;34m,\u001b[0m \u001b[0mbatch_size\u001b[0m \u001b[0;34m=\u001b[0m \u001b[0;36m1000\u001b[0m\u001b[0;34m)\u001b[0m\u001b[0;34m\u001b[0m\u001b[0;34m\u001b[0m\u001b[0m\n\u001b[0m",
      "\u001b[0;32m<ipython-input-170-5e6439f4a212>\u001b[0m in \u001b[0;36mtrain\u001b[0;34m(self, train_x, train_y, batch_size, epochs)\u001b[0m\n\u001b[1;32m     24\u001b[0m \u001b[0;34m\u001b[0m\u001b[0m\n\u001b[1;32m     25\u001b[0m     \u001b[0;32mdef\u001b[0m \u001b[0mtrain\u001b[0m\u001b[0;34m(\u001b[0m\u001b[0mself\u001b[0m\u001b[0;34m,\u001b[0m \u001b[0mtrain_x\u001b[0m\u001b[0;34m,\u001b[0m \u001b[0mtrain_y\u001b[0m\u001b[0;34m,\u001b[0m \u001b[0mbatch_size\u001b[0m \u001b[0;34m=\u001b[0m \u001b[0;36m100\u001b[0m\u001b[0;34m,\u001b[0m \u001b[0mepochs\u001b[0m  \u001b[0;34m=\u001b[0m\u001b[0;36m1\u001b[0m\u001b[0;34m)\u001b[0m\u001b[0;34m:\u001b[0m\u001b[0;34m\u001b[0m\u001b[0;34m\u001b[0m\u001b[0m\n\u001b[0;32m---> 26\u001b[0;31m         result = self.model.fit(train_x,\n\u001b[0m\u001b[1;32m     27\u001b[0m                                 \u001b[0mtrain_y\u001b[0m\u001b[0;34m,\u001b[0m\u001b[0;34m\u001b[0m\u001b[0;34m\u001b[0m\u001b[0m\n\u001b[1;32m     28\u001b[0m                                 \u001b[0mbatch_size\u001b[0m \u001b[0;34m=\u001b[0m \u001b[0mbatch_size\u001b[0m\u001b[0;34m,\u001b[0m\u001b[0;34m\u001b[0m\u001b[0;34m\u001b[0m\u001b[0m\n",
      "\u001b[0;32m~/.conda/envs/tensorflow/lib/python3.8/site-packages/tensorflow/python/keras/engine/training.py\u001b[0m in \u001b[0;36mfit\u001b[0;34m(self, x, y, batch_size, epochs, verbose, callbacks, validation_split, validation_data, shuffle, class_weight, sample_weight, initial_epoch, steps_per_epoch, validation_steps, validation_batch_size, validation_freq, max_queue_size, workers, use_multiprocessing)\u001b[0m\n\u001b[1;32m   1129\u001b[0m                 \u001b[0mmodel\u001b[0m\u001b[0;34m=\u001b[0m\u001b[0mself\u001b[0m\u001b[0;34m,\u001b[0m\u001b[0;34m\u001b[0m\u001b[0;34m\u001b[0m\u001b[0m\n\u001b[1;32m   1130\u001b[0m                 steps_per_execution=self._steps_per_execution)\n\u001b[0;32m-> 1131\u001b[0;31m           val_logs = self.evaluate(\n\u001b[0m\u001b[1;32m   1132\u001b[0m               \u001b[0mx\u001b[0m\u001b[0;34m=\u001b[0m\u001b[0mval_x\u001b[0m\u001b[0;34m,\u001b[0m\u001b[0;34m\u001b[0m\u001b[0;34m\u001b[0m\u001b[0m\n\u001b[1;32m   1133\u001b[0m               \u001b[0my\u001b[0m\u001b[0;34m=\u001b[0m\u001b[0mval_y\u001b[0m\u001b[0;34m,\u001b[0m\u001b[0;34m\u001b[0m\u001b[0;34m\u001b[0m\u001b[0m\n",
      "\u001b[0;32m~/.conda/envs/tensorflow/lib/python3.8/site-packages/tensorflow/python/keras/engine/training.py\u001b[0m in \u001b[0;36mevaluate\u001b[0;34m(self, x, y, batch_size, verbose, sample_weight, steps, callbacks, max_queue_size, workers, use_multiprocessing, return_dict)\u001b[0m\n\u001b[1;32m   1387\u001b[0m             \u001b[0;32mwith\u001b[0m \u001b[0mtrace\u001b[0m\u001b[0;34m.\u001b[0m\u001b[0mTrace\u001b[0m\u001b[0;34m(\u001b[0m\u001b[0;34m'test'\u001b[0m\u001b[0;34m,\u001b[0m \u001b[0mstep_num\u001b[0m\u001b[0;34m=\u001b[0m\u001b[0mstep\u001b[0m\u001b[0;34m,\u001b[0m \u001b[0m_r\u001b[0m\u001b[0;34m=\u001b[0m\u001b[0;36m1\u001b[0m\u001b[0;34m)\u001b[0m\u001b[0;34m:\u001b[0m\u001b[0;34m\u001b[0m\u001b[0;34m\u001b[0m\u001b[0m\n\u001b[1;32m   1388\u001b[0m               \u001b[0mcallbacks\u001b[0m\u001b[0;34m.\u001b[0m\u001b[0mon_test_batch_begin\u001b[0m\u001b[0;34m(\u001b[0m\u001b[0mstep\u001b[0m\u001b[0;34m)\u001b[0m\u001b[0;34m\u001b[0m\u001b[0;34m\u001b[0m\u001b[0m\n\u001b[0;32m-> 1389\u001b[0;31m               \u001b[0mtmp_logs\u001b[0m \u001b[0;34m=\u001b[0m \u001b[0mself\u001b[0m\u001b[0;34m.\u001b[0m\u001b[0mtest_function\u001b[0m\u001b[0;34m(\u001b[0m\u001b[0miterator\u001b[0m\u001b[0;34m)\u001b[0m\u001b[0;34m\u001b[0m\u001b[0;34m\u001b[0m\u001b[0m\n\u001b[0m\u001b[1;32m   1390\u001b[0m               \u001b[0;32mif\u001b[0m \u001b[0mdata_handler\u001b[0m\u001b[0;34m.\u001b[0m\u001b[0mshould_sync\u001b[0m\u001b[0;34m:\u001b[0m\u001b[0;34m\u001b[0m\u001b[0;34m\u001b[0m\u001b[0m\n\u001b[1;32m   1391\u001b[0m                 \u001b[0mcontext\u001b[0m\u001b[0;34m.\u001b[0m\u001b[0masync_wait\u001b[0m\u001b[0;34m(\u001b[0m\u001b[0;34m)\u001b[0m\u001b[0;34m\u001b[0m\u001b[0;34m\u001b[0m\u001b[0m\n",
      "\u001b[0;32m~/.conda/envs/tensorflow/lib/python3.8/site-packages/tensorflow/python/eager/def_function.py\u001b[0m in \u001b[0;36m__call__\u001b[0;34m(self, *args, **kwds)\u001b[0m\n\u001b[1;32m    826\u001b[0m     \u001b[0mtracing_count\u001b[0m \u001b[0;34m=\u001b[0m \u001b[0mself\u001b[0m\u001b[0;34m.\u001b[0m\u001b[0mexperimental_get_tracing_count\u001b[0m\u001b[0;34m(\u001b[0m\u001b[0;34m)\u001b[0m\u001b[0;34m\u001b[0m\u001b[0;34m\u001b[0m\u001b[0m\n\u001b[1;32m    827\u001b[0m     \u001b[0;32mwith\u001b[0m \u001b[0mtrace\u001b[0m\u001b[0;34m.\u001b[0m\u001b[0mTrace\u001b[0m\u001b[0;34m(\u001b[0m\u001b[0mself\u001b[0m\u001b[0;34m.\u001b[0m\u001b[0m_name\u001b[0m\u001b[0;34m)\u001b[0m \u001b[0;32mas\u001b[0m \u001b[0mtm\u001b[0m\u001b[0;34m:\u001b[0m\u001b[0;34m\u001b[0m\u001b[0;34m\u001b[0m\u001b[0m\n\u001b[0;32m--> 828\u001b[0;31m       \u001b[0mresult\u001b[0m \u001b[0;34m=\u001b[0m \u001b[0mself\u001b[0m\u001b[0;34m.\u001b[0m\u001b[0m_call\u001b[0m\u001b[0;34m(\u001b[0m\u001b[0;34m*\u001b[0m\u001b[0margs\u001b[0m\u001b[0;34m,\u001b[0m \u001b[0;34m**\u001b[0m\u001b[0mkwds\u001b[0m\u001b[0;34m)\u001b[0m\u001b[0;34m\u001b[0m\u001b[0;34m\u001b[0m\u001b[0m\n\u001b[0m\u001b[1;32m    829\u001b[0m       \u001b[0mcompiler\u001b[0m \u001b[0;34m=\u001b[0m \u001b[0;34m\"xla\"\u001b[0m \u001b[0;32mif\u001b[0m \u001b[0mself\u001b[0m\u001b[0;34m.\u001b[0m\u001b[0m_experimental_compile\u001b[0m \u001b[0;32melse\u001b[0m \u001b[0;34m\"nonXla\"\u001b[0m\u001b[0;34m\u001b[0m\u001b[0;34m\u001b[0m\u001b[0m\n\u001b[1;32m    830\u001b[0m       \u001b[0mnew_tracing_count\u001b[0m \u001b[0;34m=\u001b[0m \u001b[0mself\u001b[0m\u001b[0;34m.\u001b[0m\u001b[0mexperimental_get_tracing_count\u001b[0m\u001b[0;34m(\u001b[0m\u001b[0;34m)\u001b[0m\u001b[0;34m\u001b[0m\u001b[0;34m\u001b[0m\u001b[0m\n",
      "\u001b[0;32m~/.conda/envs/tensorflow/lib/python3.8/site-packages/tensorflow/python/eager/def_function.py\u001b[0m in \u001b[0;36m_call\u001b[0;34m(self, *args, **kwds)\u001b[0m\n\u001b[1;32m    869\u001b[0m       \u001b[0;31m# This is the first call of __call__, so we have to initialize.\u001b[0m\u001b[0;34m\u001b[0m\u001b[0;34m\u001b[0m\u001b[0;34m\u001b[0m\u001b[0m\n\u001b[1;32m    870\u001b[0m       \u001b[0minitializers\u001b[0m \u001b[0;34m=\u001b[0m \u001b[0;34m[\u001b[0m\u001b[0;34m]\u001b[0m\u001b[0;34m\u001b[0m\u001b[0;34m\u001b[0m\u001b[0m\n\u001b[0;32m--> 871\u001b[0;31m       \u001b[0mself\u001b[0m\u001b[0;34m.\u001b[0m\u001b[0m_initialize\u001b[0m\u001b[0;34m(\u001b[0m\u001b[0margs\u001b[0m\u001b[0;34m,\u001b[0m \u001b[0mkwds\u001b[0m\u001b[0;34m,\u001b[0m \u001b[0madd_initializers_to\u001b[0m\u001b[0;34m=\u001b[0m\u001b[0minitializers\u001b[0m\u001b[0;34m)\u001b[0m\u001b[0;34m\u001b[0m\u001b[0;34m\u001b[0m\u001b[0m\n\u001b[0m\u001b[1;32m    872\u001b[0m     \u001b[0;32mfinally\u001b[0m\u001b[0;34m:\u001b[0m\u001b[0;34m\u001b[0m\u001b[0;34m\u001b[0m\u001b[0m\n\u001b[1;32m    873\u001b[0m       \u001b[0;31m# At this point we know that the initialization is complete (or less\u001b[0m\u001b[0;34m\u001b[0m\u001b[0;34m\u001b[0m\u001b[0;34m\u001b[0m\u001b[0m\n",
      "\u001b[0;32m~/.conda/envs/tensorflow/lib/python3.8/site-packages/tensorflow/python/eager/def_function.py\u001b[0m in \u001b[0;36m_initialize\u001b[0;34m(self, args, kwds, add_initializers_to)\u001b[0m\n\u001b[1;32m    723\u001b[0m     \u001b[0mself\u001b[0m\u001b[0;34m.\u001b[0m\u001b[0m_graph_deleter\u001b[0m \u001b[0;34m=\u001b[0m \u001b[0mFunctionDeleter\u001b[0m\u001b[0;34m(\u001b[0m\u001b[0mself\u001b[0m\u001b[0;34m.\u001b[0m\u001b[0m_lifted_initializer_graph\u001b[0m\u001b[0;34m)\u001b[0m\u001b[0;34m\u001b[0m\u001b[0;34m\u001b[0m\u001b[0m\n\u001b[1;32m    724\u001b[0m     self._concrete_stateful_fn = (\n\u001b[0;32m--> 725\u001b[0;31m         self._stateful_fn._get_concrete_function_internal_garbage_collected(  # pylint: disable=protected-access\n\u001b[0m\u001b[1;32m    726\u001b[0m             *args, **kwds))\n\u001b[1;32m    727\u001b[0m \u001b[0;34m\u001b[0m\u001b[0m\n",
      "\u001b[0;32m~/.conda/envs/tensorflow/lib/python3.8/site-packages/tensorflow/python/eager/function.py\u001b[0m in \u001b[0;36m_get_concrete_function_internal_garbage_collected\u001b[0;34m(self, *args, **kwargs)\u001b[0m\n\u001b[1;32m   2967\u001b[0m       \u001b[0margs\u001b[0m\u001b[0;34m,\u001b[0m \u001b[0mkwargs\u001b[0m \u001b[0;34m=\u001b[0m \u001b[0;32mNone\u001b[0m\u001b[0;34m,\u001b[0m \u001b[0;32mNone\u001b[0m\u001b[0;34m\u001b[0m\u001b[0;34m\u001b[0m\u001b[0m\n\u001b[1;32m   2968\u001b[0m     \u001b[0;32mwith\u001b[0m \u001b[0mself\u001b[0m\u001b[0;34m.\u001b[0m\u001b[0m_lock\u001b[0m\u001b[0;34m:\u001b[0m\u001b[0;34m\u001b[0m\u001b[0;34m\u001b[0m\u001b[0m\n\u001b[0;32m-> 2969\u001b[0;31m       \u001b[0mgraph_function\u001b[0m\u001b[0;34m,\u001b[0m \u001b[0m_\u001b[0m \u001b[0;34m=\u001b[0m \u001b[0mself\u001b[0m\u001b[0;34m.\u001b[0m\u001b[0m_maybe_define_function\u001b[0m\u001b[0;34m(\u001b[0m\u001b[0margs\u001b[0m\u001b[0;34m,\u001b[0m \u001b[0mkwargs\u001b[0m\u001b[0;34m)\u001b[0m\u001b[0;34m\u001b[0m\u001b[0;34m\u001b[0m\u001b[0m\n\u001b[0m\u001b[1;32m   2970\u001b[0m     \u001b[0;32mreturn\u001b[0m \u001b[0mgraph_function\u001b[0m\u001b[0;34m\u001b[0m\u001b[0;34m\u001b[0m\u001b[0m\n\u001b[1;32m   2971\u001b[0m \u001b[0;34m\u001b[0m\u001b[0m\n",
      "\u001b[0;32m~/.conda/envs/tensorflow/lib/python3.8/site-packages/tensorflow/python/eager/function.py\u001b[0m in \u001b[0;36m_maybe_define_function\u001b[0;34m(self, args, kwargs)\u001b[0m\n\u001b[1;32m   3359\u001b[0m \u001b[0;34m\u001b[0m\u001b[0m\n\u001b[1;32m   3360\u001b[0m           \u001b[0mself\u001b[0m\u001b[0;34m.\u001b[0m\u001b[0m_function_cache\u001b[0m\u001b[0;34m.\u001b[0m\u001b[0mmissed\u001b[0m\u001b[0;34m.\u001b[0m\u001b[0madd\u001b[0m\u001b[0;34m(\u001b[0m\u001b[0mcall_context_key\u001b[0m\u001b[0;34m)\u001b[0m\u001b[0;34m\u001b[0m\u001b[0;34m\u001b[0m\u001b[0m\n\u001b[0;32m-> 3361\u001b[0;31m           \u001b[0mgraph_function\u001b[0m \u001b[0;34m=\u001b[0m \u001b[0mself\u001b[0m\u001b[0;34m.\u001b[0m\u001b[0m_create_graph_function\u001b[0m\u001b[0;34m(\u001b[0m\u001b[0margs\u001b[0m\u001b[0;34m,\u001b[0m \u001b[0mkwargs\u001b[0m\u001b[0;34m)\u001b[0m\u001b[0;34m\u001b[0m\u001b[0;34m\u001b[0m\u001b[0m\n\u001b[0m\u001b[1;32m   3362\u001b[0m           \u001b[0mself\u001b[0m\u001b[0;34m.\u001b[0m\u001b[0m_function_cache\u001b[0m\u001b[0;34m.\u001b[0m\u001b[0mprimary\u001b[0m\u001b[0;34m[\u001b[0m\u001b[0mcache_key\u001b[0m\u001b[0;34m]\u001b[0m \u001b[0;34m=\u001b[0m \u001b[0mgraph_function\u001b[0m\u001b[0;34m\u001b[0m\u001b[0;34m\u001b[0m\u001b[0m\n\u001b[1;32m   3363\u001b[0m \u001b[0;34m\u001b[0m\u001b[0m\n",
      "\u001b[0;32m~/.conda/envs/tensorflow/lib/python3.8/site-packages/tensorflow/python/eager/function.py\u001b[0m in \u001b[0;36m_create_graph_function\u001b[0;34m(self, args, kwargs, override_flat_arg_shapes)\u001b[0m\n\u001b[1;32m   3194\u001b[0m     \u001b[0marg_names\u001b[0m \u001b[0;34m=\u001b[0m \u001b[0mbase_arg_names\u001b[0m \u001b[0;34m+\u001b[0m \u001b[0mmissing_arg_names\u001b[0m\u001b[0;34m\u001b[0m\u001b[0;34m\u001b[0m\u001b[0m\n\u001b[1;32m   3195\u001b[0m     graph_function = ConcreteFunction(\n\u001b[0;32m-> 3196\u001b[0;31m         func_graph_module.func_graph_from_py_func(\n\u001b[0m\u001b[1;32m   3197\u001b[0m             \u001b[0mself\u001b[0m\u001b[0;34m.\u001b[0m\u001b[0m_name\u001b[0m\u001b[0;34m,\u001b[0m\u001b[0;34m\u001b[0m\u001b[0;34m\u001b[0m\u001b[0m\n\u001b[1;32m   3198\u001b[0m             \u001b[0mself\u001b[0m\u001b[0;34m.\u001b[0m\u001b[0m_python_function\u001b[0m\u001b[0;34m,\u001b[0m\u001b[0;34m\u001b[0m\u001b[0;34m\u001b[0m\u001b[0m\n",
      "\u001b[0;32m~/.conda/envs/tensorflow/lib/python3.8/site-packages/tensorflow/python/framework/func_graph.py\u001b[0m in \u001b[0;36mfunc_graph_from_py_func\u001b[0;34m(name, python_func, args, kwargs, signature, func_graph, autograph, autograph_options, add_control_dependencies, arg_names, op_return_value, collections, capture_by_value, override_flat_arg_shapes)\u001b[0m\n\u001b[1;32m    988\u001b[0m         \u001b[0m_\u001b[0m\u001b[0;34m,\u001b[0m \u001b[0moriginal_func\u001b[0m \u001b[0;34m=\u001b[0m \u001b[0mtf_decorator\u001b[0m\u001b[0;34m.\u001b[0m\u001b[0munwrap\u001b[0m\u001b[0;34m(\u001b[0m\u001b[0mpython_func\u001b[0m\u001b[0;34m)\u001b[0m\u001b[0;34m\u001b[0m\u001b[0;34m\u001b[0m\u001b[0m\n\u001b[1;32m    989\u001b[0m \u001b[0;34m\u001b[0m\u001b[0m\n\u001b[0;32m--> 990\u001b[0;31m       \u001b[0mfunc_outputs\u001b[0m \u001b[0;34m=\u001b[0m \u001b[0mpython_func\u001b[0m\u001b[0;34m(\u001b[0m\u001b[0;34m*\u001b[0m\u001b[0mfunc_args\u001b[0m\u001b[0;34m,\u001b[0m \u001b[0;34m**\u001b[0m\u001b[0mfunc_kwargs\u001b[0m\u001b[0;34m)\u001b[0m\u001b[0;34m\u001b[0m\u001b[0;34m\u001b[0m\u001b[0m\n\u001b[0m\u001b[1;32m    991\u001b[0m \u001b[0;34m\u001b[0m\u001b[0m\n\u001b[1;32m    992\u001b[0m       \u001b[0;31m# invariant: `func_outputs` contains only Tensors, CompositeTensors,\u001b[0m\u001b[0;34m\u001b[0m\u001b[0;34m\u001b[0m\u001b[0;34m\u001b[0m\u001b[0m\n",
      "\u001b[0;32m~/.conda/envs/tensorflow/lib/python3.8/site-packages/tensorflow/python/eager/def_function.py\u001b[0m in \u001b[0;36mwrapped_fn\u001b[0;34m(*args, **kwds)\u001b[0m\n\u001b[1;32m    632\u001b[0m             \u001b[0mxla_context\u001b[0m\u001b[0;34m.\u001b[0m\u001b[0mExit\u001b[0m\u001b[0;34m(\u001b[0m\u001b[0;34m)\u001b[0m\u001b[0;34m\u001b[0m\u001b[0;34m\u001b[0m\u001b[0m\n\u001b[1;32m    633\u001b[0m         \u001b[0;32melse\u001b[0m\u001b[0;34m:\u001b[0m\u001b[0;34m\u001b[0m\u001b[0;34m\u001b[0m\u001b[0m\n\u001b[0;32m--> 634\u001b[0;31m           \u001b[0mout\u001b[0m \u001b[0;34m=\u001b[0m \u001b[0mweak_wrapped_fn\u001b[0m\u001b[0;34m(\u001b[0m\u001b[0;34m)\u001b[0m\u001b[0;34m.\u001b[0m\u001b[0m__wrapped__\u001b[0m\u001b[0;34m(\u001b[0m\u001b[0;34m*\u001b[0m\u001b[0margs\u001b[0m\u001b[0;34m,\u001b[0m \u001b[0;34m**\u001b[0m\u001b[0mkwds\u001b[0m\u001b[0;34m)\u001b[0m\u001b[0;34m\u001b[0m\u001b[0;34m\u001b[0m\u001b[0m\n\u001b[0m\u001b[1;32m    635\u001b[0m         \u001b[0;32mreturn\u001b[0m \u001b[0mout\u001b[0m\u001b[0;34m\u001b[0m\u001b[0;34m\u001b[0m\u001b[0m\n\u001b[1;32m    636\u001b[0m \u001b[0;34m\u001b[0m\u001b[0m\n",
      "\u001b[0;32m~/.conda/envs/tensorflow/lib/python3.8/site-packages/tensorflow/python/framework/func_graph.py\u001b[0m in \u001b[0;36mwrapper\u001b[0;34m(*args, **kwargs)\u001b[0m\n\u001b[1;32m    964\u001b[0m           \u001b[0;31m# TODO(mdan): Push this block higher in tf.function's call stack.\u001b[0m\u001b[0;34m\u001b[0m\u001b[0;34m\u001b[0m\u001b[0;34m\u001b[0m\u001b[0m\n\u001b[1;32m    965\u001b[0m           \u001b[0;32mtry\u001b[0m\u001b[0;34m:\u001b[0m\u001b[0;34m\u001b[0m\u001b[0;34m\u001b[0m\u001b[0m\n\u001b[0;32m--> 966\u001b[0;31m             return autograph.converted_call(\n\u001b[0m\u001b[1;32m    967\u001b[0m                 \u001b[0moriginal_func\u001b[0m\u001b[0;34m,\u001b[0m\u001b[0;34m\u001b[0m\u001b[0;34m\u001b[0m\u001b[0m\n\u001b[1;32m    968\u001b[0m                 \u001b[0margs\u001b[0m\u001b[0;34m,\u001b[0m\u001b[0;34m\u001b[0m\u001b[0;34m\u001b[0m\u001b[0m\n",
      "\u001b[0;32m~/.conda/envs/tensorflow/lib/python3.8/site-packages/tensorflow/python/autograph/impl/api.py\u001b[0m in \u001b[0;36mconverted_call\u001b[0;34m(f, args, kwargs, caller_fn_scope, options)\u001b[0m\n\u001b[1;32m    457\u001b[0m     \u001b[0;32mtry\u001b[0m\u001b[0;34m:\u001b[0m\u001b[0;34m\u001b[0m\u001b[0;34m\u001b[0m\u001b[0m\n\u001b[1;32m    458\u001b[0m       \u001b[0;32mif\u001b[0m \u001b[0mkwargs\u001b[0m \u001b[0;32mis\u001b[0m \u001b[0;32mnot\u001b[0m \u001b[0;32mNone\u001b[0m\u001b[0;34m:\u001b[0m\u001b[0;34m\u001b[0m\u001b[0;34m\u001b[0m\u001b[0m\n\u001b[0;32m--> 459\u001b[0;31m         \u001b[0mresult\u001b[0m \u001b[0;34m=\u001b[0m \u001b[0mconverted_f\u001b[0m\u001b[0;34m(\u001b[0m\u001b[0;34m*\u001b[0m\u001b[0meffective_args\u001b[0m\u001b[0;34m,\u001b[0m \u001b[0;34m**\u001b[0m\u001b[0mkwargs\u001b[0m\u001b[0;34m)\u001b[0m\u001b[0;34m\u001b[0m\u001b[0;34m\u001b[0m\u001b[0m\n\u001b[0m\u001b[1;32m    460\u001b[0m       \u001b[0;32melse\u001b[0m\u001b[0;34m:\u001b[0m\u001b[0;34m\u001b[0m\u001b[0;34m\u001b[0m\u001b[0m\n\u001b[1;32m    461\u001b[0m         \u001b[0mresult\u001b[0m \u001b[0;34m=\u001b[0m \u001b[0mconverted_f\u001b[0m\u001b[0;34m(\u001b[0m\u001b[0;34m*\u001b[0m\u001b[0meffective_args\u001b[0m\u001b[0;34m)\u001b[0m\u001b[0;34m\u001b[0m\u001b[0;34m\u001b[0m\u001b[0m\n",
      "\u001b[0;32m~/.conda/envs/tensorflow/lib/python3.8/site-packages/tensorflow/python/keras/engine/training.py\u001b[0m in \u001b[0;36mtf__test_function\u001b[0;34m(iterator)\u001b[0m\n\u001b[1;32m     14\u001b[0m                 \u001b[0;32mtry\u001b[0m\u001b[0;34m:\u001b[0m\u001b[0;34m\u001b[0m\u001b[0;34m\u001b[0m\u001b[0m\n\u001b[1;32m     15\u001b[0m                     \u001b[0mdo_return\u001b[0m \u001b[0;34m=\u001b[0m \u001b[0;32mTrue\u001b[0m\u001b[0;34m\u001b[0m\u001b[0;34m\u001b[0m\u001b[0m\n\u001b[0;32m---> 16\u001b[0;31m                     \u001b[0mretval_\u001b[0m \u001b[0;34m=\u001b[0m \u001b[0mag__\u001b[0m\u001b[0;34m.\u001b[0m\u001b[0mconverted_call\u001b[0m\u001b[0;34m(\u001b[0m\u001b[0mag__\u001b[0m\u001b[0;34m.\u001b[0m\u001b[0mld\u001b[0m\u001b[0;34m(\u001b[0m\u001b[0mstep_function\u001b[0m\u001b[0;34m)\u001b[0m\u001b[0;34m,\u001b[0m \u001b[0;34m(\u001b[0m\u001b[0mag__\u001b[0m\u001b[0;34m.\u001b[0m\u001b[0mld\u001b[0m\u001b[0;34m(\u001b[0m\u001b[0mself\u001b[0m\u001b[0;34m)\u001b[0m\u001b[0;34m,\u001b[0m \u001b[0mag__\u001b[0m\u001b[0;34m.\u001b[0m\u001b[0mld\u001b[0m\u001b[0;34m(\u001b[0m\u001b[0miterator\u001b[0m\u001b[0;34m)\u001b[0m\u001b[0;34m)\u001b[0m\u001b[0;34m,\u001b[0m \u001b[0;32mNone\u001b[0m\u001b[0;34m,\u001b[0m \u001b[0mfscope\u001b[0m\u001b[0;34m)\u001b[0m\u001b[0;34m\u001b[0m\u001b[0;34m\u001b[0m\u001b[0m\n\u001b[0m\u001b[1;32m     17\u001b[0m                 \u001b[0;32mexcept\u001b[0m\u001b[0;34m:\u001b[0m\u001b[0;34m\u001b[0m\u001b[0;34m\u001b[0m\u001b[0m\n\u001b[1;32m     18\u001b[0m                     \u001b[0mdo_return\u001b[0m \u001b[0;34m=\u001b[0m \u001b[0;32mFalse\u001b[0m\u001b[0;34m\u001b[0m\u001b[0;34m\u001b[0m\u001b[0m\n",
      "\u001b[0;32m~/.conda/envs/tensorflow/lib/python3.8/site-packages/tensorflow/python/autograph/impl/api.py\u001b[0m in \u001b[0;36mconverted_call\u001b[0;34m(f, args, kwargs, caller_fn_scope, options)\u001b[0m\n\u001b[1;32m    394\u001b[0m \u001b[0;34m\u001b[0m\u001b[0m\n\u001b[1;32m    395\u001b[0m   \u001b[0;32mif\u001b[0m \u001b[0;32mnot\u001b[0m \u001b[0moptions\u001b[0m\u001b[0;34m.\u001b[0m\u001b[0muser_requested\u001b[0m \u001b[0;32mand\u001b[0m \u001b[0mconversion\u001b[0m\u001b[0;34m.\u001b[0m\u001b[0mis_allowlisted\u001b[0m\u001b[0;34m(\u001b[0m\u001b[0mf\u001b[0m\u001b[0;34m)\u001b[0m\u001b[0;34m:\u001b[0m\u001b[0;34m\u001b[0m\u001b[0;34m\u001b[0m\u001b[0m\n\u001b[0;32m--> 396\u001b[0;31m     \u001b[0;32mreturn\u001b[0m \u001b[0m_call_unconverted\u001b[0m\u001b[0;34m(\u001b[0m\u001b[0mf\u001b[0m\u001b[0;34m,\u001b[0m \u001b[0margs\u001b[0m\u001b[0;34m,\u001b[0m \u001b[0mkwargs\u001b[0m\u001b[0;34m,\u001b[0m \u001b[0moptions\u001b[0m\u001b[0;34m)\u001b[0m\u001b[0;34m\u001b[0m\u001b[0;34m\u001b[0m\u001b[0m\n\u001b[0m\u001b[1;32m    397\u001b[0m \u001b[0;34m\u001b[0m\u001b[0m\n\u001b[1;32m    398\u001b[0m   \u001b[0;31m# internal_convert_user_code is for example turned off when issuing a dynamic\u001b[0m\u001b[0;34m\u001b[0m\u001b[0;34m\u001b[0m\u001b[0;34m\u001b[0m\u001b[0m\n",
      "\u001b[0;32m~/.conda/envs/tensorflow/lib/python3.8/site-packages/tensorflow/python/autograph/impl/api.py\u001b[0m in \u001b[0;36m_call_unconverted\u001b[0;34m(f, args, kwargs, options, update_cache)\u001b[0m\n\u001b[1;32m    477\u001b[0m   \u001b[0;32mif\u001b[0m \u001b[0mkwargs\u001b[0m \u001b[0;32mis\u001b[0m \u001b[0;32mnot\u001b[0m \u001b[0;32mNone\u001b[0m\u001b[0;34m:\u001b[0m\u001b[0;34m\u001b[0m\u001b[0;34m\u001b[0m\u001b[0m\n\u001b[1;32m    478\u001b[0m     \u001b[0;32mreturn\u001b[0m \u001b[0mf\u001b[0m\u001b[0;34m(\u001b[0m\u001b[0;34m*\u001b[0m\u001b[0margs\u001b[0m\u001b[0;34m,\u001b[0m \u001b[0;34m**\u001b[0m\u001b[0mkwargs\u001b[0m\u001b[0;34m)\u001b[0m\u001b[0;34m\u001b[0m\u001b[0;34m\u001b[0m\u001b[0m\n\u001b[0;32m--> 479\u001b[0;31m   \u001b[0;32mreturn\u001b[0m \u001b[0mf\u001b[0m\u001b[0;34m(\u001b[0m\u001b[0;34m*\u001b[0m\u001b[0margs\u001b[0m\u001b[0;34m)\u001b[0m\u001b[0;34m\u001b[0m\u001b[0;34m\u001b[0m\u001b[0m\n\u001b[0m\u001b[1;32m    480\u001b[0m \u001b[0;34m\u001b[0m\u001b[0m\n\u001b[1;32m    481\u001b[0m \u001b[0;34m\u001b[0m\u001b[0m\n",
      "\u001b[0;32m~/.conda/envs/tensorflow/lib/python3.8/site-packages/tensorflow/python/keras/engine/training.py\u001b[0m in \u001b[0;36mstep_function\u001b[0;34m(model, iterator)\u001b[0m\n\u001b[1;32m   1222\u001b[0m \u001b[0;34m\u001b[0m\u001b[0m\n\u001b[1;32m   1223\u001b[0m       \u001b[0mdata\u001b[0m \u001b[0;34m=\u001b[0m \u001b[0mnext\u001b[0m\u001b[0;34m(\u001b[0m\u001b[0miterator\u001b[0m\u001b[0;34m)\u001b[0m\u001b[0;34m\u001b[0m\u001b[0;34m\u001b[0m\u001b[0m\n\u001b[0;32m-> 1224\u001b[0;31m       \u001b[0moutputs\u001b[0m \u001b[0;34m=\u001b[0m \u001b[0mmodel\u001b[0m\u001b[0;34m.\u001b[0m\u001b[0mdistribute_strategy\u001b[0m\u001b[0;34m.\u001b[0m\u001b[0mrun\u001b[0m\u001b[0;34m(\u001b[0m\u001b[0mrun_step\u001b[0m\u001b[0;34m,\u001b[0m \u001b[0margs\u001b[0m\u001b[0;34m=\u001b[0m\u001b[0;34m(\u001b[0m\u001b[0mdata\u001b[0m\u001b[0;34m,\u001b[0m\u001b[0;34m)\u001b[0m\u001b[0;34m)\u001b[0m\u001b[0;34m\u001b[0m\u001b[0;34m\u001b[0m\u001b[0m\n\u001b[0m\u001b[1;32m   1225\u001b[0m       outputs = reduce_per_replica(\n\u001b[1;32m   1226\u001b[0m           outputs, self.distribute_strategy, reduction='first')\n",
      "\u001b[0;32m~/.conda/envs/tensorflow/lib/python3.8/site-packages/tensorflow/python/distribute/distribute_lib.py\u001b[0m in \u001b[0;36mrun\u001b[0;34m(***failed resolving arguments***)\u001b[0m\n\u001b[1;32m   1257\u001b[0m       fn = autograph.tf_convert(\n\u001b[1;32m   1258\u001b[0m           fn, autograph_ctx.control_status_ctx(), convert_by_default=False)\n\u001b[0;32m-> 1259\u001b[0;31m       \u001b[0;32mreturn\u001b[0m \u001b[0mself\u001b[0m\u001b[0;34m.\u001b[0m\u001b[0m_extended\u001b[0m\u001b[0;34m.\u001b[0m\u001b[0mcall_for_each_replica\u001b[0m\u001b[0;34m(\u001b[0m\u001b[0mfn\u001b[0m\u001b[0;34m,\u001b[0m \u001b[0margs\u001b[0m\u001b[0;34m=\u001b[0m\u001b[0margs\u001b[0m\u001b[0;34m,\u001b[0m \u001b[0mkwargs\u001b[0m\u001b[0;34m=\u001b[0m\u001b[0mkwargs\u001b[0m\u001b[0;34m)\u001b[0m\u001b[0;34m\u001b[0m\u001b[0;34m\u001b[0m\u001b[0m\n\u001b[0m\u001b[1;32m   1260\u001b[0m \u001b[0;34m\u001b[0m\u001b[0m\n\u001b[1;32m   1261\u001b[0m   \u001b[0;32mdef\u001b[0m \u001b[0mreduce\u001b[0m\u001b[0;34m(\u001b[0m\u001b[0mself\u001b[0m\u001b[0;34m,\u001b[0m \u001b[0mreduce_op\u001b[0m\u001b[0;34m,\u001b[0m \u001b[0mvalue\u001b[0m\u001b[0;34m,\u001b[0m \u001b[0maxis\u001b[0m\u001b[0;34m)\u001b[0m\u001b[0;34m:\u001b[0m\u001b[0;34m\u001b[0m\u001b[0;34m\u001b[0m\u001b[0m\n",
      "\u001b[0;32m~/.conda/envs/tensorflow/lib/python3.8/site-packages/tensorflow/python/distribute/distribute_lib.py\u001b[0m in \u001b[0;36mcall_for_each_replica\u001b[0;34m(self, fn, args, kwargs)\u001b[0m\n\u001b[1;32m   2728\u001b[0m       \u001b[0mkwargs\u001b[0m \u001b[0;34m=\u001b[0m \u001b[0;34m{\u001b[0m\u001b[0;34m}\u001b[0m\u001b[0;34m\u001b[0m\u001b[0;34m\u001b[0m\u001b[0m\n\u001b[1;32m   2729\u001b[0m     \u001b[0;32mwith\u001b[0m \u001b[0mself\u001b[0m\u001b[0;34m.\u001b[0m\u001b[0m_container_strategy\u001b[0m\u001b[0;34m(\u001b[0m\u001b[0;34m)\u001b[0m\u001b[0;34m.\u001b[0m\u001b[0mscope\u001b[0m\u001b[0;34m(\u001b[0m\u001b[0;34m)\u001b[0m\u001b[0;34m:\u001b[0m\u001b[0;34m\u001b[0m\u001b[0;34m\u001b[0m\u001b[0m\n\u001b[0;32m-> 2730\u001b[0;31m       \u001b[0;32mreturn\u001b[0m \u001b[0mself\u001b[0m\u001b[0;34m.\u001b[0m\u001b[0m_call_for_each_replica\u001b[0m\u001b[0;34m(\u001b[0m\u001b[0mfn\u001b[0m\u001b[0;34m,\u001b[0m \u001b[0margs\u001b[0m\u001b[0;34m,\u001b[0m \u001b[0mkwargs\u001b[0m\u001b[0;34m)\u001b[0m\u001b[0;34m\u001b[0m\u001b[0;34m\u001b[0m\u001b[0m\n\u001b[0m\u001b[1;32m   2731\u001b[0m \u001b[0;34m\u001b[0m\u001b[0m\n\u001b[1;32m   2732\u001b[0m   \u001b[0;32mdef\u001b[0m \u001b[0m_call_for_each_replica\u001b[0m\u001b[0;34m(\u001b[0m\u001b[0mself\u001b[0m\u001b[0;34m,\u001b[0m \u001b[0mfn\u001b[0m\u001b[0;34m,\u001b[0m \u001b[0margs\u001b[0m\u001b[0;34m,\u001b[0m \u001b[0mkwargs\u001b[0m\u001b[0;34m)\u001b[0m\u001b[0;34m:\u001b[0m\u001b[0;34m\u001b[0m\u001b[0;34m\u001b[0m\u001b[0m\n",
      "\u001b[0;32m~/.conda/envs/tensorflow/lib/python3.8/site-packages/tensorflow/python/distribute/distribute_lib.py\u001b[0m in \u001b[0;36m_call_for_each_replica\u001b[0;34m(self, fn, args, kwargs)\u001b[0m\n\u001b[1;32m   3415\u001b[0m   \u001b[0;32mdef\u001b[0m \u001b[0m_call_for_each_replica\u001b[0m\u001b[0;34m(\u001b[0m\u001b[0mself\u001b[0m\u001b[0;34m,\u001b[0m \u001b[0mfn\u001b[0m\u001b[0;34m,\u001b[0m \u001b[0margs\u001b[0m\u001b[0;34m,\u001b[0m \u001b[0mkwargs\u001b[0m\u001b[0;34m)\u001b[0m\u001b[0;34m:\u001b[0m\u001b[0;34m\u001b[0m\u001b[0;34m\u001b[0m\u001b[0m\n\u001b[1;32m   3416\u001b[0m     \u001b[0;32mwith\u001b[0m \u001b[0mReplicaContext\u001b[0m\u001b[0;34m(\u001b[0m\u001b[0mself\u001b[0m\u001b[0;34m.\u001b[0m\u001b[0m_container_strategy\u001b[0m\u001b[0;34m(\u001b[0m\u001b[0;34m)\u001b[0m\u001b[0;34m,\u001b[0m \u001b[0mreplica_id_in_sync_group\u001b[0m\u001b[0;34m=\u001b[0m\u001b[0;36m0\u001b[0m\u001b[0;34m)\u001b[0m\u001b[0;34m:\u001b[0m\u001b[0;34m\u001b[0m\u001b[0;34m\u001b[0m\u001b[0m\n\u001b[0;32m-> 3417\u001b[0;31m       \u001b[0;32mreturn\u001b[0m \u001b[0mfn\u001b[0m\u001b[0;34m(\u001b[0m\u001b[0;34m*\u001b[0m\u001b[0margs\u001b[0m\u001b[0;34m,\u001b[0m \u001b[0;34m**\u001b[0m\u001b[0mkwargs\u001b[0m\u001b[0;34m)\u001b[0m\u001b[0;34m\u001b[0m\u001b[0;34m\u001b[0m\u001b[0m\n\u001b[0m\u001b[1;32m   3418\u001b[0m \u001b[0;34m\u001b[0m\u001b[0m\n\u001b[1;32m   3419\u001b[0m   \u001b[0;32mdef\u001b[0m \u001b[0m_reduce_to\u001b[0m\u001b[0;34m(\u001b[0m\u001b[0mself\u001b[0m\u001b[0;34m,\u001b[0m \u001b[0mreduce_op\u001b[0m\u001b[0;34m,\u001b[0m \u001b[0mvalue\u001b[0m\u001b[0;34m,\u001b[0m \u001b[0mdestinations\u001b[0m\u001b[0;34m,\u001b[0m \u001b[0moptions\u001b[0m\u001b[0;34m)\u001b[0m\u001b[0;34m:\u001b[0m\u001b[0;34m\u001b[0m\u001b[0;34m\u001b[0m\u001b[0m\n",
      "\u001b[0;32m~/.conda/envs/tensorflow/lib/python3.8/site-packages/tensorflow/python/autograph/impl/api.py\u001b[0m in \u001b[0;36mwrapper\u001b[0;34m(*args, **kwargs)\u001b[0m\n\u001b[1;32m    665\u001b[0m       \u001b[0;32mtry\u001b[0m\u001b[0;34m:\u001b[0m\u001b[0;34m\u001b[0m\u001b[0;34m\u001b[0m\u001b[0m\n\u001b[1;32m    666\u001b[0m         \u001b[0;32mwith\u001b[0m \u001b[0mconversion_ctx\u001b[0m\u001b[0;34m:\u001b[0m\u001b[0;34m\u001b[0m\u001b[0;34m\u001b[0m\u001b[0m\n\u001b[0;32m--> 667\u001b[0;31m           \u001b[0;32mreturn\u001b[0m \u001b[0mconverted_call\u001b[0m\u001b[0;34m(\u001b[0m\u001b[0mf\u001b[0m\u001b[0;34m,\u001b[0m \u001b[0margs\u001b[0m\u001b[0;34m,\u001b[0m \u001b[0mkwargs\u001b[0m\u001b[0;34m,\u001b[0m \u001b[0moptions\u001b[0m\u001b[0;34m=\u001b[0m\u001b[0moptions\u001b[0m\u001b[0;34m)\u001b[0m\u001b[0;34m\u001b[0m\u001b[0;34m\u001b[0m\u001b[0m\n\u001b[0m\u001b[1;32m    668\u001b[0m       \u001b[0;32mexcept\u001b[0m \u001b[0mException\u001b[0m \u001b[0;32mas\u001b[0m \u001b[0me\u001b[0m\u001b[0;34m:\u001b[0m  \u001b[0;31m# pylint:disable=broad-except\u001b[0m\u001b[0;34m\u001b[0m\u001b[0;34m\u001b[0m\u001b[0m\n\u001b[1;32m    669\u001b[0m         \u001b[0;32mif\u001b[0m \u001b[0mhasattr\u001b[0m\u001b[0;34m(\u001b[0m\u001b[0me\u001b[0m\u001b[0;34m,\u001b[0m \u001b[0;34m'ag_error_metadata'\u001b[0m\u001b[0;34m)\u001b[0m\u001b[0;34m:\u001b[0m\u001b[0;34m\u001b[0m\u001b[0;34m\u001b[0m\u001b[0m\n",
      "\u001b[0;32m~/.conda/envs/tensorflow/lib/python3.8/site-packages/tensorflow/python/autograph/impl/api.py\u001b[0m in \u001b[0;36mconverted_call\u001b[0;34m(f, args, kwargs, caller_fn_scope, options)\u001b[0m\n\u001b[1;32m    394\u001b[0m \u001b[0;34m\u001b[0m\u001b[0m\n\u001b[1;32m    395\u001b[0m   \u001b[0;32mif\u001b[0m \u001b[0;32mnot\u001b[0m \u001b[0moptions\u001b[0m\u001b[0;34m.\u001b[0m\u001b[0muser_requested\u001b[0m \u001b[0;32mand\u001b[0m \u001b[0mconversion\u001b[0m\u001b[0;34m.\u001b[0m\u001b[0mis_allowlisted\u001b[0m\u001b[0;34m(\u001b[0m\u001b[0mf\u001b[0m\u001b[0;34m)\u001b[0m\u001b[0;34m:\u001b[0m\u001b[0;34m\u001b[0m\u001b[0;34m\u001b[0m\u001b[0m\n\u001b[0;32m--> 396\u001b[0;31m     \u001b[0;32mreturn\u001b[0m \u001b[0m_call_unconverted\u001b[0m\u001b[0;34m(\u001b[0m\u001b[0mf\u001b[0m\u001b[0;34m,\u001b[0m \u001b[0margs\u001b[0m\u001b[0;34m,\u001b[0m \u001b[0mkwargs\u001b[0m\u001b[0;34m,\u001b[0m \u001b[0moptions\u001b[0m\u001b[0;34m)\u001b[0m\u001b[0;34m\u001b[0m\u001b[0;34m\u001b[0m\u001b[0m\n\u001b[0m\u001b[1;32m    397\u001b[0m \u001b[0;34m\u001b[0m\u001b[0m\n\u001b[1;32m    398\u001b[0m   \u001b[0;31m# internal_convert_user_code is for example turned off when issuing a dynamic\u001b[0m\u001b[0;34m\u001b[0m\u001b[0;34m\u001b[0m\u001b[0;34m\u001b[0m\u001b[0m\n",
      "\u001b[0;32m~/.conda/envs/tensorflow/lib/python3.8/site-packages/tensorflow/python/autograph/impl/api.py\u001b[0m in \u001b[0;36m_call_unconverted\u001b[0;34m(f, args, kwargs, options, update_cache)\u001b[0m\n\u001b[1;32m    476\u001b[0m \u001b[0;34m\u001b[0m\u001b[0m\n\u001b[1;32m    477\u001b[0m   \u001b[0;32mif\u001b[0m \u001b[0mkwargs\u001b[0m \u001b[0;32mis\u001b[0m \u001b[0;32mnot\u001b[0m \u001b[0;32mNone\u001b[0m\u001b[0;34m:\u001b[0m\u001b[0;34m\u001b[0m\u001b[0;34m\u001b[0m\u001b[0m\n\u001b[0;32m--> 478\u001b[0;31m     \u001b[0;32mreturn\u001b[0m \u001b[0mf\u001b[0m\u001b[0;34m(\u001b[0m\u001b[0;34m*\u001b[0m\u001b[0margs\u001b[0m\u001b[0;34m,\u001b[0m \u001b[0;34m**\u001b[0m\u001b[0mkwargs\u001b[0m\u001b[0;34m)\u001b[0m\u001b[0;34m\u001b[0m\u001b[0;34m\u001b[0m\u001b[0m\n\u001b[0m\u001b[1;32m    479\u001b[0m   \u001b[0;32mreturn\u001b[0m \u001b[0mf\u001b[0m\u001b[0;34m(\u001b[0m\u001b[0;34m*\u001b[0m\u001b[0margs\u001b[0m\u001b[0;34m)\u001b[0m\u001b[0;34m\u001b[0m\u001b[0;34m\u001b[0m\u001b[0m\n\u001b[1;32m    480\u001b[0m \u001b[0;34m\u001b[0m\u001b[0m\n",
      "\u001b[0;32m~/.conda/envs/tensorflow/lib/python3.8/site-packages/tensorflow/python/keras/engine/training.py\u001b[0m in \u001b[0;36mrun_step\u001b[0;34m(data)\u001b[0m\n\u001b[1;32m   1215\u001b[0m \u001b[0;34m\u001b[0m\u001b[0m\n\u001b[1;32m   1216\u001b[0m       \u001b[0;32mdef\u001b[0m \u001b[0mrun_step\u001b[0m\u001b[0;34m(\u001b[0m\u001b[0mdata\u001b[0m\u001b[0;34m)\u001b[0m\u001b[0;34m:\u001b[0m\u001b[0;34m\u001b[0m\u001b[0;34m\u001b[0m\u001b[0m\n\u001b[0;32m-> 1217\u001b[0;31m         \u001b[0moutputs\u001b[0m \u001b[0;34m=\u001b[0m \u001b[0mmodel\u001b[0m\u001b[0;34m.\u001b[0m\u001b[0mtest_step\u001b[0m\u001b[0;34m(\u001b[0m\u001b[0mdata\u001b[0m\u001b[0;34m)\u001b[0m\u001b[0;34m\u001b[0m\u001b[0;34m\u001b[0m\u001b[0m\n\u001b[0m\u001b[1;32m   1218\u001b[0m         \u001b[0;31m# Ensure counter is updated only if `test_step` succeeds.\u001b[0m\u001b[0;34m\u001b[0m\u001b[0;34m\u001b[0m\u001b[0;34m\u001b[0m\u001b[0m\n\u001b[1;32m   1219\u001b[0m         \u001b[0;32mwith\u001b[0m \u001b[0mops\u001b[0m\u001b[0;34m.\u001b[0m\u001b[0mcontrol_dependencies\u001b[0m\u001b[0;34m(\u001b[0m\u001b[0m_minimum_control_deps\u001b[0m\u001b[0;34m(\u001b[0m\u001b[0moutputs\u001b[0m\u001b[0;34m)\u001b[0m\u001b[0;34m)\u001b[0m\u001b[0;34m:\u001b[0m\u001b[0;34m\u001b[0m\u001b[0;34m\u001b[0m\u001b[0m\n",
      "\u001b[0;32m~/.conda/envs/tensorflow/lib/python3.8/site-packages/tensorflow/python/keras/engine/training.py\u001b[0m in \u001b[0;36mtest_step\u001b[0;34m(self, data)\u001b[0m\n\u001b[1;32m   1181\u001b[0m     \u001b[0mx\u001b[0m\u001b[0;34m,\u001b[0m \u001b[0my\u001b[0m\u001b[0;34m,\u001b[0m \u001b[0msample_weight\u001b[0m \u001b[0;34m=\u001b[0m \u001b[0mdata_adapter\u001b[0m\u001b[0;34m.\u001b[0m\u001b[0munpack_x_y_sample_weight\u001b[0m\u001b[0;34m(\u001b[0m\u001b[0mdata\u001b[0m\u001b[0;34m)\u001b[0m\u001b[0;34m\u001b[0m\u001b[0;34m\u001b[0m\u001b[0m\n\u001b[1;32m   1182\u001b[0m \u001b[0;34m\u001b[0m\u001b[0m\n\u001b[0;32m-> 1183\u001b[0;31m     \u001b[0my_pred\u001b[0m \u001b[0;34m=\u001b[0m \u001b[0mself\u001b[0m\u001b[0;34m(\u001b[0m\u001b[0mx\u001b[0m\u001b[0;34m,\u001b[0m \u001b[0mtraining\u001b[0m\u001b[0;34m=\u001b[0m\u001b[0;32mFalse\u001b[0m\u001b[0;34m)\u001b[0m\u001b[0;34m\u001b[0m\u001b[0;34m\u001b[0m\u001b[0m\n\u001b[0m\u001b[1;32m   1184\u001b[0m     \u001b[0;31m# Updates stateful loss metrics.\u001b[0m\u001b[0;34m\u001b[0m\u001b[0;34m\u001b[0m\u001b[0;34m\u001b[0m\u001b[0m\n\u001b[1;32m   1185\u001b[0m     self.compiled_loss(\n",
      "\u001b[0;32m~/.conda/envs/tensorflow/lib/python3.8/site-packages/tensorflow/python/keras/engine/base_layer.py\u001b[0m in \u001b[0;36m__call__\u001b[0;34m(self, *args, **kwargs)\u001b[0m\n\u001b[1;32m   1010\u001b[0m         with autocast_variable.enable_auto_cast_variables(\n\u001b[1;32m   1011\u001b[0m             self._compute_dtype_object):\n\u001b[0;32m-> 1012\u001b[0;31m           \u001b[0moutputs\u001b[0m \u001b[0;34m=\u001b[0m \u001b[0mcall_fn\u001b[0m\u001b[0;34m(\u001b[0m\u001b[0minputs\u001b[0m\u001b[0;34m,\u001b[0m \u001b[0;34m*\u001b[0m\u001b[0margs\u001b[0m\u001b[0;34m,\u001b[0m \u001b[0;34m**\u001b[0m\u001b[0mkwargs\u001b[0m\u001b[0;34m)\u001b[0m\u001b[0;34m\u001b[0m\u001b[0;34m\u001b[0m\u001b[0m\n\u001b[0m\u001b[1;32m   1013\u001b[0m \u001b[0;34m\u001b[0m\u001b[0m\n\u001b[1;32m   1014\u001b[0m         \u001b[0;32mif\u001b[0m \u001b[0mself\u001b[0m\u001b[0;34m.\u001b[0m\u001b[0m_activity_regularizer\u001b[0m\u001b[0;34m:\u001b[0m\u001b[0;34m\u001b[0m\u001b[0;34m\u001b[0m\u001b[0m\n",
      "\u001b[0;32m~/.conda/envs/tensorflow/lib/python3.8/site-packages/tensorflow/python/keras/engine/sequential.py\u001b[0m in \u001b[0;36mcall\u001b[0;34m(self, inputs, training, mask)\u001b[0m\n\u001b[1;32m    373\u001b[0m       \u001b[0;32mif\u001b[0m \u001b[0;32mnot\u001b[0m \u001b[0mself\u001b[0m\u001b[0;34m.\u001b[0m\u001b[0mbuilt\u001b[0m\u001b[0;34m:\u001b[0m\u001b[0;34m\u001b[0m\u001b[0;34m\u001b[0m\u001b[0m\n\u001b[1;32m    374\u001b[0m         \u001b[0mself\u001b[0m\u001b[0;34m.\u001b[0m\u001b[0m_init_graph_network\u001b[0m\u001b[0;34m(\u001b[0m\u001b[0mself\u001b[0m\u001b[0;34m.\u001b[0m\u001b[0minputs\u001b[0m\u001b[0;34m,\u001b[0m \u001b[0mself\u001b[0m\u001b[0;34m.\u001b[0m\u001b[0moutputs\u001b[0m\u001b[0;34m)\u001b[0m\u001b[0;34m\u001b[0m\u001b[0;34m\u001b[0m\u001b[0m\n\u001b[0;32m--> 375\u001b[0;31m       \u001b[0;32mreturn\u001b[0m \u001b[0msuper\u001b[0m\u001b[0;34m(\u001b[0m\u001b[0mSequential\u001b[0m\u001b[0;34m,\u001b[0m \u001b[0mself\u001b[0m\u001b[0;34m)\u001b[0m\u001b[0;34m.\u001b[0m\u001b[0mcall\u001b[0m\u001b[0;34m(\u001b[0m\u001b[0minputs\u001b[0m\u001b[0;34m,\u001b[0m \u001b[0mtraining\u001b[0m\u001b[0;34m=\u001b[0m\u001b[0mtraining\u001b[0m\u001b[0;34m,\u001b[0m \u001b[0mmask\u001b[0m\u001b[0;34m=\u001b[0m\u001b[0mmask\u001b[0m\u001b[0;34m)\u001b[0m\u001b[0;34m\u001b[0m\u001b[0;34m\u001b[0m\u001b[0m\n\u001b[0m\u001b[1;32m    376\u001b[0m \u001b[0;34m\u001b[0m\u001b[0m\n\u001b[1;32m    377\u001b[0m     \u001b[0moutputs\u001b[0m \u001b[0;34m=\u001b[0m \u001b[0minputs\u001b[0m  \u001b[0;31m# handle the corner case where self.layers is empty\u001b[0m\u001b[0;34m\u001b[0m\u001b[0;34m\u001b[0m\u001b[0m\n",
      "\u001b[0;32m~/.conda/envs/tensorflow/lib/python3.8/site-packages/tensorflow/python/keras/engine/functional.py\u001b[0m in \u001b[0;36mcall\u001b[0;34m(self, inputs, training, mask)\u001b[0m\n\u001b[1;32m    422\u001b[0m         \u001b[0ma\u001b[0m \u001b[0mlist\u001b[0m \u001b[0mof\u001b[0m \u001b[0mtensors\u001b[0m \u001b[0;32mif\u001b[0m \u001b[0mthere\u001b[0m \u001b[0mare\u001b[0m \u001b[0mmore\u001b[0m \u001b[0mthan\u001b[0m \u001b[0mone\u001b[0m \u001b[0moutputs\u001b[0m\u001b[0;34m.\u001b[0m\u001b[0;34m\u001b[0m\u001b[0;34m\u001b[0m\u001b[0m\n\u001b[1;32m    423\u001b[0m     \"\"\"\n\u001b[0;32m--> 424\u001b[0;31m     return self._run_internal_graph(\n\u001b[0m\u001b[1;32m    425\u001b[0m         inputs, training=training, mask=mask)\n\u001b[1;32m    426\u001b[0m \u001b[0;34m\u001b[0m\u001b[0m\n",
      "\u001b[0;32m~/.conda/envs/tensorflow/lib/python3.8/site-packages/tensorflow/python/keras/engine/functional.py\u001b[0m in \u001b[0;36m_run_internal_graph\u001b[0;34m(self, inputs, training, mask)\u001b[0m\n\u001b[1;32m    558\u001b[0m \u001b[0;34m\u001b[0m\u001b[0m\n\u001b[1;32m    559\u001b[0m         \u001b[0margs\u001b[0m\u001b[0;34m,\u001b[0m \u001b[0mkwargs\u001b[0m \u001b[0;34m=\u001b[0m \u001b[0mnode\u001b[0m\u001b[0;34m.\u001b[0m\u001b[0mmap_arguments\u001b[0m\u001b[0;34m(\u001b[0m\u001b[0mtensor_dict\u001b[0m\u001b[0;34m)\u001b[0m\u001b[0;34m\u001b[0m\u001b[0;34m\u001b[0m\u001b[0m\n\u001b[0;32m--> 560\u001b[0;31m         \u001b[0moutputs\u001b[0m \u001b[0;34m=\u001b[0m \u001b[0mnode\u001b[0m\u001b[0;34m.\u001b[0m\u001b[0mlayer\u001b[0m\u001b[0;34m(\u001b[0m\u001b[0;34m*\u001b[0m\u001b[0margs\u001b[0m\u001b[0;34m,\u001b[0m \u001b[0;34m**\u001b[0m\u001b[0mkwargs\u001b[0m\u001b[0;34m)\u001b[0m\u001b[0;34m\u001b[0m\u001b[0;34m\u001b[0m\u001b[0m\n\u001b[0m\u001b[1;32m    561\u001b[0m \u001b[0;34m\u001b[0m\u001b[0m\n\u001b[1;32m    562\u001b[0m         \u001b[0;31m# Update tensor_dict.\u001b[0m\u001b[0;34m\u001b[0m\u001b[0;34m\u001b[0m\u001b[0;34m\u001b[0m\u001b[0m\n",
      "\u001b[0;32m~/.conda/envs/tensorflow/lib/python3.8/site-packages/tensorflow/python/keras/layers/recurrent.py\u001b[0m in \u001b[0;36m__call__\u001b[0;34m(self, inputs, initial_state, constants, **kwargs)\u001b[0m\n\u001b[1;32m    658\u001b[0m \u001b[0;34m\u001b[0m\u001b[0m\n\u001b[1;32m    659\u001b[0m     \u001b[0;32mif\u001b[0m \u001b[0minitial_state\u001b[0m \u001b[0;32mis\u001b[0m \u001b[0;32mNone\u001b[0m \u001b[0;32mand\u001b[0m \u001b[0mconstants\u001b[0m \u001b[0;32mis\u001b[0m \u001b[0;32mNone\u001b[0m\u001b[0;34m:\u001b[0m\u001b[0;34m\u001b[0m\u001b[0;34m\u001b[0m\u001b[0m\n\u001b[0;32m--> 660\u001b[0;31m       \u001b[0;32mreturn\u001b[0m \u001b[0msuper\u001b[0m\u001b[0;34m(\u001b[0m\u001b[0mRNN\u001b[0m\u001b[0;34m,\u001b[0m \u001b[0mself\u001b[0m\u001b[0;34m)\u001b[0m\u001b[0;34m.\u001b[0m\u001b[0m__call__\u001b[0m\u001b[0;34m(\u001b[0m\u001b[0minputs\u001b[0m\u001b[0;34m,\u001b[0m \u001b[0;34m**\u001b[0m\u001b[0mkwargs\u001b[0m\u001b[0;34m)\u001b[0m\u001b[0;34m\u001b[0m\u001b[0;34m\u001b[0m\u001b[0m\n\u001b[0m\u001b[1;32m    661\u001b[0m \u001b[0;34m\u001b[0m\u001b[0m\n\u001b[1;32m    662\u001b[0m     \u001b[0;31m# If any of `initial_state` or `constants` are specified and are Keras\u001b[0m\u001b[0;34m\u001b[0m\u001b[0;34m\u001b[0m\u001b[0;34m\u001b[0m\u001b[0m\n",
      "\u001b[0;32m~/.conda/envs/tensorflow/lib/python3.8/site-packages/tensorflow/python/keras/engine/base_layer.py\u001b[0m in \u001b[0;36m__call__\u001b[0;34m(self, *args, **kwargs)\u001b[0m\n\u001b[1;32m   1010\u001b[0m         with autocast_variable.enable_auto_cast_variables(\n\u001b[1;32m   1011\u001b[0m             self._compute_dtype_object):\n\u001b[0;32m-> 1012\u001b[0;31m           \u001b[0moutputs\u001b[0m \u001b[0;34m=\u001b[0m \u001b[0mcall_fn\u001b[0m\u001b[0;34m(\u001b[0m\u001b[0minputs\u001b[0m\u001b[0;34m,\u001b[0m \u001b[0;34m*\u001b[0m\u001b[0margs\u001b[0m\u001b[0;34m,\u001b[0m \u001b[0;34m**\u001b[0m\u001b[0mkwargs\u001b[0m\u001b[0;34m)\u001b[0m\u001b[0;34m\u001b[0m\u001b[0;34m\u001b[0m\u001b[0m\n\u001b[0m\u001b[1;32m   1013\u001b[0m \u001b[0;34m\u001b[0m\u001b[0m\n\u001b[1;32m   1014\u001b[0m         \u001b[0;32mif\u001b[0m \u001b[0mself\u001b[0m\u001b[0;34m.\u001b[0m\u001b[0m_activity_regularizer\u001b[0m\u001b[0;34m:\u001b[0m\u001b[0;34m\u001b[0m\u001b[0;34m\u001b[0m\u001b[0m\n",
      "\u001b[0;32m~/.conda/envs/tensorflow/lib/python3.8/site-packages/tensorflow/python/keras/layers/recurrent_v2.py\u001b[0m in \u001b[0;36mcall\u001b[0;34m(self, inputs, mask, training, initial_state)\u001b[0m\n\u001b[1;32m   1268\u001b[0m         \u001b[0;32melse\u001b[0m\u001b[0;34m:\u001b[0m\u001b[0;34m\u001b[0m\u001b[0;34m\u001b[0m\u001b[0m\n\u001b[1;32m   1269\u001b[0m           (last_output, outputs, new_h, new_c,\n\u001b[0;32m-> 1270\u001b[0;31m            runtime) = lstm_with_backend_selection(**normal_lstm_kwargs)\n\u001b[0m\u001b[1;32m   1271\u001b[0m \u001b[0;34m\u001b[0m\u001b[0m\n\u001b[1;32m   1272\u001b[0m       \u001b[0mstates\u001b[0m \u001b[0;34m=\u001b[0m \u001b[0;34m[\u001b[0m\u001b[0mnew_h\u001b[0m\u001b[0;34m,\u001b[0m \u001b[0mnew_c\u001b[0m\u001b[0;34m]\u001b[0m\u001b[0;34m\u001b[0m\u001b[0;34m\u001b[0m\u001b[0m\n",
      "\u001b[0;32m~/.conda/envs/tensorflow/lib/python3.8/site-packages/tensorflow/python/keras/layers/recurrent_v2.py\u001b[0m in \u001b[0;36mlstm_with_backend_selection\u001b[0;34m(inputs, init_h, init_c, kernel, recurrent_kernel, bias, mask, time_major, go_backwards, sequence_lengths, zero_output_for_mask)\u001b[0m\n\u001b[1;32m   1654\u001b[0m     \u001b[0;31m# grappler will kick in during session execution to optimize the graph.\u001b[0m\u001b[0;34m\u001b[0m\u001b[0;34m\u001b[0m\u001b[0;34m\u001b[0m\u001b[0m\n\u001b[1;32m   1655\u001b[0m     \u001b[0mlast_output\u001b[0m\u001b[0;34m,\u001b[0m \u001b[0moutputs\u001b[0m\u001b[0;34m,\u001b[0m \u001b[0mnew_h\u001b[0m\u001b[0;34m,\u001b[0m \u001b[0mnew_c\u001b[0m\u001b[0;34m,\u001b[0m \u001b[0mruntime\u001b[0m \u001b[0;34m=\u001b[0m \u001b[0mdefun_standard_lstm\u001b[0m\u001b[0;34m(\u001b[0m\u001b[0;34m**\u001b[0m\u001b[0mparams\u001b[0m\u001b[0;34m)\u001b[0m\u001b[0;34m\u001b[0m\u001b[0;34m\u001b[0m\u001b[0m\n\u001b[0;32m-> 1656\u001b[0;31m     \u001b[0mfunction\u001b[0m\u001b[0;34m.\u001b[0m\u001b[0mregister\u001b[0m\u001b[0;34m(\u001b[0m\u001b[0mdefun_gpu_lstm\u001b[0m\u001b[0;34m,\u001b[0m \u001b[0;34m**\u001b[0m\u001b[0mparams\u001b[0m\u001b[0;34m)\u001b[0m\u001b[0;34m\u001b[0m\u001b[0;34m\u001b[0m\u001b[0m\n\u001b[0m\u001b[1;32m   1657\u001b[0m \u001b[0;34m\u001b[0m\u001b[0m\n\u001b[1;32m   1658\u001b[0m   \u001b[0;32mreturn\u001b[0m \u001b[0mlast_output\u001b[0m\u001b[0;34m,\u001b[0m \u001b[0moutputs\u001b[0m\u001b[0;34m,\u001b[0m \u001b[0mnew_h\u001b[0m\u001b[0;34m,\u001b[0m \u001b[0mnew_c\u001b[0m\u001b[0;34m,\u001b[0m \u001b[0mruntime\u001b[0m\u001b[0;34m\u001b[0m\u001b[0;34m\u001b[0m\u001b[0m\n",
      "\u001b[0;32m~/.conda/envs/tensorflow/lib/python3.8/site-packages/tensorflow/python/eager/function.py\u001b[0m in \u001b[0;36mregister\u001b[0;34m(func, *args, **kwargs)\u001b[0m\n\u001b[1;32m   3386\u001b[0m     raise ValueError(\"Only defun function is allowed to be registered. \"\n\u001b[1;32m   3387\u001b[0m                      \"Got type: %s\" % type(func))\n\u001b[0;32m-> 3388\u001b[0;31m   \u001b[0mconcrete_func\u001b[0m \u001b[0;34m=\u001b[0m \u001b[0mfunc\u001b[0m\u001b[0;34m.\u001b[0m\u001b[0mget_concrete_function\u001b[0m\u001b[0;34m(\u001b[0m\u001b[0;34m*\u001b[0m\u001b[0margs\u001b[0m\u001b[0;34m,\u001b[0m \u001b[0;34m**\u001b[0m\u001b[0mkwargs\u001b[0m\u001b[0;34m)\u001b[0m\u001b[0;34m\u001b[0m\u001b[0;34m\u001b[0m\u001b[0m\n\u001b[0m\u001b[1;32m   3389\u001b[0m   \u001b[0mconcrete_func\u001b[0m\u001b[0;34m.\u001b[0m\u001b[0madd_to_graph\u001b[0m\u001b[0;34m(\u001b[0m\u001b[0;34m)\u001b[0m\u001b[0;34m\u001b[0m\u001b[0;34m\u001b[0m\u001b[0m\n\u001b[1;32m   3390\u001b[0m   \u001b[0mconcrete_func\u001b[0m\u001b[0;34m.\u001b[0m\u001b[0madd_gradient_functions_to_graph\u001b[0m\u001b[0;34m(\u001b[0m\u001b[0;34m)\u001b[0m\u001b[0;34m\u001b[0m\u001b[0;34m\u001b[0m\u001b[0m\n",
      "\u001b[0;32m~/.conda/envs/tensorflow/lib/python3.8/site-packages/tensorflow/python/eager/function.py\u001b[0m in \u001b[0;36mget_concrete_function\u001b[0;34m(self, *args, **kwargs)\u001b[0m\n\u001b[1;32m   3049\u001b[0m       \u001b[0;34m**\u001b[0m\u001b[0mkwargs\u001b[0m\u001b[0;34m:\u001b[0m \u001b[0minputs\u001b[0m \u001b[0mto\u001b[0m \u001b[0mspecialize\u001b[0m \u001b[0mon\u001b[0m\u001b[0;34m.\u001b[0m\u001b[0;34m\u001b[0m\u001b[0;34m\u001b[0m\u001b[0m\n\u001b[1;32m   3050\u001b[0m     \"\"\"\n\u001b[0;32m-> 3051\u001b[0;31m     graph_function = self._get_concrete_function_garbage_collected(\n\u001b[0m\u001b[1;32m   3052\u001b[0m         *args, **kwargs)\n\u001b[1;32m   3053\u001b[0m     \u001b[0mgraph_function\u001b[0m\u001b[0;34m.\u001b[0m\u001b[0m_garbage_collector\u001b[0m\u001b[0;34m.\u001b[0m\u001b[0mrelease\u001b[0m\u001b[0;34m(\u001b[0m\u001b[0;34m)\u001b[0m  \u001b[0;31m# pylint: disable=protected-access\u001b[0m\u001b[0;34m\u001b[0m\u001b[0;34m\u001b[0m\u001b[0m\n",
      "\u001b[0;32m~/.conda/envs/tensorflow/lib/python3.8/site-packages/tensorflow/python/eager/function.py\u001b[0m in \u001b[0;36m_get_concrete_function_garbage_collected\u001b[0;34m(self, *args, **kwargs)\u001b[0m\n\u001b[1;32m   3017\u001b[0m       \u001b[0margs\u001b[0m\u001b[0;34m,\u001b[0m \u001b[0mkwargs\u001b[0m \u001b[0;34m=\u001b[0m \u001b[0;32mNone\u001b[0m\u001b[0;34m,\u001b[0m \u001b[0;32mNone\u001b[0m\u001b[0;34m\u001b[0m\u001b[0;34m\u001b[0m\u001b[0m\n\u001b[1;32m   3018\u001b[0m     \u001b[0;32mwith\u001b[0m \u001b[0mself\u001b[0m\u001b[0;34m.\u001b[0m\u001b[0m_lock\u001b[0m\u001b[0;34m:\u001b[0m\u001b[0;34m\u001b[0m\u001b[0;34m\u001b[0m\u001b[0m\n\u001b[0;32m-> 3019\u001b[0;31m       \u001b[0mgraph_function\u001b[0m\u001b[0;34m,\u001b[0m \u001b[0m_\u001b[0m \u001b[0;34m=\u001b[0m \u001b[0mself\u001b[0m\u001b[0;34m.\u001b[0m\u001b[0m_maybe_define_function\u001b[0m\u001b[0;34m(\u001b[0m\u001b[0margs\u001b[0m\u001b[0;34m,\u001b[0m \u001b[0mkwargs\u001b[0m\u001b[0;34m)\u001b[0m\u001b[0;34m\u001b[0m\u001b[0;34m\u001b[0m\u001b[0m\n\u001b[0m\u001b[1;32m   3020\u001b[0m       \u001b[0mseen_names\u001b[0m \u001b[0;34m=\u001b[0m \u001b[0mset\u001b[0m\u001b[0;34m(\u001b[0m\u001b[0;34m)\u001b[0m\u001b[0;34m\u001b[0m\u001b[0;34m\u001b[0m\u001b[0m\n\u001b[1;32m   3021\u001b[0m       captured = object_identity.ObjectIdentitySet(\n",
      "\u001b[0;32m~/.conda/envs/tensorflow/lib/python3.8/site-packages/tensorflow/python/eager/function.py\u001b[0m in \u001b[0;36m_maybe_define_function\u001b[0;34m(self, args, kwargs)\u001b[0m\n\u001b[1;32m   3359\u001b[0m \u001b[0;34m\u001b[0m\u001b[0m\n\u001b[1;32m   3360\u001b[0m           \u001b[0mself\u001b[0m\u001b[0;34m.\u001b[0m\u001b[0m_function_cache\u001b[0m\u001b[0;34m.\u001b[0m\u001b[0mmissed\u001b[0m\u001b[0;34m.\u001b[0m\u001b[0madd\u001b[0m\u001b[0;34m(\u001b[0m\u001b[0mcall_context_key\u001b[0m\u001b[0;34m)\u001b[0m\u001b[0;34m\u001b[0m\u001b[0;34m\u001b[0m\u001b[0m\n\u001b[0;32m-> 3361\u001b[0;31m           \u001b[0mgraph_function\u001b[0m \u001b[0;34m=\u001b[0m \u001b[0mself\u001b[0m\u001b[0;34m.\u001b[0m\u001b[0m_create_graph_function\u001b[0m\u001b[0;34m(\u001b[0m\u001b[0margs\u001b[0m\u001b[0;34m,\u001b[0m \u001b[0mkwargs\u001b[0m\u001b[0;34m)\u001b[0m\u001b[0;34m\u001b[0m\u001b[0;34m\u001b[0m\u001b[0m\n\u001b[0m\u001b[1;32m   3362\u001b[0m           \u001b[0mself\u001b[0m\u001b[0;34m.\u001b[0m\u001b[0m_function_cache\u001b[0m\u001b[0;34m.\u001b[0m\u001b[0mprimary\u001b[0m\u001b[0;34m[\u001b[0m\u001b[0mcache_key\u001b[0m\u001b[0;34m]\u001b[0m \u001b[0;34m=\u001b[0m \u001b[0mgraph_function\u001b[0m\u001b[0;34m\u001b[0m\u001b[0;34m\u001b[0m\u001b[0m\n\u001b[1;32m   3363\u001b[0m \u001b[0;34m\u001b[0m\u001b[0m\n",
      "\u001b[0;32m~/.conda/envs/tensorflow/lib/python3.8/site-packages/tensorflow/python/eager/function.py\u001b[0m in \u001b[0;36m_create_graph_function\u001b[0;34m(self, args, kwargs, override_flat_arg_shapes)\u001b[0m\n\u001b[1;32m   3194\u001b[0m     \u001b[0marg_names\u001b[0m \u001b[0;34m=\u001b[0m \u001b[0mbase_arg_names\u001b[0m \u001b[0;34m+\u001b[0m \u001b[0mmissing_arg_names\u001b[0m\u001b[0;34m\u001b[0m\u001b[0;34m\u001b[0m\u001b[0m\n\u001b[1;32m   3195\u001b[0m     graph_function = ConcreteFunction(\n\u001b[0;32m-> 3196\u001b[0;31m         func_graph_module.func_graph_from_py_func(\n\u001b[0m\u001b[1;32m   3197\u001b[0m             \u001b[0mself\u001b[0m\u001b[0;34m.\u001b[0m\u001b[0m_name\u001b[0m\u001b[0;34m,\u001b[0m\u001b[0;34m\u001b[0m\u001b[0;34m\u001b[0m\u001b[0m\n\u001b[1;32m   3198\u001b[0m             \u001b[0mself\u001b[0m\u001b[0;34m.\u001b[0m\u001b[0m_python_function\u001b[0m\u001b[0;34m,\u001b[0m\u001b[0;34m\u001b[0m\u001b[0;34m\u001b[0m\u001b[0m\n",
      "\u001b[0;32m~/.conda/envs/tensorflow/lib/python3.8/site-packages/tensorflow/python/framework/func_graph.py\u001b[0m in \u001b[0;36mfunc_graph_from_py_func\u001b[0;34m(name, python_func, args, kwargs, signature, func_graph, autograph, autograph_options, add_control_dependencies, arg_names, op_return_value, collections, capture_by_value, override_flat_arg_shapes)\u001b[0m\n\u001b[1;32m    988\u001b[0m         \u001b[0m_\u001b[0m\u001b[0;34m,\u001b[0m \u001b[0moriginal_func\u001b[0m \u001b[0;34m=\u001b[0m \u001b[0mtf_decorator\u001b[0m\u001b[0;34m.\u001b[0m\u001b[0munwrap\u001b[0m\u001b[0;34m(\u001b[0m\u001b[0mpython_func\u001b[0m\u001b[0;34m)\u001b[0m\u001b[0;34m\u001b[0m\u001b[0;34m\u001b[0m\u001b[0m\n\u001b[1;32m    989\u001b[0m \u001b[0;34m\u001b[0m\u001b[0m\n\u001b[0;32m--> 990\u001b[0;31m       \u001b[0mfunc_outputs\u001b[0m \u001b[0;34m=\u001b[0m \u001b[0mpython_func\u001b[0m\u001b[0;34m(\u001b[0m\u001b[0;34m*\u001b[0m\u001b[0mfunc_args\u001b[0m\u001b[0;34m,\u001b[0m \u001b[0;34m**\u001b[0m\u001b[0mfunc_kwargs\u001b[0m\u001b[0;34m)\u001b[0m\u001b[0;34m\u001b[0m\u001b[0;34m\u001b[0m\u001b[0m\n\u001b[0m\u001b[1;32m    991\u001b[0m \u001b[0;34m\u001b[0m\u001b[0m\n\u001b[1;32m    992\u001b[0m       \u001b[0;31m# invariant: `func_outputs` contains only Tensors, CompositeTensors,\u001b[0m\u001b[0;34m\u001b[0m\u001b[0;34m\u001b[0m\u001b[0;34m\u001b[0m\u001b[0m\n",
      "\u001b[0;32m~/.conda/envs/tensorflow/lib/python3.8/site-packages/tensorflow/python/keras/layers/recurrent_v2.py\u001b[0m in \u001b[0;36mgpu_lstm_with_fallback\u001b[0;34m(inputs, init_h, init_c, kernel, recurrent_kernel, bias, mask, time_major, go_backwards, sequence_lengths, zero_output_for_mask)\u001b[0m\n\u001b[1;32m   1582\u001b[0m     \u001b[0;34m\"\"\"Use CuDNN kernel when mask is none or strictly right padded.\"\"\"\u001b[0m\u001b[0;34m\u001b[0m\u001b[0;34m\u001b[0m\u001b[0m\n\u001b[1;32m   1583\u001b[0m     \u001b[0;32mif\u001b[0m \u001b[0mmask\u001b[0m \u001b[0;32mis\u001b[0m \u001b[0;32mNone\u001b[0m\u001b[0;34m:\u001b[0m\u001b[0;34m\u001b[0m\u001b[0;34m\u001b[0m\u001b[0m\n\u001b[0;32m-> 1584\u001b[0;31m       return gpu_lstm(\n\u001b[0m\u001b[1;32m   1585\u001b[0m           \u001b[0minputs\u001b[0m\u001b[0;34m=\u001b[0m\u001b[0minputs\u001b[0m\u001b[0;34m,\u001b[0m\u001b[0;34m\u001b[0m\u001b[0;34m\u001b[0m\u001b[0m\n\u001b[1;32m   1586\u001b[0m           \u001b[0minit_h\u001b[0m\u001b[0;34m=\u001b[0m\u001b[0minit_h\u001b[0m\u001b[0;34m,\u001b[0m\u001b[0;34m\u001b[0m\u001b[0;34m\u001b[0m\u001b[0m\n",
      "\u001b[0;32m~/.conda/envs/tensorflow/lib/python3.8/site-packages/tensorflow/python/keras/layers/recurrent_v2.py\u001b[0m in \u001b[0;36mgpu_lstm\u001b[0;34m(inputs, init_h, init_c, kernel, recurrent_kernel, bias, mask, time_major, go_backwards, sequence_lengths)\u001b[0m\n\u001b[1;32m   1468\u001b[0m     \u001b[0mfull_bias\u001b[0m \u001b[0;34m=\u001b[0m \u001b[0;34m[\u001b[0m\u001b[0mfull_bias\u001b[0m\u001b[0;34m[\u001b[0m\u001b[0mx\u001b[0m\u001b[0;34m]\u001b[0m \u001b[0;32mfor\u001b[0m \u001b[0mx\u001b[0m \u001b[0;32min\u001b[0m \u001b[0;34m(\u001b[0m\u001b[0;36m0\u001b[0m\u001b[0;34m,\u001b[0m \u001b[0;36m1\u001b[0m\u001b[0;34m,\u001b[0m \u001b[0;36m3\u001b[0m\u001b[0;34m,\u001b[0m \u001b[0;36m2\u001b[0m\u001b[0;34m,\u001b[0m \u001b[0;36m4\u001b[0m\u001b[0;34m,\u001b[0m \u001b[0;36m5\u001b[0m\u001b[0;34m,\u001b[0m \u001b[0;36m7\u001b[0m\u001b[0;34m,\u001b[0m \u001b[0;36m6\u001b[0m\u001b[0;34m)\u001b[0m\u001b[0;34m]\u001b[0m\u001b[0;34m\u001b[0m\u001b[0;34m\u001b[0m\u001b[0m\n\u001b[1;32m   1469\u001b[0m \u001b[0;34m\u001b[0m\u001b[0m\n\u001b[0;32m-> 1470\u001b[0;31m   params = _canonical_to_params(\n\u001b[0m\u001b[1;32m   1471\u001b[0m       \u001b[0mweights\u001b[0m\u001b[0;34m=\u001b[0m\u001b[0mweights\u001b[0m\u001b[0;34m,\u001b[0m\u001b[0;34m\u001b[0m\u001b[0;34m\u001b[0m\u001b[0m\n\u001b[1;32m   1472\u001b[0m       \u001b[0mbiases\u001b[0m\u001b[0;34m=\u001b[0m\u001b[0marray_ops\u001b[0m\u001b[0;34m.\u001b[0m\u001b[0msplit\u001b[0m\u001b[0;34m(\u001b[0m\u001b[0mfull_bias\u001b[0m\u001b[0;34m,\u001b[0m \u001b[0;36m8\u001b[0m\u001b[0;34m)\u001b[0m\u001b[0;34m,\u001b[0m\u001b[0;34m\u001b[0m\u001b[0;34m\u001b[0m\u001b[0m\n",
      "\u001b[0;32m~/.conda/envs/tensorflow/lib/python3.8/site-packages/tensorflow/python/keras/layers/recurrent_v2.py\u001b[0m in \u001b[0;36m_canonical_to_params\u001b[0;34m(weights, biases, shape, transpose_weights)\u001b[0m\n\u001b[1;32m   1318\u001b[0m     \u001b[0;32mreturn\u001b[0m \u001b[0marray_ops\u001b[0m\u001b[0;34m.\u001b[0m\u001b[0mtranspose\u001b[0m\u001b[0;34m(\u001b[0m\u001b[0mw\u001b[0m\u001b[0;34m)\u001b[0m \u001b[0;32mif\u001b[0m \u001b[0mtranspose_weights\u001b[0m \u001b[0;32melse\u001b[0m \u001b[0mw\u001b[0m\u001b[0;34m\u001b[0m\u001b[0;34m\u001b[0m\u001b[0m\n\u001b[1;32m   1319\u001b[0m \u001b[0;34m\u001b[0m\u001b[0m\n\u001b[0;32m-> 1320\u001b[0;31m   \u001b[0mweights\u001b[0m \u001b[0;34m=\u001b[0m \u001b[0;34m[\u001b[0m\u001b[0marray_ops\u001b[0m\u001b[0;34m.\u001b[0m\u001b[0mreshape\u001b[0m\u001b[0;34m(\u001b[0m\u001b[0mconvert\u001b[0m\u001b[0;34m(\u001b[0m\u001b[0mx\u001b[0m\u001b[0;34m)\u001b[0m\u001b[0;34m,\u001b[0m \u001b[0mshape\u001b[0m\u001b[0;34m)\u001b[0m \u001b[0;32mfor\u001b[0m \u001b[0mx\u001b[0m \u001b[0;32min\u001b[0m \u001b[0mweights\u001b[0m\u001b[0;34m]\u001b[0m\u001b[0;34m\u001b[0m\u001b[0;34m\u001b[0m\u001b[0m\n\u001b[0m\u001b[1;32m   1321\u001b[0m   \u001b[0mbiases\u001b[0m \u001b[0;34m=\u001b[0m \u001b[0;34m[\u001b[0m\u001b[0marray_ops\u001b[0m\u001b[0;34m.\u001b[0m\u001b[0mreshape\u001b[0m\u001b[0;34m(\u001b[0m\u001b[0mx\u001b[0m\u001b[0;34m,\u001b[0m \u001b[0mshape\u001b[0m\u001b[0;34m)\u001b[0m \u001b[0;32mfor\u001b[0m \u001b[0mx\u001b[0m \u001b[0;32min\u001b[0m \u001b[0mbiases\u001b[0m\u001b[0;34m]\u001b[0m\u001b[0;34m\u001b[0m\u001b[0;34m\u001b[0m\u001b[0m\n\u001b[1;32m   1322\u001b[0m   \u001b[0;32mreturn\u001b[0m \u001b[0marray_ops\u001b[0m\u001b[0;34m.\u001b[0m\u001b[0mconcat\u001b[0m\u001b[0;34m(\u001b[0m\u001b[0mweights\u001b[0m \u001b[0;34m+\u001b[0m \u001b[0mbiases\u001b[0m\u001b[0;34m,\u001b[0m \u001b[0maxis\u001b[0m\u001b[0;34m=\u001b[0m\u001b[0;36m0\u001b[0m\u001b[0;34m)\u001b[0m\u001b[0;34m\u001b[0m\u001b[0;34m\u001b[0m\u001b[0m\n",
      "\u001b[0;32m~/.conda/envs/tensorflow/lib/python3.8/site-packages/tensorflow/python/keras/layers/recurrent_v2.py\u001b[0m in \u001b[0;36m<listcomp>\u001b[0;34m(.0)\u001b[0m\n\u001b[1;32m   1318\u001b[0m     \u001b[0;32mreturn\u001b[0m \u001b[0marray_ops\u001b[0m\u001b[0;34m.\u001b[0m\u001b[0mtranspose\u001b[0m\u001b[0;34m(\u001b[0m\u001b[0mw\u001b[0m\u001b[0;34m)\u001b[0m \u001b[0;32mif\u001b[0m \u001b[0mtranspose_weights\u001b[0m \u001b[0;32melse\u001b[0m \u001b[0mw\u001b[0m\u001b[0;34m\u001b[0m\u001b[0;34m\u001b[0m\u001b[0m\n\u001b[1;32m   1319\u001b[0m \u001b[0;34m\u001b[0m\u001b[0m\n\u001b[0;32m-> 1320\u001b[0;31m   \u001b[0mweights\u001b[0m \u001b[0;34m=\u001b[0m \u001b[0;34m[\u001b[0m\u001b[0marray_ops\u001b[0m\u001b[0;34m.\u001b[0m\u001b[0mreshape\u001b[0m\u001b[0;34m(\u001b[0m\u001b[0mconvert\u001b[0m\u001b[0;34m(\u001b[0m\u001b[0mx\u001b[0m\u001b[0;34m)\u001b[0m\u001b[0;34m,\u001b[0m \u001b[0mshape\u001b[0m\u001b[0;34m)\u001b[0m \u001b[0;32mfor\u001b[0m \u001b[0mx\u001b[0m \u001b[0;32min\u001b[0m \u001b[0mweights\u001b[0m\u001b[0;34m]\u001b[0m\u001b[0;34m\u001b[0m\u001b[0;34m\u001b[0m\u001b[0m\n\u001b[0m\u001b[1;32m   1321\u001b[0m   \u001b[0mbiases\u001b[0m \u001b[0;34m=\u001b[0m \u001b[0;34m[\u001b[0m\u001b[0marray_ops\u001b[0m\u001b[0;34m.\u001b[0m\u001b[0mreshape\u001b[0m\u001b[0;34m(\u001b[0m\u001b[0mx\u001b[0m\u001b[0;34m,\u001b[0m \u001b[0mshape\u001b[0m\u001b[0;34m)\u001b[0m \u001b[0;32mfor\u001b[0m \u001b[0mx\u001b[0m \u001b[0;32min\u001b[0m \u001b[0mbiases\u001b[0m\u001b[0;34m]\u001b[0m\u001b[0;34m\u001b[0m\u001b[0;34m\u001b[0m\u001b[0m\n\u001b[1;32m   1322\u001b[0m   \u001b[0;32mreturn\u001b[0m \u001b[0marray_ops\u001b[0m\u001b[0;34m.\u001b[0m\u001b[0mconcat\u001b[0m\u001b[0;34m(\u001b[0m\u001b[0mweights\u001b[0m \u001b[0;34m+\u001b[0m \u001b[0mbiases\u001b[0m\u001b[0;34m,\u001b[0m \u001b[0maxis\u001b[0m\u001b[0;34m=\u001b[0m\u001b[0;36m0\u001b[0m\u001b[0;34m)\u001b[0m\u001b[0;34m\u001b[0m\u001b[0;34m\u001b[0m\u001b[0m\n",
      "\u001b[0;32m~/.conda/envs/tensorflow/lib/python3.8/site-packages/tensorflow/python/keras/layers/recurrent_v2.py\u001b[0m in \u001b[0;36mconvert\u001b[0;34m(w)\u001b[0m\n\u001b[1;32m   1316\u001b[0m   \"\"\"\n\u001b[1;32m   1317\u001b[0m   \u001b[0;32mdef\u001b[0m \u001b[0mconvert\u001b[0m\u001b[0;34m(\u001b[0m\u001b[0mw\u001b[0m\u001b[0;34m)\u001b[0m\u001b[0;34m:\u001b[0m\u001b[0;34m\u001b[0m\u001b[0;34m\u001b[0m\u001b[0m\n\u001b[0;32m-> 1318\u001b[0;31m     \u001b[0;32mreturn\u001b[0m \u001b[0marray_ops\u001b[0m\u001b[0;34m.\u001b[0m\u001b[0mtranspose\u001b[0m\u001b[0;34m(\u001b[0m\u001b[0mw\u001b[0m\u001b[0;34m)\u001b[0m \u001b[0;32mif\u001b[0m \u001b[0mtranspose_weights\u001b[0m \u001b[0;32melse\u001b[0m \u001b[0mw\u001b[0m\u001b[0;34m\u001b[0m\u001b[0;34m\u001b[0m\u001b[0m\n\u001b[0m\u001b[1;32m   1319\u001b[0m \u001b[0;34m\u001b[0m\u001b[0m\n\u001b[1;32m   1320\u001b[0m   \u001b[0mweights\u001b[0m \u001b[0;34m=\u001b[0m \u001b[0;34m[\u001b[0m\u001b[0marray_ops\u001b[0m\u001b[0;34m.\u001b[0m\u001b[0mreshape\u001b[0m\u001b[0;34m(\u001b[0m\u001b[0mconvert\u001b[0m\u001b[0;34m(\u001b[0m\u001b[0mx\u001b[0m\u001b[0;34m)\u001b[0m\u001b[0;34m,\u001b[0m \u001b[0mshape\u001b[0m\u001b[0;34m)\u001b[0m \u001b[0;32mfor\u001b[0m \u001b[0mx\u001b[0m \u001b[0;32min\u001b[0m \u001b[0mweights\u001b[0m\u001b[0;34m]\u001b[0m\u001b[0;34m\u001b[0m\u001b[0;34m\u001b[0m\u001b[0m\n",
      "\u001b[0;32m~/.conda/envs/tensorflow/lib/python3.8/site-packages/tensorflow/python/util/dispatch.py\u001b[0m in \u001b[0;36mwrapper\u001b[0;34m(*args, **kwargs)\u001b[0m\n\u001b[1;32m    199\u001b[0m     \u001b[0;34m\"\"\"Call target, and fall back on dispatchers if there is a TypeError.\"\"\"\u001b[0m\u001b[0;34m\u001b[0m\u001b[0;34m\u001b[0m\u001b[0m\n\u001b[1;32m    200\u001b[0m     \u001b[0;32mtry\u001b[0m\u001b[0;34m:\u001b[0m\u001b[0;34m\u001b[0m\u001b[0;34m\u001b[0m\u001b[0m\n\u001b[0;32m--> 201\u001b[0;31m       \u001b[0;32mreturn\u001b[0m \u001b[0mtarget\u001b[0m\u001b[0;34m(\u001b[0m\u001b[0;34m*\u001b[0m\u001b[0margs\u001b[0m\u001b[0;34m,\u001b[0m \u001b[0;34m**\u001b[0m\u001b[0mkwargs\u001b[0m\u001b[0;34m)\u001b[0m\u001b[0;34m\u001b[0m\u001b[0;34m\u001b[0m\u001b[0m\n\u001b[0m\u001b[1;32m    202\u001b[0m     \u001b[0;32mexcept\u001b[0m \u001b[0;34m(\u001b[0m\u001b[0mTypeError\u001b[0m\u001b[0;34m,\u001b[0m \u001b[0mValueError\u001b[0m\u001b[0;34m)\u001b[0m\u001b[0;34m:\u001b[0m\u001b[0;34m\u001b[0m\u001b[0;34m\u001b[0m\u001b[0m\n\u001b[1;32m    203\u001b[0m       \u001b[0;31m# Note: convert_to_eager_tensor currently raises a ValueError, not a\u001b[0m\u001b[0;34m\u001b[0m\u001b[0;34m\u001b[0m\u001b[0;34m\u001b[0m\u001b[0m\n",
      "\u001b[0;32m~/.conda/envs/tensorflow/lib/python3.8/site-packages/tensorflow/python/ops/array_ops.py\u001b[0m in \u001b[0;36mtranspose\u001b[0;34m(a, perm, name, conjugate)\u001b[0m\n\u001b[1;32m   2221\u001b[0m     \u001b[0;32melse\u001b[0m\u001b[0;34m:\u001b[0m\u001b[0;34m\u001b[0m\u001b[0;34m\u001b[0m\u001b[0m\n\u001b[1;32m   2222\u001b[0m       \u001b[0mperm\u001b[0m \u001b[0;34m=\u001b[0m \u001b[0mnp\u001b[0m\u001b[0;34m.\u001b[0m\u001b[0marange\u001b[0m\u001b[0;34m(\u001b[0m\u001b[0mrank\u001b[0m \u001b[0;34m-\u001b[0m \u001b[0;36m1\u001b[0m\u001b[0;34m,\u001b[0m \u001b[0;34m-\u001b[0m\u001b[0;36m1\u001b[0m\u001b[0;34m,\u001b[0m \u001b[0;34m-\u001b[0m\u001b[0;36m1\u001b[0m\u001b[0;34m,\u001b[0m \u001b[0mdtype\u001b[0m\u001b[0;34m=\u001b[0m\u001b[0mnp\u001b[0m\u001b[0;34m.\u001b[0m\u001b[0mint32\u001b[0m\u001b[0;34m)\u001b[0m\u001b[0;34m\u001b[0m\u001b[0;34m\u001b[0m\u001b[0m\n\u001b[0;32m-> 2223\u001b[0;31m     \u001b[0;32mreturn\u001b[0m \u001b[0mtranspose_fn\u001b[0m\u001b[0;34m(\u001b[0m\u001b[0ma\u001b[0m\u001b[0;34m,\u001b[0m \u001b[0mperm\u001b[0m\u001b[0;34m,\u001b[0m \u001b[0mname\u001b[0m\u001b[0;34m=\u001b[0m\u001b[0mname\u001b[0m\u001b[0;34m)\u001b[0m\u001b[0;34m\u001b[0m\u001b[0;34m\u001b[0m\u001b[0m\n\u001b[0m\u001b[1;32m   2224\u001b[0m \u001b[0;34m\u001b[0m\u001b[0m\n\u001b[1;32m   2225\u001b[0m \u001b[0;34m\u001b[0m\u001b[0m\n",
      "\u001b[0;32m~/.conda/envs/tensorflow/lib/python3.8/site-packages/tensorflow/python/ops/gen_array_ops.py\u001b[0m in \u001b[0;36mtranspose\u001b[0;34m(x, perm, name)\u001b[0m\n\u001b[1;32m  11592\u001b[0m       \u001b[0;32mpass\u001b[0m  \u001b[0;31m# Add nodes to the TensorFlow graph.\u001b[0m\u001b[0;34m\u001b[0m\u001b[0;34m\u001b[0m\u001b[0m\n\u001b[1;32m  11593\u001b[0m   \u001b[0;31m# Add nodes to the TensorFlow graph.\u001b[0m\u001b[0;34m\u001b[0m\u001b[0;34m\u001b[0m\u001b[0;34m\u001b[0m\u001b[0m\n\u001b[0;32m> 11594\u001b[0;31m   _, _, _op, _outputs = _op_def_library._apply_op_helper(\n\u001b[0m\u001b[1;32m  11595\u001b[0m         \"Transpose\", x=x, perm=perm, name=name)\n\u001b[1;32m  11596\u001b[0m   \u001b[0m_result\u001b[0m \u001b[0;34m=\u001b[0m \u001b[0m_outputs\u001b[0m\u001b[0;34m[\u001b[0m\u001b[0;34m:\u001b[0m\u001b[0;34m]\u001b[0m\u001b[0;34m\u001b[0m\u001b[0;34m\u001b[0m\u001b[0m\n",
      "\u001b[0;32m~/.conda/envs/tensorflow/lib/python3.8/site-packages/tensorflow/python/framework/op_def_library.py\u001b[0m in \u001b[0;36m_apply_op_helper\u001b[0;34m(op_type_name, name, **keywords)\u001b[0m\n\u001b[1;32m    495\u001b[0m             \u001b[0minferred\u001b[0m \u001b[0;34m=\u001b[0m \u001b[0;32mNone\u001b[0m\u001b[0;34m\u001b[0m\u001b[0;34m\u001b[0m\u001b[0m\n\u001b[1;32m    496\u001b[0m             \u001b[0;32mtry\u001b[0m\u001b[0;34m:\u001b[0m\u001b[0;34m\u001b[0m\u001b[0;34m\u001b[0m\u001b[0m\n\u001b[0;32m--> 497\u001b[0;31m               inferred = ops.convert_to_tensor(\n\u001b[0m\u001b[1;32m    498\u001b[0m                   values, name=input_arg.name, as_ref=input_arg.is_ref)\n\u001b[1;32m    499\u001b[0m             \u001b[0;32mexcept\u001b[0m \u001b[0mTypeError\u001b[0m \u001b[0;32mas\u001b[0m \u001b[0merr\u001b[0m\u001b[0;34m:\u001b[0m\u001b[0;34m\u001b[0m\u001b[0;34m\u001b[0m\u001b[0m\n",
      "\u001b[0;32m~/.conda/envs/tensorflow/lib/python3.8/site-packages/tensorflow/python/profiler/trace.py\u001b[0m in \u001b[0;36mwrapped\u001b[0;34m(*args, **kwargs)\u001b[0m\n\u001b[1;32m    161\u001b[0m         \u001b[0;32mwith\u001b[0m \u001b[0mTrace\u001b[0m\u001b[0;34m(\u001b[0m\u001b[0mtrace_name\u001b[0m\u001b[0;34m,\u001b[0m \u001b[0;34m**\u001b[0m\u001b[0mtrace_kwargs\u001b[0m\u001b[0;34m)\u001b[0m\u001b[0;34m:\u001b[0m\u001b[0;34m\u001b[0m\u001b[0;34m\u001b[0m\u001b[0m\n\u001b[1;32m    162\u001b[0m           \u001b[0;32mreturn\u001b[0m \u001b[0mfunc\u001b[0m\u001b[0;34m(\u001b[0m\u001b[0;34m*\u001b[0m\u001b[0margs\u001b[0m\u001b[0;34m,\u001b[0m \u001b[0;34m**\u001b[0m\u001b[0mkwargs\u001b[0m\u001b[0;34m)\u001b[0m\u001b[0;34m\u001b[0m\u001b[0;34m\u001b[0m\u001b[0m\n\u001b[0;32m--> 163\u001b[0;31m       \u001b[0;32mreturn\u001b[0m \u001b[0mfunc\u001b[0m\u001b[0;34m(\u001b[0m\u001b[0;34m*\u001b[0m\u001b[0margs\u001b[0m\u001b[0;34m,\u001b[0m \u001b[0;34m**\u001b[0m\u001b[0mkwargs\u001b[0m\u001b[0;34m)\u001b[0m\u001b[0;34m\u001b[0m\u001b[0;34m\u001b[0m\u001b[0m\n\u001b[0m\u001b[1;32m    164\u001b[0m \u001b[0;34m\u001b[0m\u001b[0m\n\u001b[1;32m    165\u001b[0m     \u001b[0;32mreturn\u001b[0m \u001b[0mwrapped\u001b[0m\u001b[0;34m\u001b[0m\u001b[0;34m\u001b[0m\u001b[0m\n",
      "\u001b[0;32m~/.conda/envs/tensorflow/lib/python3.8/site-packages/tensorflow/python/framework/ops.py\u001b[0m in \u001b[0;36mconvert_to_tensor\u001b[0;34m(value, dtype, name, as_ref, preferred_dtype, dtype_hint, ctx, accepted_result_types)\u001b[0m\n\u001b[1;32m   1538\u001b[0m \u001b[0;34m\u001b[0m\u001b[0m\n\u001b[1;32m   1539\u001b[0m     \u001b[0;32mif\u001b[0m \u001b[0mret\u001b[0m \u001b[0;32mis\u001b[0m \u001b[0;32mNone\u001b[0m\u001b[0;34m:\u001b[0m\u001b[0;34m\u001b[0m\u001b[0;34m\u001b[0m\u001b[0m\n\u001b[0;32m-> 1540\u001b[0;31m       \u001b[0mret\u001b[0m \u001b[0;34m=\u001b[0m \u001b[0mconversion_func\u001b[0m\u001b[0;34m(\u001b[0m\u001b[0mvalue\u001b[0m\u001b[0;34m,\u001b[0m \u001b[0mdtype\u001b[0m\u001b[0;34m=\u001b[0m\u001b[0mdtype\u001b[0m\u001b[0;34m,\u001b[0m \u001b[0mname\u001b[0m\u001b[0;34m=\u001b[0m\u001b[0mname\u001b[0m\u001b[0;34m,\u001b[0m \u001b[0mas_ref\u001b[0m\u001b[0;34m=\u001b[0m\u001b[0mas_ref\u001b[0m\u001b[0;34m)\u001b[0m\u001b[0;34m\u001b[0m\u001b[0;34m\u001b[0m\u001b[0m\n\u001b[0m\u001b[1;32m   1541\u001b[0m \u001b[0;34m\u001b[0m\u001b[0m\n\u001b[1;32m   1542\u001b[0m     \u001b[0;32mif\u001b[0m \u001b[0mret\u001b[0m \u001b[0;32mis\u001b[0m \u001b[0mNotImplemented\u001b[0m\u001b[0;34m:\u001b[0m\u001b[0;34m\u001b[0m\u001b[0;34m\u001b[0m\u001b[0m\n",
      "\u001b[0;32m~/.conda/envs/tensorflow/lib/python3.8/site-packages/tensorflow/python/framework/tensor_conversion_registry.py\u001b[0m in \u001b[0;36m_default_conversion_function\u001b[0;34m(***failed resolving arguments***)\u001b[0m\n\u001b[1;32m     50\u001b[0m \u001b[0;32mdef\u001b[0m \u001b[0m_default_conversion_function\u001b[0m\u001b[0;34m(\u001b[0m\u001b[0mvalue\u001b[0m\u001b[0;34m,\u001b[0m \u001b[0mdtype\u001b[0m\u001b[0;34m,\u001b[0m \u001b[0mname\u001b[0m\u001b[0;34m,\u001b[0m \u001b[0mas_ref\u001b[0m\u001b[0;34m)\u001b[0m\u001b[0;34m:\u001b[0m\u001b[0;34m\u001b[0m\u001b[0;34m\u001b[0m\u001b[0m\n\u001b[1;32m     51\u001b[0m   \u001b[0;32mdel\u001b[0m \u001b[0mas_ref\u001b[0m  \u001b[0;31m# Unused.\u001b[0m\u001b[0;34m\u001b[0m\u001b[0;34m\u001b[0m\u001b[0m\n\u001b[0;32m---> 52\u001b[0;31m   \u001b[0;32mreturn\u001b[0m \u001b[0mconstant_op\u001b[0m\u001b[0;34m.\u001b[0m\u001b[0mconstant\u001b[0m\u001b[0;34m(\u001b[0m\u001b[0mvalue\u001b[0m\u001b[0;34m,\u001b[0m \u001b[0mdtype\u001b[0m\u001b[0;34m,\u001b[0m \u001b[0mname\u001b[0m\u001b[0;34m=\u001b[0m\u001b[0mname\u001b[0m\u001b[0;34m)\u001b[0m\u001b[0;34m\u001b[0m\u001b[0;34m\u001b[0m\u001b[0m\n\u001b[0m\u001b[1;32m     53\u001b[0m \u001b[0;34m\u001b[0m\u001b[0m\n\u001b[1;32m     54\u001b[0m \u001b[0;34m\u001b[0m\u001b[0m\n",
      "\u001b[0;32m~/.conda/envs/tensorflow/lib/python3.8/site-packages/tensorflow/python/framework/constant_op.py\u001b[0m in \u001b[0;36mconstant\u001b[0;34m(value, dtype, shape, name)\u001b[0m\n\u001b[1;32m    262\u001b[0m     \u001b[0mValueError\u001b[0m\u001b[0;34m:\u001b[0m \u001b[0;32mif\u001b[0m \u001b[0mcalled\u001b[0m \u001b[0mon\u001b[0m \u001b[0ma\u001b[0m \u001b[0msymbolic\u001b[0m \u001b[0mtensor\u001b[0m\u001b[0;34m.\u001b[0m\u001b[0;34m\u001b[0m\u001b[0;34m\u001b[0m\u001b[0m\n\u001b[1;32m    263\u001b[0m   \"\"\"\n\u001b[0;32m--> 264\u001b[0;31m   return _constant_impl(value, dtype, shape, name, verify_shape=False,\n\u001b[0m\u001b[1;32m    265\u001b[0m                         allow_broadcast=True)\n\u001b[1;32m    266\u001b[0m \u001b[0;34m\u001b[0m\u001b[0m\n",
      "\u001b[0;32m~/.conda/envs/tensorflow/lib/python3.8/site-packages/tensorflow/python/framework/constant_op.py\u001b[0m in \u001b[0;36m_constant_impl\u001b[0;34m(value, dtype, shape, name, verify_shape, allow_broadcast)\u001b[0m\n\u001b[1;32m    284\u001b[0m   \u001b[0mdtype_value\u001b[0m \u001b[0;34m=\u001b[0m \u001b[0mattr_value_pb2\u001b[0m\u001b[0;34m.\u001b[0m\u001b[0mAttrValue\u001b[0m\u001b[0;34m(\u001b[0m\u001b[0mtype\u001b[0m\u001b[0;34m=\u001b[0m\u001b[0mtensor_value\u001b[0m\u001b[0;34m.\u001b[0m\u001b[0mtensor\u001b[0m\u001b[0;34m.\u001b[0m\u001b[0mdtype\u001b[0m\u001b[0;34m)\u001b[0m\u001b[0;34m\u001b[0m\u001b[0;34m\u001b[0m\u001b[0m\n\u001b[1;32m    285\u001b[0m   \u001b[0mattrs\u001b[0m \u001b[0;34m=\u001b[0m \u001b[0;34m{\u001b[0m\u001b[0;34m\"value\"\u001b[0m\u001b[0;34m:\u001b[0m \u001b[0mtensor_value\u001b[0m\u001b[0;34m,\u001b[0m \u001b[0;34m\"dtype\"\u001b[0m\u001b[0;34m:\u001b[0m \u001b[0mdtype_value\u001b[0m\u001b[0;34m}\u001b[0m\u001b[0;34m\u001b[0m\u001b[0;34m\u001b[0m\u001b[0m\n\u001b[0;32m--> 286\u001b[0;31m   const_tensor = g._create_op_internal(  # pylint: disable=protected-access\n\u001b[0m\u001b[1;32m    287\u001b[0m       \"Const\", [], [dtype_value.type], attrs=attrs, name=name).outputs[0]\n\u001b[1;32m    288\u001b[0m \u001b[0;34m\u001b[0m\u001b[0m\n",
      "\u001b[0;32m~/.conda/envs/tensorflow/lib/python3.8/site-packages/tensorflow/python/framework/func_graph.py\u001b[0m in \u001b[0;36m_create_op_internal\u001b[0;34m(self, op_type, inputs, dtypes, input_types, name, attrs, op_def, compute_device)\u001b[0m\n\u001b[1;32m    588\u001b[0m       \u001b[0minp\u001b[0m \u001b[0;34m=\u001b[0m \u001b[0mself\u001b[0m\u001b[0;34m.\u001b[0m\u001b[0mcapture\u001b[0m\u001b[0;34m(\u001b[0m\u001b[0minp\u001b[0m\u001b[0;34m)\u001b[0m\u001b[0;34m\u001b[0m\u001b[0;34m\u001b[0m\u001b[0m\n\u001b[1;32m    589\u001b[0m       \u001b[0mcaptured_inputs\u001b[0m\u001b[0;34m.\u001b[0m\u001b[0mappend\u001b[0m\u001b[0;34m(\u001b[0m\u001b[0minp\u001b[0m\u001b[0;34m)\u001b[0m\u001b[0;34m\u001b[0m\u001b[0;34m\u001b[0m\u001b[0m\n\u001b[0;32m--> 590\u001b[0;31m     return super(FuncGraph, self)._create_op_internal(  # pylint: disable=protected-access\n\u001b[0m\u001b[1;32m    591\u001b[0m         \u001b[0mop_type\u001b[0m\u001b[0;34m,\u001b[0m \u001b[0mcaptured_inputs\u001b[0m\u001b[0;34m,\u001b[0m \u001b[0mdtypes\u001b[0m\u001b[0;34m,\u001b[0m \u001b[0minput_types\u001b[0m\u001b[0;34m,\u001b[0m \u001b[0mname\u001b[0m\u001b[0;34m,\u001b[0m \u001b[0mattrs\u001b[0m\u001b[0;34m,\u001b[0m \u001b[0mop_def\u001b[0m\u001b[0;34m,\u001b[0m\u001b[0;34m\u001b[0m\u001b[0;34m\u001b[0m\u001b[0m\n\u001b[1;32m    592\u001b[0m         compute_device)\n",
      "\u001b[0;32m~/.conda/envs/tensorflow/lib/python3.8/site-packages/tensorflow/python/framework/ops.py\u001b[0m in \u001b[0;36m_create_op_internal\u001b[0;34m(self, op_type, inputs, dtypes, input_types, name, attrs, op_def, compute_device)\u001b[0m\n\u001b[1;32m   3517\u001b[0m       \u001b[0mname\u001b[0m \u001b[0;34m=\u001b[0m \u001b[0mname_from_scope_name\u001b[0m\u001b[0;34m(\u001b[0m\u001b[0mname\u001b[0m\u001b[0;34m)\u001b[0m\u001b[0;34m\u001b[0m\u001b[0;34m\u001b[0m\u001b[0m\n\u001b[1;32m   3518\u001b[0m     \u001b[0;32melse\u001b[0m\u001b[0;34m:\u001b[0m\u001b[0;34m\u001b[0m\u001b[0;34m\u001b[0m\u001b[0m\n\u001b[0;32m-> 3519\u001b[0;31m       \u001b[0mname\u001b[0m \u001b[0;34m=\u001b[0m \u001b[0mself\u001b[0m\u001b[0;34m.\u001b[0m\u001b[0munique_name\u001b[0m\u001b[0;34m(\u001b[0m\u001b[0mname\u001b[0m\u001b[0;34m)\u001b[0m\u001b[0;34m\u001b[0m\u001b[0;34m\u001b[0m\u001b[0m\n\u001b[0m\u001b[1;32m   3520\u001b[0m \u001b[0;34m\u001b[0m\u001b[0m\n\u001b[1;32m   3521\u001b[0m     \u001b[0mnode_def\u001b[0m \u001b[0;34m=\u001b[0m \u001b[0m_NodeDef\u001b[0m\u001b[0;34m(\u001b[0m\u001b[0mop_type\u001b[0m\u001b[0;34m,\u001b[0m \u001b[0mname\u001b[0m\u001b[0;34m,\u001b[0m \u001b[0mattrs\u001b[0m\u001b[0;34m)\u001b[0m\u001b[0;34m\u001b[0m\u001b[0;34m\u001b[0m\u001b[0m\n",
      "\u001b[0;32m~/.conda/envs/tensorflow/lib/python3.8/site-packages/tensorflow/python/framework/ops.py\u001b[0m in \u001b[0;36munique_name\u001b[0;34m(self, name, mark_as_used)\u001b[0m\n\u001b[1;32m   4287\u001b[0m       \u001b[0mto\u001b[0m \u001b[0mname\u001b[0m \u001b[0mthe\u001b[0m \u001b[0moperation\u001b[0m \u001b[0mbeing\u001b[0m \u001b[0mcreated\u001b[0m\u001b[0;34m.\u001b[0m\u001b[0;34m\u001b[0m\u001b[0;34m\u001b[0m\u001b[0m\n\u001b[1;32m   4288\u001b[0m     \"\"\"\n\u001b[0;32m-> 4289\u001b[0;31m     \u001b[0;32mif\u001b[0m \u001b[0mself\u001b[0m\u001b[0;34m.\u001b[0m\u001b[0m_name_stack\u001b[0m\u001b[0;34m:\u001b[0m\u001b[0;34m\u001b[0m\u001b[0;34m\u001b[0m\u001b[0m\n\u001b[0m\u001b[1;32m   4290\u001b[0m       \u001b[0mname\u001b[0m \u001b[0;34m=\u001b[0m \u001b[0mself\u001b[0m\u001b[0;34m.\u001b[0m\u001b[0m_name_stack\u001b[0m \u001b[0;34m+\u001b[0m \u001b[0;34m\"/\"\u001b[0m \u001b[0;34m+\u001b[0m \u001b[0mname\u001b[0m\u001b[0;34m\u001b[0m\u001b[0;34m\u001b[0m\u001b[0m\n\u001b[1;32m   4291\u001b[0m \u001b[0;34m\u001b[0m\u001b[0m\n",
      "\u001b[0;32m~/.conda/envs/tensorflow/lib/python3.8/site-packages/tensorflow/python/framework/ops.py\u001b[0m in \u001b[0;36m_name_stack\u001b[0;34m(self)\u001b[0m\n\u001b[1;32m   4133\u001b[0m       \u001b[0mself\u001b[0m\u001b[0;34m.\u001b[0m\u001b[0m_default_original_op\u001b[0m \u001b[0;34m=\u001b[0m \u001b[0mold_original_op\u001b[0m\u001b[0;34m\u001b[0m\u001b[0;34m\u001b[0m\u001b[0m\n\u001b[1;32m   4134\u001b[0m \u001b[0;34m\u001b[0m\u001b[0m\n\u001b[0;32m-> 4135\u001b[0;31m   \u001b[0;34m@\u001b[0m\u001b[0mproperty\u001b[0m\u001b[0;34m\u001b[0m\u001b[0;34m\u001b[0m\u001b[0m\n\u001b[0m\u001b[1;32m   4136\u001b[0m   \u001b[0;32mdef\u001b[0m \u001b[0m_name_stack\u001b[0m\u001b[0;34m(\u001b[0m\u001b[0mself\u001b[0m\u001b[0;34m)\u001b[0m\u001b[0;34m:\u001b[0m\u001b[0;34m\u001b[0m\u001b[0;34m\u001b[0m\u001b[0m\n\u001b[1;32m   4137\u001b[0m     \u001b[0;31m# This may be called from a thread where name_stack doesn't yet exist.\u001b[0m\u001b[0;34m\u001b[0m\u001b[0;34m\u001b[0m\u001b[0;34m\u001b[0m\u001b[0m\n",
      "\u001b[0;31mKeyboardInterrupt\u001b[0m: "
     ]
    }
   ],
   "source": [
    "history = model.train(train_x[:12278, :, :], train_y[:12278, :], epochs = 100, batch_size = 1000)"
   ]
  },
  {
   "cell_type": "code",
   "execution_count": 47,
   "metadata": {},
   "outputs": [
    {
     "data": {
      "image/png": "[encoded data removed]",
      "text/plain": [
       "<Figure size 432x288 with 1 Axes>"
      ]
     },
     "metadata": {
      "needs_background": "light"
     },
     "output_type": "display_data"
    }
   ],
   "source": [
    "plt.plot(history.history['val_loss'], color = 'red')\n",
    "plt.show()"
   ]
  },
  {
   "cell_type": "code",
   "execution_count": 42,
   "metadata": {},
   "outputs": [
    {
     "data": {
      "text/plain": [
       "[<matplotlib.lines.Line2D at 0x7fc144633370>]"
      ]
     },
     "execution_count": 42,
     "metadata": {},
     "output_type": "execute_result"
    },
    {
     "data": {
      "image/png": "[encoded data removed]",
      "text/plain": [
       "<Figure size 432x288 with 1 Axes>"
      ]
     },
     "metadata": {
      "needs_background": "light"
     },
     "output_type": "display_data"
    }
   ],
   "source": [
    "plt.plot(history.history['loss'])"
   ]
  },
  {
   "cell_type": "code",
   "execution_count": 48,
   "metadata": {},
   "outputs": [],
   "source": [
    "predicted_y = model.predict(test_x[:1000])"
   ]
  },
  {
   "cell_type": "code",
   "execution_count": 87,
   "metadata": {},
   "outputs": [
    {
     "data": {
      "text/plain": [
       "39.532"
      ]
     },
     "execution_count": 87,
     "metadata": {},
     "output_type": "execute_result"
    }
   ],
   "source": [
    "predicted_y[0][2]"
   ]
  },
  {
   "cell_type": "code",
   "execution_count": 86,
   "metadata": {},
   "outputs": [
    {
     "data": {
      "text/plain": [
       "64.49"
      ]
     },
     "execution_count": 86,
     "metadata": {},
     "output_type": "execute_result"
    }
   ],
   "source": [
    "test_x[0, 0, 2]"
   ]
  },
  {
   "cell_type": "code",
   "execution_count": 51,
   "metadata": {},
   "outputs": [
    {
     "data": {
      "text/plain": [
       "['CUSTOMER_ID',\n",
       " 'TERMINAL_ID',\n",
       " 'TX_AMOUNT',\n",
       " 'TX_TIME_SECONDS',\n",
       " 'TX_TIME_DAYS',\n",
       " 'WEEK_DAY']"
      ]
     },
     "execution_count": 51,
     "metadata": {},
     "output_type": "execute_result"
    }
   ],
   "source": [
    "selected_features"
   ]
  },
  {
   "cell_type": "code",
   "execution_count": 125,
   "metadata": {},
   "outputs": [
    {
     "data": {
      "image/png": "[encoded data removed]",
      "text/plain": [
       "<Figure size 432x288 with 1 Axes>"
      ]
     },
     "metadata": {
      "needs_background": "light"
     },
     "output_type": "display_data"
    }
   ],
   "source": [
    "plt.plot(range(20), test_x[:10].reshape(-1, 6)[:20, 2],  color = 'red', label = 'input_TX Amount')\n",
    "plt.plot(range(20), predicted_y[:1000].reshape(-1, 6)[:20, 2], label = 'predicted Amount')\n",
    "plt.legend()\n",
    "plt.show()"
   ]
  },
  {
   "cell_type": "code",
   "execution_count": 127,
   "metadata": {},
   "outputs": [
    {
     "data": {
      "text/plain": [
       "(1227818, 6)"
      ]
     },
     "execution_count": 127,
     "metadata": {},
     "output_type": "execute_result"
    }
   ],
   "source": [
    "train_y.shape"
   ]
  },
  {
   "cell_type": "code",
   "execution_count": 135,
   "metadata": {},
   "outputs": [],
   "source": [
    "s_train_y = train_y[:,2].reshape(-1, 1)"
   ]
  },
  {
   "cell_type": "code",
   "execution_count": 178,
   "metadata": {},
   "outputs": [
    {
     "name": "stdout",
     "output_type": "stream",
     "text": [
      "Model: \"sequential_4\"\n",
      "_________________________________________________________________\n",
      "Layer (type)                 Output Shape              Param #   \n",
      "=================================================================\n",
      "lstm_12 (LSTM)               (None, 128, 50)           11400     \n",
      "_________________________________________________________________\n",
      "dropout_12 (Dropout)         (None, 128, 50)           0         \n",
      "_________________________________________________________________\n",
      "lstm_13 (LSTM)               (None, 128, 50)           20200     \n",
      "_________________________________________________________________\n",
      "dropout_13 (Dropout)         (None, 128, 50)           0         \n",
      "_________________________________________________________________\n",
      "lstm_14 (LSTM)               (None, 50)                20200     \n",
      "_________________________________________________________________\n",
      "dropout_14 (Dropout)         (None, 50)                0         \n",
      "_________________________________________________________________\n",
      "dense_4 (Dense)              (None, 1)                 51        \n",
      "=================================================================\n",
      "Total params: 51,851\n",
      "Trainable params: 51,851\n",
      "Non-trainable params: 0\n",
      "_________________________________________________________________\n",
      "Model Summary: \n",
      "\n",
      " None\n"
     ]
    }
   ],
   "source": [
    "simple_model = LSTM_REGRESSION(train_x.shape[1:], \n",
    "                               lstm_units = 50, \n",
    "                               n_outputs = s_train_y.shape[1], \n",
    "                               optimizer = optimizers.Adam(learning_rate = 0.01))"
   ]
  },
  {
   "cell_type": "code",
   "execution_count": 141,
   "metadata": {},
   "outputs": [
    {
     "name": "stdout",
     "output_type": "stream",
     "text": [
      "Epoch 1/100\n",
      "10/10 [==============================] - 37s 4s/step - loss: 3597.2898 - accuracy: 1.0181e-04 - val_loss: 3937.7959 - val_accuracy: 0.0000e+00\n",
      "Epoch 2/100\n",
      "10/10 [==============================] - 37s 4s/step - loss: 3539.4441 - accuracy: 1.0181e-04 - val_loss: 3880.8352 - val_accuracy: 0.0000e+00\n",
      "Epoch 3/100\n",
      "10/10 [==============================] - 36s 4s/step - loss: 3483.8289 - accuracy: 1.0181e-04 - val_loss: 3829.9255 - val_accuracy: 0.0000e+00\n",
      "Epoch 4/100\n",
      "10/10 [==============================] - 37s 4s/step - loss: 3435.5625 - accuracy: 1.0181e-04 - val_loss: 3782.6719 - val_accuracy: 0.0000e+00\n",
      "Epoch 5/100\n",
      "10/10 [==============================] - 38s 4s/step - loss: 3389.2185 - accuracy: 1.0181e-04 - val_loss: 3737.6865 - val_accuracy: 0.0000e+00\n",
      "Epoch 6/100\n",
      "10/10 [==============================] - 37s 4s/step - loss: 3345.4036 - accuracy: 1.0181e-04 - val_loss: 3694.5659 - val_accuracy: 0.0000e+00\n",
      "Epoch 7/100\n",
      "10/10 [==============================] - 37s 4s/step - loss: 3301.0042 - accuracy: 1.0181e-04 - val_loss: 3652.9443 - val_accuracy: 0.0000e+00\n",
      "Epoch 8/100\n",
      "10/10 [==============================] - 37s 4s/step - loss: 3262.9075 - accuracy: 1.0181e-04 - val_loss: 3612.5964 - val_accuracy: 0.0000e+00\n",
      "Epoch 9/100\n",
      "10/10 [==============================] - 37s 4s/step - loss: 3220.2473 - accuracy: 1.0181e-04 - val_loss: 3573.6670 - val_accuracy: 0.0000e+00\n",
      "Epoch 10/100\n",
      "10/10 [==============================] - 37s 4s/step - loss: 3187.3179 - accuracy: 1.0181e-04 - val_loss: 3536.0520 - val_accuracy: 0.0000e+00\n",
      "Epoch 11/100\n",
      "10/10 [==============================] - 37s 4s/step - loss: 3148.0645 - accuracy: 1.0181e-04 - val_loss: 3499.2664 - val_accuracy: 0.0000e+00\n",
      "Epoch 12/100\n",
      "10/10 [==============================] - 37s 4s/step - loss: 3111.7478 - accuracy: 1.0181e-04 - val_loss: 3463.5872 - val_accuracy: 0.0000e+00\n",
      "Epoch 13/100\n",
      "10/10 [==============================] - 37s 4s/step - loss: 3078.5247 - accuracy: 1.0181e-04 - val_loss: 3428.8127 - val_accuracy: 0.0000e+00\n",
      "Epoch 14/100\n",
      "10/10 [==============================] - 37s 4s/step - loss: 3042.1904 - accuracy: 1.0181e-04 - val_loss: 3394.9172 - val_accuracy: 0.0000e+00\n",
      "Epoch 15/100\n",
      "10/10 [==============================] - 38s 4s/step - loss: 3012.0620 - accuracy: 1.0181e-04 - val_loss: 3362.1914 - val_accuracy: 0.0000e+00\n",
      "Epoch 16/100\n",
      "10/10 [==============================] - 36s 4s/step - loss: 2979.1682 - accuracy: 1.0181e-04 - val_loss: 3330.1946 - val_accuracy: 0.0000e+00\n",
      "Epoch 17/100\n",
      "10/10 [==============================] - 37s 4s/step - loss: 2948.1392 - accuracy: 1.0181e-04 - val_loss: 3299.0300 - val_accuracy: 0.0000e+00\n",
      "Epoch 18/100\n",
      "10/10 [==============================] - 36s 4s/step - loss: 2920.0552 - accuracy: 1.0181e-04 - val_loss: 3268.4282 - val_accuracy: 0.0000e+00\n",
      "Epoch 19/100\n",
      "10/10 [==============================] - 38s 4s/step - loss: 2889.9768 - accuracy: 1.0181e-04 - val_loss: 3238.8640 - val_accuracy: 0.0000e+00\n",
      "Epoch 20/100\n",
      "10/10 [==============================] - 38s 4s/step - loss: 2859.4705 - accuracy: 1.0181e-04 - val_loss: 3210.0024 - val_accuracy: 0.0000e+00\n",
      "Epoch 21/100\n",
      "10/10 [==============================] - 37s 4s/step - loss: 2830.1309 - accuracy: 1.0181e-04 - val_loss: 3181.8821 - val_accuracy: 0.0000e+00\n",
      "Epoch 22/100\n",
      "10/10 [==============================] - 37s 4s/step - loss: 2800.0325 - accuracy: 1.0181e-04 - val_loss: 3154.3235 - val_accuracy: 0.0000e+00\n",
      "Epoch 23/100\n",
      "10/10 [==============================] - 37s 4s/step - loss: 2774.6658 - accuracy: 1.0181e-04 - val_loss: 3127.4773 - val_accuracy: 0.0000e+00\n",
      "Epoch 24/100\n",
      "10/10 [==============================] - 37s 4s/step - loss: 2749.2522 - accuracy: 1.0181e-04 - val_loss: 3101.2935 - val_accuracy: 0.0000e+00\n",
      "Epoch 25/100\n",
      "10/10 [==============================] - 37s 4s/step - loss: 2722.8667 - accuracy: 1.0181e-04 - val_loss: 3075.6758 - val_accuracy: 0.0000e+00\n",
      "Epoch 26/100\n",
      "10/10 [==============================] - 37s 4s/step - loss: 2701.8918 - accuracy: 1.0181e-04 - val_loss: 3050.5278 - val_accuracy: 0.0000e+00\n",
      "Epoch 27/100\n",
      "10/10 [==============================] - 37s 4s/step - loss: 2675.5630 - accuracy: 1.0181e-04 - val_loss: 3026.0513 - val_accuracy: 0.0000e+00\n",
      "Epoch 28/100\n",
      "10/10 [==============================] - 38s 4s/step - loss: 2648.7031 - accuracy: 1.0181e-04 - val_loss: 3002.2947 - val_accuracy: 0.0000e+00\n",
      "Epoch 29/100\n",
      "10/10 [==============================] - 37s 4s/step - loss: 2629.9761 - accuracy: 1.0181e-04 - val_loss: 2979.1072 - val_accuracy: 0.0000e+00\n",
      "Epoch 30/100\n",
      "10/10 [==============================] - 36s 4s/step - loss: 2605.4534 - accuracy: 1.0181e-04 - val_loss: 2956.5913 - val_accuracy: 0.0000e+00\n",
      "Epoch 31/100\n",
      "10/10 [==============================] - 37s 4s/step - loss: 2583.8608 - accuracy: 1.0181e-04 - val_loss: 2934.5020 - val_accuracy: 0.0000e+00\n",
      "Epoch 32/100\n",
      "10/10 [==============================] - 36s 4s/step - loss: 2560.3962 - accuracy: 1.0181e-04 - val_loss: 2913.0190 - val_accuracy: 0.0000e+00\n",
      "Epoch 33/100\n",
      "10/10 [==============================] - 38s 4s/step - loss: 2538.9849 - accuracy: 1.0181e-04 - val_loss: 2891.9380 - val_accuracy: 0.0000e+00\n",
      "Epoch 34/100\n",
      "10/10 [==============================] - 37s 4s/step - loss: 2519.8440 - accuracy: 1.0181e-04 - val_loss: 2871.5120 - val_accuracy: 0.0000e+00\n",
      "Epoch 35/100\n",
      "10/10 [==============================] - 37s 4s/step - loss: 2497.4810 - accuracy: 1.0181e-04 - val_loss: 2851.6348 - val_accuracy: 0.0000e+00\n",
      "Epoch 36/100\n",
      "10/10 [==============================] - 37s 4s/step - loss: 2485.3157 - accuracy: 1.0181e-04 - val_loss: 2832.2249 - val_accuracy: 0.0000e+00\n",
      "Epoch 37/100\n",
      "10/10 [==============================] - 37s 4s/step - loss: 2457.7429 - accuracy: 1.0181e-04 - val_loss: 2813.2759 - val_accuracy: 0.0000e+00\n",
      "Epoch 38/100\n",
      "10/10 [==============================] - 38s 4s/step - loss: 2441.7380 - accuracy: 1.0181e-04 - val_loss: 2794.9871 - val_accuracy: 0.0000e+00\n",
      "Epoch 39/100\n",
      "10/10 [==============================] - 37s 4s/step - loss: 2427.1001 - accuracy: 1.0181e-04 - val_loss: 2776.9751 - val_accuracy: 0.0000e+00\n",
      "Epoch 40/100\n",
      "10/10 [==============================] - 37s 4s/step - loss: 2406.4902 - accuracy: 1.0181e-04 - val_loss: 2759.5195 - val_accuracy: 0.0000e+00\n",
      "Epoch 41/100\n",
      "10/10 [==============================] - 37s 4s/step - loss: 2390.7480 - accuracy: 1.0181e-04 - val_loss: 2742.5903 - val_accuracy: 0.0000e+00\n",
      "Epoch 42/100\n",
      "10/10 [==============================] - 37s 4s/step - loss: 2378.2253 - accuracy: 1.0181e-04 - val_loss: 2726.1077 - val_accuracy: 0.0000e+00\n",
      "Epoch 43/100\n",
      "10/10 [==============================] - 37s 4s/step - loss: 2356.2451 - accuracy: 1.0181e-04 - val_loss: 2709.8311 - val_accuracy: 0.0000e+00\n",
      "Epoch 44/100\n",
      "10/10 [==============================] - 36s 4s/step - loss: 2348.3330 - accuracy: 1.0181e-04 - val_loss: 2694.0686 - val_accuracy: 0.0000e+00\n",
      "Epoch 45/100\n",
      "10/10 [==============================] - 37s 4s/step - loss: 2323.7605 - accuracy: 1.0181e-04 - val_loss: 2678.7378 - val_accuracy: 0.0000e+00\n",
      "Epoch 46/100\n",
      "10/10 [==============================] - 37s 4s/step - loss: 2312.1057 - accuracy: 1.0181e-04 - val_loss: 2663.7966 - val_accuracy: 0.0000e+00\n",
      "Epoch 47/100\n",
      "10/10 [==============================] - 38s 4s/step - loss: 2298.0276 - accuracy: 1.0181e-04 - val_loss: 2649.2773 - val_accuracy: 0.0000e+00\n",
      "Epoch 48/100\n",
      "10/10 [==============================] - 37s 4s/step - loss: 2284.7236 - accuracy: 1.0181e-04 - val_loss: 2635.1152 - val_accuracy: 0.0000e+00\n",
      "Epoch 49/100\n",
      "10/10 [==============================] - 36s 4s/step - loss: 2271.5898 - accuracy: 1.0181e-04 - val_loss: 2621.4954 - val_accuracy: 0.0000e+00\n",
      "Epoch 50/100\n",
      "10/10 [==============================] - 37s 4s/step - loss: 2259.0588 - accuracy: 1.0181e-04 - val_loss: 2608.1580 - val_accuracy: 0.0000e+00\n",
      "Epoch 51/100\n",
      "10/10 [==============================] - 37s 4s/step - loss: 2246.9561 - accuracy: 1.0181e-04 - val_loss: 2595.2839 - val_accuracy: 0.0000e+00\n",
      "Epoch 52/100\n",
      "10/10 [==============================] - 38s 4s/step - loss: 2231.5229 - accuracy: 1.0181e-04 - val_loss: 2582.7263 - val_accuracy: 0.0000e+00\n",
      "Epoch 53/100\n",
      "10/10 [==============================] - 37s 4s/step - loss: 2222.0088 - accuracy: 1.0181e-04 - val_loss: 2570.4629 - val_accuracy: 0.0000e+00\n",
      "Epoch 54/100\n",
      "10/10 [==============================] - 36s 4s/step - loss: 2203.9460 - accuracy: 1.0181e-04 - val_loss: 2558.4939 - val_accuracy: 0.0000e+00\n",
      "Epoch 55/100\n",
      "10/10 [==============================] - 37s 4s/step - loss: 2190.6870 - accuracy: 1.0181e-04 - val_loss: 2547.0007 - val_accuracy: 0.0000e+00\n",
      "Epoch 56/100\n",
      "10/10 [==============================] - 37s 4s/step - loss: 2188.3013 - accuracy: 1.0181e-04 - val_loss: 2535.8293 - val_accuracy: 0.0000e+00\n",
      "Epoch 57/100\n",
      "10/10 [==============================] - 36s 4s/step - loss: 2177.2556 - accuracy: 1.0181e-04 - val_loss: 2524.9514 - val_accuracy: 0.0000e+00\n",
      "Epoch 58/100\n",
      "10/10 [==============================] - 36s 4s/step - loss: 2162.6633 - accuracy: 1.0181e-04 - val_loss: 2514.3774 - val_accuracy: 0.0000e+00\n",
      "Epoch 59/100\n",
      "10/10 [==============================] - 37s 4s/step - loss: 2152.3943 - accuracy: 1.0181e-04 - val_loss: 2504.2170 - val_accuracy: 0.0000e+00\n",
      "Epoch 60/100\n",
      "10/10 [==============================] - 37s 4s/step - loss: 2144.8938 - accuracy: 1.0181e-04 - val_loss: 2494.2561 - val_accuracy: 0.0000e+00\n",
      "Epoch 61/100\n",
      "10/10 [==============================] - 37s 4s/step - loss: 2136.0149 - accuracy: 1.0181e-04 - val_loss: 2484.6440 - val_accuracy: 0.0000e+00\n",
      "Epoch 62/100\n",
      "10/10 [==============================] - 36s 4s/step - loss: 2124.1260 - accuracy: 1.0181e-04 - val_loss: 2475.2756 - val_accuracy: 0.0000e+00\n",
      "Epoch 63/100\n",
      "10/10 [==============================] - 38s 4s/step - loss: 2114.7830 - accuracy: 1.0181e-04 - val_loss: 2466.1714 - val_accuracy: 0.0000e+00\n",
      "Epoch 64/100\n",
      "10/10 [==============================] - 38s 4s/step - loss: 2110.4602 - accuracy: 1.0181e-04 - val_loss: 2457.4304 - val_accuracy: 0.0000e+00\n",
      "Epoch 65/100\n",
      "10/10 [==============================] - 37s 4s/step - loss: 2091.5598 - accuracy: 1.0181e-04 - val_loss: 2448.9409 - val_accuracy: 0.0000e+00\n",
      "Epoch 66/100\n",
      "10/10 [==============================] - 37s 4s/step - loss: 2092.0059 - accuracy: 1.0181e-04 - val_loss: 2440.6252 - val_accuracy: 0.0000e+00\n",
      "Epoch 67/100\n",
      "10/10 [==============================] - 38s 4s/step - loss: 2077.9553 - accuracy: 1.0181e-04 - val_loss: 2432.5554 - val_accuracy: 0.0000e+00\n",
      "Epoch 68/100\n",
      "10/10 [==============================] - 37s 4s/step - loss: 2073.1191 - accuracy: 1.0181e-04 - val_loss: 2424.7363 - val_accuracy: 0.0000e+00\n",
      "Epoch 69/100\n",
      "10/10 [==============================] - 36s 4s/step - loss: 2064.0457 - accuracy: 1.0181e-04 - val_loss: 2417.3440 - val_accuracy: 0.0000e+00\n",
      "Epoch 70/100\n",
      "10/10 [==============================] - 37s 4s/step - loss: 2055.7000 - accuracy: 1.0181e-04 - val_loss: 2410.1348 - val_accuracy: 0.0000e+00\n",
      "Epoch 71/100\n",
      "10/10 [==============================] - 37s 4s/step - loss: 2055.4138 - accuracy: 1.0181e-04 - val_loss: 2403.2144 - val_accuracy: 0.0000e+00\n",
      "Epoch 72/100\n",
      "10/10 [==============================] - 36s 4s/step - loss: 2047.3627 - accuracy: 1.0181e-04 - val_loss: 2396.4580 - val_accuracy: 0.0000e+00\n",
      "Epoch 73/100\n",
      "10/10 [==============================] - 37s 4s/step - loss: 2041.5775 - accuracy: 1.0181e-04 - val_loss: 2389.9023 - val_accuracy: 0.0000e+00\n",
      "Epoch 74/100\n",
      "10/10 [==============================] - 38s 4s/step - loss: 2034.7893 - accuracy: 1.0181e-04 - val_loss: 2383.5068 - val_accuracy: 0.0000e+00\n",
      "Epoch 75/100\n",
      "10/10 [==============================] - 37s 4s/step - loss: 2031.4352 - accuracy: 1.0181e-04 - val_loss: 2377.3704 - val_accuracy: 0.0000e+00\n",
      "Epoch 76/100\n",
      "10/10 [==============================] - 37s 4s/step - loss: 2025.1631 - accuracy: 1.0181e-04 - val_loss: 2371.4646 - val_accuracy: 0.0000e+00\n",
      "Epoch 77/100\n",
      "10/10 [==============================] - 37s 4s/step - loss: 2016.8732 - accuracy: 1.0181e-04 - val_loss: 2365.8145 - val_accuracy: 0.0000e+00\n",
      "Epoch 78/100\n",
      "10/10 [==============================] - 37s 4s/step - loss: 2014.8445 - accuracy: 1.0181e-04 - val_loss: 2360.2986 - val_accuracy: 0.0000e+00\n",
      "Epoch 79/100\n",
      "10/10 [==============================] - 37s 4s/step - loss: 2009.6666 - accuracy: 1.0181e-04 - val_loss: 2354.9854 - val_accuracy: 0.0000e+00\n",
      "Epoch 80/100\n",
      "10/10 [==============================] - 36s 4s/step - loss: 1996.2118 - accuracy: 1.0181e-04 - val_loss: 2349.8572 - val_accuracy: 0.0000e+00\n",
      "Epoch 81/100\n",
      "10/10 [==============================] - 36s 4s/step - loss: 1993.7705 - accuracy: 1.0181e-04 - val_loss: 2344.8718 - val_accuracy: 0.0000e+00\n",
      "Epoch 82/100\n",
      "10/10 [==============================] - 36s 4s/step - loss: 1989.9351 - accuracy: 1.0181e-04 - val_loss: 2340.0286 - val_accuracy: 0.0000e+00\n",
      "Epoch 83/100\n",
      "10/10 [==============================] - 37s 4s/step - loss: 1986.2875 - accuracy: 1.0181e-04 - val_loss: 2335.3567 - val_accuracy: 0.0000e+00\n",
      "Epoch 84/100\n",
      "10/10 [==============================] - 38s 4s/step - loss: 1982.7803 - accuracy: 1.0181e-04 - val_loss: 2330.9175 - val_accuracy: 0.0000e+00\n",
      "Epoch 85/100\n",
      "10/10 [==============================] - 37s 4s/step - loss: 1977.7526 - accuracy: 1.0181e-04 - val_loss: 2326.6516 - val_accuracy: 0.0000e+00\n",
      "Epoch 86/100\n",
      "10/10 [==============================] - 37s 4s/step - loss: 1972.3319 - accuracy: 1.0181e-04 - val_loss: 2322.5127 - val_accuracy: 0.0000e+00\n",
      "Epoch 87/100\n",
      "10/10 [==============================] - 37s 4s/step - loss: 1971.7343 - accuracy: 1.0181e-04 - val_loss: 2318.6401 - val_accuracy: 0.0000e+00\n",
      "Epoch 88/100\n",
      "10/10 [==============================] - 37s 4s/step - loss: 1969.3386 - accuracy: 1.0181e-04 - val_loss: 2314.8860 - val_accuracy: 0.0000e+00\n",
      "Epoch 89/100\n",
      "10/10 [==============================] - 37s 4s/step - loss: 1962.7955 - accuracy: 1.0181e-04 - val_loss: 2311.1938 - val_accuracy: 0.0000e+00\n",
      "Epoch 90/100\n",
      "10/10 [==============================] - 37s 4s/step - loss: 1958.1770 - accuracy: 1.0181e-04 - val_loss: 2307.7053 - val_accuracy: 0.0000e+00\n",
      "Epoch 91/100\n",
      "10/10 [==============================] - 37s 4s/step - loss: 1956.7501 - accuracy: 1.0181e-04 - val_loss: 2304.3413 - val_accuracy: 0.0000e+00\n",
      "Epoch 92/100\n",
      "10/10 [==============================] - 37s 4s/step - loss: 1950.2853 - accuracy: 1.0181e-04 - val_loss: 2301.0422 - val_accuracy: 0.0000e+00\n",
      "Epoch 93/100\n",
      "10/10 [==============================] - 37s 4s/step - loss: 1947.1869 - accuracy: 1.0181e-04 - val_loss: 2297.8315 - val_accuracy: 0.0000e+00\n",
      "Epoch 94/100\n",
      "10/10 [==============================] - 37s 4s/step - loss: 1947.4807 - accuracy: 1.0181e-04 - val_loss: 2294.7668 - val_accuracy: 0.0000e+00\n",
      "Epoch 95/100\n",
      "10/10 [==============================] - 37s 4s/step - loss: 1944.3380 - accuracy: 1.0181e-04 - val_loss: 2291.8682 - val_accuracy: 0.0000e+00\n",
      "Epoch 96/100\n",
      "10/10 [==============================] - 37s 4s/step - loss: 1946.3240 - accuracy: 1.0181e-04 - val_loss: 2289.0840 - val_accuracy: 0.0000e+00\n",
      "Epoch 97/100\n",
      "10/10 [==============================] - 37s 4s/step - loss: 1940.5498 - accuracy: 1.0181e-04 - val_loss: 2286.3784 - val_accuracy: 0.0000e+00\n",
      "Epoch 98/100\n",
      "10/10 [==============================] - 37s 4s/step - loss: 1934.9564 - accuracy: 1.0181e-04 - val_loss: 2283.7974 - val_accuracy: 0.0000e+00\n",
      "Epoch 99/100\n",
      "10/10 [==============================] - 38s 4s/step - loss: 1934.0079 - accuracy: 1.0181e-04 - val_loss: 2281.3574 - val_accuracy: 0.0000e+00\n",
      "Epoch 100/100\n",
      "10/10 [==============================] - 37s 4s/step - loss: 1930.0120 - accuracy: 1.0181e-04 - val_loss: 2278.9385 - val_accuracy: 0.0000e+00\n"
     ]
    }
   ],
   "source": [
    "s_history = simple_model.train(train_x[:12278, :, :], s_train_y[:12278, :], batch_size = 128, epochs = 100)"
   ]
  },
  {
   "cell_type": "code",
   "execution_count": 147,
   "metadata": {},
   "outputs": [
    {
     "data": {
      "image/png": "[encoded data removed]",
      "text/plain": [
       "<Figure size 432x288 with 1 Axes>"
      ]
     },
     "metadata": {
      "needs_background": "light"
     },
     "output_type": "display_data"
    }
   ],
   "source": [
    "plt.plot(s_history.history['val_loss'], color = 'red', label = 'test Loss')\n",
    "plt.plot(s_history.history['loss'], color = 'blue', label = 'train Loss')\n",
    "plt.legend()\n",
    "plt.show()\n"
   ]
  },
  {
   "cell_type": "code",
   "execution_count": 142,
   "metadata": {},
   "outputs": [],
   "source": [
    "spredicted_y = simple_model.predict(test_x[:100])"
   ]
  },
  {
   "cell_type": "code",
   "execution_count": null,
   "metadata": {},
   "outputs": [],
   "source": [
    "plt.plot(spredicted_y[1:100], color = 'black')\n",
    "# plt.plot(test_y[1:100, 2], color = 'green')\n",
    "# plt.yscale('log')\n",
    "plt.show()"
   ]
  },
  {
   "cell_type": "code",
   "execution_count": null,
   "metadata": {},
   "outputs": [
    {
     "name": "stdout",
     "output_type": "stream",
     "text": [
      "Epoch 1/100\n",
      "39/39 [==============================] - 89s 2s/step - loss: 3729.8156 - mae: 44.6926 - val_loss: 2885.8191 - val_mae: 34.6914\n",
      "Epoch 2/100\n",
      "39/39 [==============================] - 75s 2s/step - loss: 2241.7819 - mae: 33.2265 - val_loss: 2360.0891 - val_mae: 32.0993\n",
      "Epoch 3/100\n",
      "39/39 [==============================] - 75s 2s/step - loss: 2177.6661 - mae: 32.3880 - val_loss: 2245.8137 - val_mae: 32.2046\n",
      "Epoch 4/100\n",
      "39/39 [==============================] - 74s 2s/step - loss: 1912.0968 - mae: 32.5464 - val_loss: 2231.4407 - val_mae: 32.4936\n",
      "Epoch 5/100\n",
      "39/39 [==============================] - 76s 2s/step - loss: 1865.8628 - mae: 32.5959 - val_loss: 2229.8596 - val_mae: 32.5996\n",
      "Epoch 6/100\n",
      "39/39 [==============================] - 77s 2s/step - loss: 2066.4290 - mae: 32.8376 - val_loss: 2229.7385 - val_mae: 32.6149\n",
      "Epoch 7/100\n",
      "39/39 [==============================] - 74s 2s/step - loss: 1752.7627 - mae: 32.3419 - val_loss: 2229.7603 - val_mae: 32.6119\n",
      "Epoch 8/100\n",
      "39/39 [==============================] - 76s 2s/step - loss: 1717.0243 - mae: 32.2247 - val_loss: 2229.7866 - val_mae: 32.6085\n",
      "Epoch 9/100\n",
      "39/39 [==============================] - 76s 2s/step - loss: 1924.2163 - mae: 32.8628 - val_loss: 2229.8408 - val_mae: 32.6018\n",
      "Epoch 10/100\n",
      "39/39 [==============================] - 75s 2s/step - loss: 1758.8794 - mae: 32.7049 - val_loss: 2229.5840 - val_mae: 32.6414\n",
      "Epoch 11/100\n",
      "39/39 [==============================] - 77s 2s/step - loss: 1772.2548 - mae: 32.5851 - val_loss: 2229.5864 - val_mae: 32.6408\n",
      "Epoch 12/100\n",
      "39/39 [==============================] - 76s 2s/step - loss: 1874.8870 - mae: 32.7720 - val_loss: 2229.8635 - val_mae: 32.5992\n",
      "Epoch 13/100\n",
      "39/39 [==============================] - 74s 2s/step - loss: 1813.5835 - mae: 32.4035 - val_loss: 2229.6990 - val_mae: 32.6207\n",
      "Epoch 14/100\n",
      "39/39 [==============================] - 74s 2s/step - loss: 1863.8593 - mae: 32.6739 - val_loss: 2229.7439 - val_mae: 32.6141\n",
      "Epoch 15/100\n",
      "39/39 [==============================] - 71s 2s/step - loss: 1794.7523 - mae: 32.9209 - val_loss: 2229.6411 - val_mae: 32.6301\n",
      "Epoch 16/100\n",
      "39/39 [==============================] - 74s 2s/step - loss: 1897.3356 - mae: 32.9531 - val_loss: 2230.1792 - val_mae: 32.5691\n",
      "Epoch 17/100\n",
      "39/39 [==============================] - 77s 2s/step - loss: 1897.7001 - mae: 32.9974 - val_loss: 2229.8081 - val_mae: 32.6057\n",
      "Epoch 18/100\n",
      "39/39 [==============================] - 73s 2s/step - loss: 1781.8378 - mae: 32.7430 - val_loss: 2229.7046 - val_mae: 32.6198\n",
      "Epoch 19/100\n",
      "39/39 [==============================] - 76s 2s/step - loss: 1808.1430 - mae: 32.5904 - val_loss: 2229.5801 - val_mae: 32.6422\n",
      "Epoch 20/100\n",
      "39/39 [==============================] - 77s 2s/step - loss: 1886.3401 - mae: 32.2993 - val_loss: 2229.6067 - val_mae: 32.6366\n",
      "Epoch 21/100\n",
      "39/39 [==============================] - 77s 2s/step - loss: 2006.3469 - mae: 32.8651 - val_loss: 2229.8381 - val_mae: 32.6021\n",
      "Epoch 22/100\n",
      "39/39 [==============================] - 73s 2s/step - loss: 1902.3670 - mae: 32.8140 - val_loss: 2229.4861 - val_mae: 32.6734\n",
      "Epoch 23/100\n",
      "39/39 [==============================] - 70s 2s/step - loss: 2049.0586 - mae: 32.6421 - val_loss: 2229.7029 - val_mae: 32.6201\n",
      "Epoch 24/100\n",
      "39/39 [==============================] - 74s 2s/step - loss: 1886.7910 - mae: 32.7595 - val_loss: 2229.5940 - val_mae: 32.6392\n",
      "Epoch 25/100\n",
      "39/39 [==============================] - 76s 2s/step - loss: 1821.2725 - mae: 32.9138 - val_loss: 2229.8535 - val_mae: 32.6003\n",
      "Epoch 26/100\n",
      "39/39 [==============================] - 74s 2s/step - loss: 1789.4783 - mae: 32.7800 - val_loss: 2229.5632 - val_mae: 32.6461\n",
      "Epoch 27/100\n",
      "39/39 [==============================] - 71s 2s/step - loss: 1794.5040 - mae: 32.6994 - val_loss: 2229.4778 - val_mae: 32.6795\n",
      "Epoch 28/100\n",
      "39/39 [==============================] - 70s 2s/step - loss: 1763.5101 - mae: 32.6974 - val_loss: 2229.6189 - val_mae: 32.6342\n",
      "Epoch 29/100\n",
      "39/39 [==============================] - 75s 2s/step - loss: 1888.2468 - mae: 32.7205 - val_loss: 2229.6624 - val_mae: 32.6265\n",
      "Epoch 30/100\n",
      "39/39 [==============================] - 75s 2s/step - loss: 1900.5877 - mae: 32.6187 - val_loss: 2230.2134 - val_mae: 32.5664\n",
      "Epoch 31/100\n",
      "39/39 [==============================] - 76s 2s/step - loss: 1827.6082 - mae: 32.6051 - val_loss: 2229.7617 - val_mae: 32.6117\n",
      "Epoch 32/100\n",
      "39/39 [==============================] - 74s 2s/step - loss: 1790.2839 - mae: 32.6001 - val_loss: 2229.6331 - val_mae: 32.6316\n",
      "Epoch 33/100\n",
      "39/39 [==============================] - 77s 2s/step - loss: 1829.4817 - mae: 32.9734 - val_loss: 2229.7251 - val_mae: 32.6168\n",
      "Epoch 34/100\n",
      "39/39 [==============================] - 75s 2s/step - loss: 1856.3257 - mae: 32.7680 - val_loss: 2229.7559 - val_mae: 32.6125\n",
      "Epoch 35/100\n",
      "39/39 [==============================] - 74s 2s/step - loss: 1805.9005 - mae: 32.5559 - val_loss: 2229.4885 - val_mae: 32.6719\n",
      "Epoch 36/100\n",
      "39/39 [==============================] - 73s 2s/step - loss: 1801.3150 - mae: 32.4463 - val_loss: 2230.1760 - val_mae: 32.5693\n",
      "Epoch 37/100\n",
      "39/39 [==============================] - 77s 2s/step - loss: 2094.1810 - mae: 33.3256 - val_loss: 2229.9626 - val_mae: 32.5886\n",
      "Epoch 38/100\n",
      "39/39 [==============================] - 69s 2s/step - loss: 1944.7529 - mae: 32.8290 - val_loss: 2229.5508 - val_mae: 32.6492\n",
      "Epoch 39/100\n",
      "39/39 [==============================] - 75s 2s/step - loss: 1881.3939 - mae: 32.8085 - val_loss: 2229.7959 - val_mae: 32.6073\n",
      "Epoch 40/100\n",
      "39/39 [==============================] - 76s 2s/step - loss: 1837.3876 - mae: 33.1485 - val_loss: 2230.2178 - val_mae: 32.5660\n",
      "Epoch 41/100\n",
      "39/39 [==============================] - 74s 2s/step - loss: 1997.7591 - mae: 32.6109 - val_loss: 2229.4885 - val_mae: 32.6719\n",
      "Epoch 42/100\n",
      "39/39 [==============================] - 76s 2s/step - loss: 1907.3116 - mae: 32.9275 - val_loss: 2229.8474 - val_mae: 32.6011\n",
      "Epoch 43/100\n",
      "39/39 [==============================] - 77s 2s/step - loss: 1931.0454 - mae: 32.3866 - val_loss: 2229.4780 - val_mae: 32.6795\n",
      "Epoch 44/100\n",
      "39/39 [==============================] - 75s 2s/step - loss: 1859.1919 - mae: 33.1520 - val_loss: 2230.1541 - val_mae: 32.5712\n",
      "Epoch 45/100\n",
      "39/39 [==============================] - 75s 2s/step - loss: 1934.4699 - mae: 32.9760 - val_loss: 2230.0349 - val_mae: 32.5817\n",
      "Epoch 46/100\n",
      "39/39 [==============================] - 77s 2s/step - loss: 1885.5675 - mae: 32.3469 - val_loss: 2229.6265 - val_mae: 32.6328\n",
      "Epoch 47/100\n",
      "39/39 [==============================] - 74s 2s/step - loss: 1933.2118 - mae: 33.1942 - val_loss: 2229.6628 - val_mae: 32.6264\n",
      "Epoch 48/100\n",
      "39/39 [==============================] - 73s 2s/step - loss: 1922.7708 - mae: 32.9037 - val_loss: 2229.6365 - val_mae: 32.6310\n",
      "Epoch 49/100\n",
      "39/39 [==============================] - 74s 2s/step - loss: 2128.6728 - mae: 33.1603 - val_loss: 2230.3538 - val_mae: 32.5557\n",
      "Epoch 50/100\n",
      "39/39 [==============================] - 76s 2s/step - loss: 1912.2971 - mae: 32.7821 - val_loss: 2229.4883 - val_mae: 32.6721\n",
      "Epoch 51/100\n",
      "39/39 [==============================] - 76s 2s/step - loss: 1828.1474 - mae: 32.8474 - val_loss: 2229.8523 - val_mae: 32.6004\n",
      "Epoch 52/100\n",
      "39/39 [==============================] - 76s 2s/step - loss: 1875.3465 - mae: 32.5920 - val_loss: 2229.5583 - val_mae: 32.6474\n",
      "Epoch 53/100\n",
      "39/39 [==============================] - 77s 2s/step - loss: 1915.2822 - mae: 32.9709 - val_loss: 2230.1506 - val_mae: 32.5715\n",
      "Epoch 54/100\n",
      "39/39 [==============================] - 74s 2s/step - loss: 1889.2135 - mae: 32.4707 - val_loss: 2229.5283 - val_mae: 32.6556\n",
      "Epoch 55/100\n",
      "39/39 [==============================] - 73s 2s/step - loss: 1742.1725 - mae: 31.9964 - val_loss: 2229.5950 - val_mae: 32.7504\n",
      "Epoch 56/100\n",
      "39/39 [==============================] - 73s 2s/step - loss: 1926.9664 - mae: 33.0941 - val_loss: 2230.8430 - val_mae: 32.5244\n",
      "Epoch 57/100\n",
      "39/39 [==============================] - 75s 2s/step - loss: 1969.5165 - mae: 32.6557 - val_loss: 2229.4722 - val_mae: 32.7004\n",
      "Epoch 58/100\n",
      "39/39 [==============================] - 73s 2s/step - loss: 1754.4244 - mae: 32.4035 - val_loss: 2229.4980 - val_mae: 32.7201\n",
      "Epoch 59/100\n",
      "39/39 [==============================] - 75s 2s/step - loss: 1841.8893 - mae: 32.6468 - val_loss: 2229.7910 - val_mae: 32.6079\n",
      "Epoch 60/100\n",
      "39/39 [==============================] - 76s 2s/step - loss: 2015.7027 - mae: 32.9623 - val_loss: 2229.8748 - val_mae: 32.5979\n",
      "Epoch 61/100\n",
      "39/39 [==============================] - 71s 2s/step - loss: 2095.6491 - mae: 33.1734 - val_loss: 2230.5259 - val_mae: 32.5438\n",
      "Epoch 62/100\n",
      "39/39 [==============================] - 73s 2s/step - loss: 2121.7380 - mae: 32.6671 - val_loss: 2229.7686 - val_mae: 32.6108\n",
      "Epoch 63/100\n",
      "39/39 [==============================] - 74s 2s/step - loss: 1720.3559 - mae: 32.4858 - val_loss: 2229.4841 - val_mae: 32.6748\n",
      "Epoch 64/100\n",
      "39/39 [==============================] - 73s 2s/step - loss: 1906.0201 - mae: 33.0009 - val_loss: 2230.9468 - val_mae: 32.5187\n",
      "Epoch 65/100\n",
      "39/39 [==============================] - 71s 2s/step - loss: 1694.5557 - mae: 32.3460 - val_loss: 2230.8713 - val_mae: 32.5228\n",
      "Epoch 66/100\n",
      "39/39 [==============================] - 74s 2s/step - loss: 1985.4395 - mae: 32.9174 - val_loss: 2229.5720 - val_mae: 32.6440\n",
      "Epoch 67/100\n",
      "39/39 [==============================] - 72s 2s/step - loss: 1958.6939 - mae: 33.1401 - val_loss: 2230.5801 - val_mae: 32.5403\n",
      "Epoch 68/100\n",
      "39/39 [==============================] - 75s 2s/step - loss: 1976.5057 - mae: 32.9797 - val_loss: 2229.5208 - val_mae: 32.6583\n",
      "Epoch 69/100\n",
      "39/39 [==============================] - 76s 2s/step - loss: 1914.5454 - mae: 33.2068 - val_loss: 2229.4995 - val_mae: 32.6663\n",
      "Epoch 70/100\n",
      "39/39 [==============================] - 74s 2s/step - loss: 1764.6881 - mae: 32.6651 - val_loss: 2230.3596 - val_mae: 32.5553\n",
      "Epoch 71/100\n",
      " 7/39 [====>.........................] - ETA: 55s - loss: 1630.3519 - mae: 32.0657"
     ]
    }
   ],
   "source": [
    "spredicted_ys_history2 = simple_model.train(train_x[:12278, :, :], s_train_y[:12278, :], batch_size = 256, epochs = 100)"
   ]
  },
  {
   "cell_type": "code",
   "execution_count": 160,
   "metadata": {},
   "outputs": [
    {
     "data": {
      "text/plain": [
       "array([  0.86,  48.24,  87.32, ..., 105.81,  55.4 ,  23.59], dtype=float32)"
      ]
     },
     "execution_count": 160,
     "metadata": {},
     "output_type": "execute_result"
    }
   ],
   "source": [
    "test_y[:, 2]"
   ]
  },
  {
   "cell_type": "code",
   "execution_count": 16,
   "metadata": {
    "execution": {
     "iopub.execute_input": "2021-07-01T08:06:14.416786Z",
     "iopub.status.busy": "2021-07-01T08:06:14.416104Z",
     "iopub.status.idle": "2021-07-01T08:07:51.254038Z",
     "shell.execute_reply": "2021-07-01T08:07:51.252639Z",
     "shell.execute_reply.started": "2021-07-01T08:06:14.416741Z"
    }
   },
   "outputs": [
    {
     "name": "stdout",
     "output_type": "stream",
     "text": [
      "(4000, 7)\n",
      "(4000, 5727)\n",
      "======== Making X and Y Tensors ==========\n",
      "- - - -  X Tensor founded on Local Drive - - - - \n",
      "- - - -  Reading X TENSOR - - - - \n",
      "type:: <class 'numpy.float64'>\n",
      "Input X by shape: (4000, 5727) is rolled to X Tensor:  (3872, 128, 5727)\n"
     ]
    }
   ],
   "source": [
    "pr = Preprocessor(df.iloc[:4000, :10])\n",
    "train_x, test_x, train_y, test_y = pr.pre_process(selected_features, \n",
    "               [\"TX_AMOUNT\"],\n",
    "               numericals = [[\"TX_AMOUNT\", \"TX_TIME_SECONDS\",'TX_TIME_DAYS'],[\"TX_AMOUNT\"]],\n",
    "              categoricals = [[\"CUSTOMER_ID\", \"TERMINAL_ID\", \"WEEK_DAY\", \"TX_FRAUD_SCENARIO\"],None])\n",
    "               "
   ]
  },
  {
   "cell_type": "code",
   "execution_count": 18,
   "metadata": {
    "execution": {
     "iopub.execute_input": "2021-07-01T08:10:23.133907Z",
     "iopub.status.busy": "2021-07-01T08:10:23.133500Z",
     "iopub.status.idle": "2021-07-01T08:10:24.674806Z",
     "shell.execute_reply": "2021-07-01T08:10:24.673605Z",
     "shell.execute_reply.started": "2021-07-01T08:10:23.133859Z"
    }
   },
   "outputs": [
    {
     "name": "stdout",
     "output_type": "stream",
     "text": [
      "Model: \"sequential\"\n",
      "_________________________________________________________________\n",
      "Layer (type)                 Output Shape              Param #   \n",
      "=================================================================\n",
      "lstm (LSTM)                  (None, 128, 80)           1858560   \n",
      "_________________________________________________________________\n",
      "dropout (Dropout)            (None, 128, 80)           0         \n",
      "_________________________________________________________________\n",
      "lstm_1 (LSTM)                (None, 128, 80)           51520     \n",
      "_________________________________________________________________\n",
      "dropout_1 (Dropout)          (None, 128, 80)           0         \n",
      "_________________________________________________________________\n",
      "lstm_2 (LSTM)                (None, 80)                51520     \n",
      "_________________________________________________________________\n",
      "dropout_2 (Dropout)          (None, 80)                0         \n",
      "_________________________________________________________________\n",
      "dense (Dense)                (None, 1)                 81        \n",
      "=================================================================\n",
      "Total params: 1,961,681\n",
      "Trainable params: 1,961,681\n",
      "Non-trainable params: 0\n",
      "_________________________________________________________________\n",
      "Model Summary: \n",
      "\n",
      " None\n"
     ]
    }
   ],
   "source": [
    "normal_model = LSTM_REGRESSION(train_x.shape[1:], \n",
    "                               lstm_units = 80, \n",
    "                               n_outputs = train_y.shape[1], \n",
    "                               optimizer = optimizers.Adam(learning_rate = 0.01))"
   ]
  },
  {
   "cell_type": "code",
   "execution_count": null,
   "metadata": {
    "execution": {
     "iopub.execute_input": "2021-07-01T08:10:32.888836Z",
     "iopub.status.busy": "2021-07-01T08:10:32.888426Z"
    }
   },
   "outputs": [],
   "source": [
    "n_history = normal_model.train(train_x, train_y, epochs = 100)"
   ]
  },
  {
   "cell_type": "code",
   "execution_count": 19,
   "metadata": {},
   "outputs": [],
   "source": [
    "with open(\"n_history_n.pickle\", 'rb') as file:\n",
    "    n_history = pickle.load(file)"
   ]
  },
  {
   "cell_type": "code",
   "execution_count": 29,
   "metadata": {},
   "outputs": [
    {
     "data": {
      "image/png": "[encoded data removed]",
      "text/plain": [
       "<Figure size 1152x576 with 1 Axes>"
      ]
     },
     "metadata": {
      "needs_background": "light"
     },
     "output_type": "display_data"
    }
   ],
   "source": [
    "plt.figure(figsize=(16,8))\n",
    "plt.plot(n_history['val_loss'], color = 'red', label = 'Validation Loss')\n",
    "plt.plot(n_history['loss'], color = 'blue', label = 'Training Loss')\n",
    "plt.yscale('log')\n",
    "plt.legend()\n",
    "plt.show()"
   ]
  }
 ],
 "metadata": {
  "kernelspec": {
   "display_name": "tensorflow",
   "language": "python",
   "name": "tensorflow"
  },
  "language_info": {
   "codemirror_mode": {
    "name": "ipython",
    "version": 3
   },
   "file_extension": ".py",
   "mimetype": "text/x-python",
   "name": "python",
   "nbconvert_exporter": "python",
   "pygments_lexer": "ipython3",
   "version": "3.8.10"
  }
 },
 "nbformat": 4,
 "nbformat_minor": 4
}
